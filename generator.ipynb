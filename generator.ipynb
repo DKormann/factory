{
 "cells": [
  {
   "cell_type": "code",
   "execution_count": 1,
   "metadata": {},
   "outputs": [],
   "source": [
    "import random\n",
    "import json"
   ]
  },
  {
   "cell_type": "code",
   "execution_count": 2,
   "metadata": {},
   "outputs": [],
   "source": [
    "from lib.html_generator import preview_component as view\n",
    "from lib.html_generator import extract_vectorimage as extract\n",
    "from lib.html_generator import svg_to_component as compose\n",
    "from lib.html_generator import browse_question as browse\n",
    "from lib.local_database import Database, Collection, get_question"
   ]
  },
  {
   "cell_type": "code",
   "execution_count": 3,
   "metadata": {},
   "outputs": [],
   "source": [
    "random.seed(22)"
   ]
  },
  {
   "attachments": {},
   "cell_type": "markdown",
   "metadata": {},
   "source": [
    "# design"
   ]
  },
  {
   "cell_type": "code",
   "execution_count": 4,
   "metadata": {},
   "outputs": [],
   "source": [
    "def permute(*ranges, res = None, fixed_args = []):\n",
    "    if res == None:\n",
    "        res = []\n",
    "\n",
    "    next_arglist = ranges[0]\n",
    "    rest_arglists = ranges[1:]\n",
    "\n",
    "    for arg in next_arglist:\n",
    "        true_arguments = fixed_args + [arg]\n",
    "        if len(rest_arglists)!=0:\n",
    "            permute(*rest_arglists,fixed_args=true_arguments,res = res)\n",
    "        else:\n",
    "            res.append(true_arguments)\n",
    "    return res\n"
   ]
  },
  {
   "cell_type": "code",
   "execution_count": 5,
   "metadata": {},
   "outputs": [],
   "source": [
    "example_question = get_question(\"was ist 1 + {}<br> <input> <p></p>\",\"2\",[1],\"\")"
   ]
  },
  {
   "cell_type": "code",
   "execution_count": 6,
   "metadata": {},
   "outputs": [
    {
     "name": "stdout",
     "output_type": "stream",
     "text": [
      "view file:///Users/peergynt/fun/svelte/monsun/factory/question.html in browser\n"
     ]
    }
   ],
   "source": [
    "browse(example_question)"
   ]
  },
  {
   "cell_type": "code",
   "execution_count": 7,
   "metadata": {},
   "outputs": [
    {
     "name": "stdout",
     "output_type": "stream",
     "text": [
      " file:///Users/peergynt/fun/svelte/monsun/generator/question.html \n"
     ]
    }
   ],
   "source": [
    "print(' file:///Users/peergynt/fun/svelte/monsun/generator/question.html ')"
   ]
  },
  {
   "attachments": {},
   "cell_type": "markdown",
   "metadata": {},
   "source": [
    "# local database"
   ]
  },
  {
   "attachments": {},
   "cell_type": "markdown",
   "metadata": {},
   "source": [
    "# generate"
   ]
  },
  {
   "attachments": {},
   "cell_type": "markdown",
   "metadata": {},
   "source": [
    "## 4.klasse"
   ]
  },
  {
   "cell_type": "code",
   "execution_count": 8,
   "metadata": {},
   "outputs": [],
   "source": [
    "db = Database()"
   ]
  },
  {
   "cell_type": "code",
   "execution_count": 9,
   "metadata": {},
   "outputs": [
    {
     "data": {
      "text/plain": [
       "<Database collections:>"
      ]
     },
     "execution_count": 9,
     "metadata": {},
     "output_type": "execute_result"
    }
   ],
   "source": [
    "db"
   ]
  },
  {
   "cell_type": "code",
   "execution_count": 10,
   "metadata": {},
   "outputs": [],
   "source": [
    "# stellenwerttafel\n",
    "collection:Collection = db.get_collection(\"math\",\"C\")"
   ]
  },
  {
   "cell_type": "markdown",
   "metadata": {},
   "source": [
    "## C"
   ]
  },
  {
   "attachments": {},
   "cell_type": "markdown",
   "metadata": {},
   "source": [
    "### stellenwerttafel"
   ]
  },
  {
   "cell_type": "code",
   "execution_count": 11,
   "metadata": {},
   "outputs": [
    {
     "data": {
      "text/html": [
       "\n",
       "<body>\n",
       "    <div class = mycomps>\n",
       "    \n",
       "<p>Zerlege die zahlen und trage sie in die Stellenwerttafel ein</p>\n",
       "<p>{} = <input style=\"width:4.3em\"> + <input style=\"width:3.7em\"> + <input style=\"width:3em\"> + <input style=\"width:2.5em\">+ <input style=\"width:1.9em\"> + <input style=\"width:1.3em\"> + <input style=\"width:.7em\"></p>\n",
       "<div class = \"graphic\" style = \"margin:auto;width:80vw;height:11.510947214650917vw;position:relative\">\n",
       "    <svg height=\"100%\" stroke-miterlimit=\"10\" style=\"fill-rule:nonzero;clip-rule:evenodd;stroke-linecap:round;stroke-linejoin:round;\" version=\"1.1\" viewBox=\"0 0 841.995 121.152\" width=\"100%\" xml:space=\"preserve\" xmlns=\"http://www.w3.org/2000/svg\" xmlns:vectornator=\"http://vectornator.io\" xmlns:xlink=\"http://www.w3.org/1999/xlink\">\n",
       "<path d=\"M279.284 12.5122L562.711 12.5122L562.711 102.231L279.284 102.231L279.284 12.5122Z\" fill=\"none\" opacity=\"1\" stroke=\"#000000\" stroke-linecap=\"round\" stroke-linejoin=\"round\" stroke-width=\"3\"/>\n",
       "<path d=\"M283.618 56.8315L557.17 57.6307\" fill=\"none\" opacity=\"1\" stroke=\"#000000\" stroke-linecap=\"round\" stroke-linejoin=\"round\" stroke-width=\"3\"/>\n",
       "<path d=\"M319.419 25.9677L319.651 87.5203\" fill=\"none\" opacity=\"1\" stroke=\"#000000\" stroke-linecap=\"round\" stroke-linejoin=\"round\" stroke-width=\"3\"/>\n",
       "<path d=\"M360.118 26.7168L359.404 87.4565\" fill=\"none\" opacity=\"1\" stroke=\"#000000\" stroke-linecap=\"round\" stroke-linejoin=\"round\" stroke-width=\"3\"/>\n",
       "<path d=\"M399.609 25.9021L399.79 86.5634\" fill=\"none\" opacity=\"1\" stroke=\"#000000\" stroke-linecap=\"round\" stroke-linejoin=\"round\" stroke-width=\"3\"/>\n",
       "<path d=\"M440.026 25.4336L439.982 86.3173\" fill=\"none\" opacity=\"1\" stroke=\"#000000\" stroke-linecap=\"round\" stroke-linejoin=\"round\" stroke-width=\"3\"/>\n",
       "<path d=\"M480.036 26.4197L480.287 86.2535\" fill=\"none\" opacity=\"1\" stroke=\"#000000\" stroke-linecap=\"round\" stroke-linejoin=\"round\" stroke-width=\"3\"/>\n",
       "<path d=\"M520.423 26.9975L520.028 85.8854\" fill=\"none\" opacity=\"1\" stroke=\"#000000\" stroke-linecap=\"round\" stroke-linejoin=\"round\" stroke-width=\"3\"/>\n",
       "</svg>\n",
       "\n",
       "<input readonly style=\"top:20%;left:34.4%;width:3.1%;position:absolute\" value = \"M\"></input>\n",
       "<input readonly style=\"top:20%;left:39.0%;width:3.1%;position:absolute\" value = \"HT\"></input>\n",
       "<input readonly style=\"top:20%;left:43.8%;width:3.1%;position:absolute\" value = \"ZT\"></input>\n",
       "<input readonly style=\"top:20%;left:48.4%;width:3.1%;position:absolute\" value = \"T\"></input>\n",
       "<input readonly style=\"top:20%;left:53.2%;width:3.1%;position:absolute\" value = \"H\"></input>\n",
       "<input readonly style=\"top:20%;left:58.0%;width:3.1%;position:absolute\" value = \"Z\"></input>\n",
       "<input readonly style=\"top:20%;left:62.7%;width:3.1%;position:absolute\" value = \"E\"></input>\n",
       "\n",
       "\n",
       "<input style=\"top:52%;left:34.4%;width:3%;position:absolute\" ></input>\n",
       "<input style=\"top:52%;left:39.0%;width:3%;position:absolute\" ></input>\n",
       "<input style=\"top:52%;left:43.8%;width:3%;position:absolute\" ></input>\n",
       "<input style=\"top:52%;left:48.4%;width:3%;position:absolute\" ></input>\n",
       "<input style=\"top:52%;left:53.2%;width:3%;position:absolute\" ></input>\n",
       "<input style=\"top:52%;left:58.0%;width:3%;position:absolute\" ></input>\n",
       "<input style=\"top:52%;left:62.7%;width:3%;position:absolute\" ></input>\n",
       "      \n",
       "</div>\n",
       "    </div>\n",
       "\n",
       "</body>\n",
       "</html>\n",
       "\n",
       "<style>\n",
       "    .mycomps{\n",
       "        color:black;\n",
       "        background-color: #fff8;\n",
       "        --color:aliceblue;\n",
       "        text-align:center;\n",
       "        font-size:1.2em;\n",
       "    }\n",
       "\n",
       "    input{\n",
       "        all:unset;\n",
       "        background:white;\n",
       "        text-align:left;\n",
       "        font-size:1em;\n",
       "        font-family:monospace;\n",
       "    }\n",
       "    svg{\n",
       "        position: absolute;\n",
       "        top:0px;\n",
       "        left:0px;\n",
       "    }\n",
       "    .field{\n",
       "        top:40%;\n",
       "        left:60%;\n",
       "        position: inherit;\n",
       "        border:unset;\n",
       "        width:2em;\n",
       "    }\n",
       "    table, tr, th{\n",
       "        border:1px solid black;\n",
       "    }\n",
       "\n",
       "</style>"
      ],
      "text/plain": [
       "<IPython.core.display.HTML object>"
      ]
     },
     "metadata": {},
     "output_type": "display_data"
    }
   ],
   "source": [
    "a = extract(\"./vector_files/table_2x7x1.svg\")\n",
    "\n",
    "inp = \"\"\"\n",
    "<input readonly style=\"top:20%;left:34.4%;width:3.1%;position:absolute\" value = \"M\"></input>\n",
    "<input readonly style=\"top:20%;left:39.0%;width:3.1%;position:absolute\" value = \"HT\"></input>\n",
    "<input readonly style=\"top:20%;left:43.8%;width:3.1%;position:absolute\" value = \"ZT\"></input>\n",
    "<input readonly style=\"top:20%;left:48.4%;width:3.1%;position:absolute\" value = \"T\"></input>\n",
    "<input readonly style=\"top:20%;left:53.2%;width:3.1%;position:absolute\" value = \"H\"></input>\n",
    "<input readonly style=\"top:20%;left:58.0%;width:3.1%;position:absolute\" value = \"Z\"></input>\n",
    "<input readonly style=\"top:20%;left:62.7%;width:3.1%;position:absolute\" value = \"E\"></input>\n",
    "\n",
    "\n",
    "<input style=\"top:52%;left:34.4%;width:3%;position:absolute\" ></input>\n",
    "<input style=\"top:52%;left:39.0%;width:3%;position:absolute\" ></input>\n",
    "<input style=\"top:52%;left:43.8%;width:3%;position:absolute\" ></input>\n",
    "<input style=\"top:52%;left:48.4%;width:3%;position:absolute\" ></input>\n",
    "<input style=\"top:52%;left:53.2%;width:3%;position:absolute\" ></input>\n",
    "<input style=\"top:52%;left:58.0%;width:3%;position:absolute\" ></input>\n",
    "<input style=\"top:52%;left:62.7%;width:3%;position:absolute\" ></input>\n",
    "\"\"\"\n",
    "\n",
    "a = a+inp\n",
    "comp= compose(a)\n",
    "\n",
    "txt = '''\n",
    "<p>Zerlege die zahlen und trage sie in die Stellenwerttafel ein</p>\n",
    "<p>{} = <input style=\"width:4.3em\"> + <input style=\"width:3.7em\"> + <input style=\"width:3em\"> + <input style=\"width:2.5em\">+ <input style=\"width:1.9em\"> + <input style=\"width:1.3em\"> + <input style=\"width:.7em\"></p>\n",
    "'''\n",
    "\n",
    "comp = txt + comp\n",
    "\n",
    "view(comp)"
   ]
  },
  {
   "cell_type": "code",
   "execution_count": 12,
   "metadata": {},
   "outputs": [],
   "source": [
    "keys= [random.randint(1e6,9e6) for _ in range(10)]\n",
    "titles = [*map (lambda k: comp.format(str(k)),keys)]\n",
    "def solve(key):\n",
    "    sols = []\n",
    "    stw  = []\n",
    "    for i in range(7,0,-1):\n",
    "        s = key%10**i\n",
    "        s = s // 10 **(i-1)\n",
    "        sols.append(str(s*10**(i-1)))\n",
    "        stw.append(str(s))\n",
    "    return json.dumps(sols+stw)\n",
    "solve(20938)\n",
    "solutions = [*map (lambda k: solve(k),keys)]"
   ]
  },
  {
   "cell_type": "code",
   "execution_count": 13,
   "metadata": {},
   "outputs": [
    {
     "data": {
      "text/html": [
       "\n",
       "<body>\n",
       "    <div class = mycomps>\n",
       "    \n",
       "<p>Zerlege die zahlen und trage sie in die Stellenwerttafel ein</p>\n",
       "<p>1198106 = <input style=\"width:4.3em\"> + <input style=\"width:3.7em\"> + <input style=\"width:3em\"> + <input style=\"width:2.5em\">+ <input style=\"width:1.9em\"> + <input style=\"width:1.3em\"> + <input style=\"width:.7em\"></p>\n",
       "<div class = \"graphic\" style = \"margin:auto;width:80vw;height:11.510947214650917vw;position:relative\">\n",
       "    <svg height=\"100%\" stroke-miterlimit=\"10\" style=\"fill-rule:nonzero;clip-rule:evenodd;stroke-linecap:round;stroke-linejoin:round;\" version=\"1.1\" viewBox=\"0 0 841.995 121.152\" width=\"100%\" xml:space=\"preserve\" xmlns=\"http://www.w3.org/2000/svg\" xmlns:vectornator=\"http://vectornator.io\" xmlns:xlink=\"http://www.w3.org/1999/xlink\">\n",
       "<path d=\"M279.284 12.5122L562.711 12.5122L562.711 102.231L279.284 102.231L279.284 12.5122Z\" fill=\"none\" opacity=\"1\" stroke=\"#000000\" stroke-linecap=\"round\" stroke-linejoin=\"round\" stroke-width=\"3\"/>\n",
       "<path d=\"M283.618 56.8315L557.17 57.6307\" fill=\"none\" opacity=\"1\" stroke=\"#000000\" stroke-linecap=\"round\" stroke-linejoin=\"round\" stroke-width=\"3\"/>\n",
       "<path d=\"M319.419 25.9677L319.651 87.5203\" fill=\"none\" opacity=\"1\" stroke=\"#000000\" stroke-linecap=\"round\" stroke-linejoin=\"round\" stroke-width=\"3\"/>\n",
       "<path d=\"M360.118 26.7168L359.404 87.4565\" fill=\"none\" opacity=\"1\" stroke=\"#000000\" stroke-linecap=\"round\" stroke-linejoin=\"round\" stroke-width=\"3\"/>\n",
       "<path d=\"M399.609 25.9021L399.79 86.5634\" fill=\"none\" opacity=\"1\" stroke=\"#000000\" stroke-linecap=\"round\" stroke-linejoin=\"round\" stroke-width=\"3\"/>\n",
       "<path d=\"M440.026 25.4336L439.982 86.3173\" fill=\"none\" opacity=\"1\" stroke=\"#000000\" stroke-linecap=\"round\" stroke-linejoin=\"round\" stroke-width=\"3\"/>\n",
       "<path d=\"M480.036 26.4197L480.287 86.2535\" fill=\"none\" opacity=\"1\" stroke=\"#000000\" stroke-linecap=\"round\" stroke-linejoin=\"round\" stroke-width=\"3\"/>\n",
       "<path d=\"M520.423 26.9975L520.028 85.8854\" fill=\"none\" opacity=\"1\" stroke=\"#000000\" stroke-linecap=\"round\" stroke-linejoin=\"round\" stroke-width=\"3\"/>\n",
       "</svg>\n",
       "\n",
       "<input readonly style=\"top:20%;left:34.4%;width:3.1%;position:absolute\" value = \"M\"></input>\n",
       "<input readonly style=\"top:20%;left:39.0%;width:3.1%;position:absolute\" value = \"HT\"></input>\n",
       "<input readonly style=\"top:20%;left:43.8%;width:3.1%;position:absolute\" value = \"ZT\"></input>\n",
       "<input readonly style=\"top:20%;left:48.4%;width:3.1%;position:absolute\" value = \"T\"></input>\n",
       "<input readonly style=\"top:20%;left:53.2%;width:3.1%;position:absolute\" value = \"H\"></input>\n",
       "<input readonly style=\"top:20%;left:58.0%;width:3.1%;position:absolute\" value = \"Z\"></input>\n",
       "<input readonly style=\"top:20%;left:62.7%;width:3.1%;position:absolute\" value = \"E\"></input>\n",
       "\n",
       "\n",
       "<input style=\"top:52%;left:34.4%;width:3%;position:absolute\" ></input>\n",
       "<input style=\"top:52%;left:39.0%;width:3%;position:absolute\" ></input>\n",
       "<input style=\"top:52%;left:43.8%;width:3%;position:absolute\" ></input>\n",
       "<input style=\"top:52%;left:48.4%;width:3%;position:absolute\" ></input>\n",
       "<input style=\"top:52%;left:53.2%;width:3%;position:absolute\" ></input>\n",
       "<input style=\"top:52%;left:58.0%;width:3%;position:absolute\" ></input>\n",
       "<input style=\"top:52%;left:62.7%;width:3%;position:absolute\" ></input>\n",
       "      \n",
       "</div>\n",
       "    </div>\n",
       "\n",
       "</body>\n",
       "</html>\n",
       "\n",
       "<style>\n",
       "    .mycomps{\n",
       "        color:black;\n",
       "        background-color: #fff8;\n",
       "        --color:aliceblue;\n",
       "        text-align:center;\n",
       "        font-size:1.2em;\n",
       "    }\n",
       "\n",
       "    input{\n",
       "        all:unset;\n",
       "        background:white;\n",
       "        text-align:left;\n",
       "        font-size:1em;\n",
       "        font-family:monospace;\n",
       "    }\n",
       "    svg{\n",
       "        position: absolute;\n",
       "        top:0px;\n",
       "        left:0px;\n",
       "    }\n",
       "    .field{\n",
       "        top:40%;\n",
       "        left:60%;\n",
       "        position: inherit;\n",
       "        border:unset;\n",
       "        width:2em;\n",
       "    }\n",
       "    table, tr, th{\n",
       "        border:1px solid black;\n",
       "    }\n",
       "\n",
       "</style>"
      ],
      "text/plain": [
       "<IPython.core.display.HTML object>"
      ]
     },
     "metadata": {},
     "output_type": "display_data"
    },
    {
     "data": {
      "text/plain": [
       "'[\"1000000\", \"100000\", \"90000\", \"8000\", \"100\", \"0\", \"6\", \"1\", \"1\", \"9\", \"8\", \"1\", \"0\", \"6\"]'"
      ]
     },
     "execution_count": 13,
     "metadata": {},
     "output_type": "execute_result"
    }
   ],
   "source": [
    "view(titles[3])\n",
    "solutions[3]"
   ]
  },
  {
   "cell_type": "code",
   "execution_count": 14,
   "metadata": {},
   "outputs": [
    {
     "data": {
      "text/html": [
       "\n",
       "<body>\n",
       "    <div class = mycomps>\n",
       "    \n",
       "<p> in einem Zahlensystem kannst du immer 10 zu einer größeren einheit bündeln </p>\n",
       "<br></br>\n",
       "<p>10 Einer (E) -> 1 Zehner (Z)</p>\n",
       "<p>10 Zehner (E) -> 1 Hunderter (Z)</p>\n",
       "<p>10 Hunderter (E) -> 1 Tausender (Z)</p>\n",
       "<p>10 Tausender (E) -> 1 Zehntausender (Z)</p>\n",
       "<p>10 Zehntausender (E) -> 1 Hunderttausender (Z)</p>\n",
       "<br></br>\n",
       "<p>Zahlen kannst du zerlegen und in eine Stellenwerttafel eintragen:</p>\n",
       "<br></br>\n",
       "0M 5HT 6ZT 3T 4H 8Z 1E =\n",
       "<br></br>\n",
       "0 + 500000 + 60000 + 3000 + 400 + 80 + 1 = 563481\n",
       "<div class = \"graphic\" style = \"margin:auto;width:80vw;height:11.510947214650917vw;position:relative\">\n",
       "    <svg height=\"100%\" stroke-miterlimit=\"10\" style=\"fill-rule:nonzero;clip-rule:evenodd;stroke-linecap:round;stroke-linejoin:round;\" version=\"1.1\" viewBox=\"0 0 841.995 121.152\" width=\"100%\" xml:space=\"preserve\" xmlns=\"http://www.w3.org/2000/svg\" xmlns:vectornator=\"http://vectornator.io\" xmlns:xlink=\"http://www.w3.org/1999/xlink\">\n",
       "<path d=\"M279.284 12.5122L562.711 12.5122L562.711 102.231L279.284 102.231L279.284 12.5122Z\" fill=\"none\" opacity=\"1\" stroke=\"#000000\" stroke-linecap=\"round\" stroke-linejoin=\"round\" stroke-width=\"3\"/>\n",
       "<path d=\"M283.618 56.8315L557.17 57.6307\" fill=\"none\" opacity=\"1\" stroke=\"#000000\" stroke-linecap=\"round\" stroke-linejoin=\"round\" stroke-width=\"3\"/>\n",
       "<path d=\"M319.419 25.9677L319.651 87.5203\" fill=\"none\" opacity=\"1\" stroke=\"#000000\" stroke-linecap=\"round\" stroke-linejoin=\"round\" stroke-width=\"3\"/>\n",
       "<path d=\"M360.118 26.7168L359.404 87.4565\" fill=\"none\" opacity=\"1\" stroke=\"#000000\" stroke-linecap=\"round\" stroke-linejoin=\"round\" stroke-width=\"3\"/>\n",
       "<path d=\"M399.609 25.9021L399.79 86.5634\" fill=\"none\" opacity=\"1\" stroke=\"#000000\" stroke-linecap=\"round\" stroke-linejoin=\"round\" stroke-width=\"3\"/>\n",
       "<path d=\"M440.026 25.4336L439.982 86.3173\" fill=\"none\" opacity=\"1\" stroke=\"#000000\" stroke-linecap=\"round\" stroke-linejoin=\"round\" stroke-width=\"3\"/>\n",
       "<path d=\"M480.036 26.4197L480.287 86.2535\" fill=\"none\" opacity=\"1\" stroke=\"#000000\" stroke-linecap=\"round\" stroke-linejoin=\"round\" stroke-width=\"3\"/>\n",
       "<path d=\"M520.423 26.9975L520.028 85.8854\" fill=\"none\" opacity=\"1\" stroke=\"#000000\" stroke-linecap=\"round\" stroke-linejoin=\"round\" stroke-width=\"3\"/>\n",
       "</svg>\n",
       "\n",
       "<input readonly style=\"top:20%;left:34.4%;width:3.1%;position:absolute\" value = \"M\"></input>\n",
       "<input readonly style=\"top:20%;left:39.0%;width:3.1%;position:absolute\" value = \"HT\"></input>\n",
       "<input readonly style=\"top:20%;left:43.8%;width:3.1%;position:absolute\" value = \"ZT\"></input>\n",
       "<input readonly style=\"top:20%;left:48.4%;width:3.1%;position:absolute\" value = \"T\"></input>\n",
       "<input readonly style=\"top:20%;left:53.2%;width:3.1%;position:absolute\" value = \"H\"></input>\n",
       "<input readonly style=\"top:20%;left:58.0%;width:3.1%;position:absolute\" value = \"Z\"></input>\n",
       "<input readonly style=\"top:20%;left:62.7%;width:3.1%;position:absolute\" value = \"E\"></input>\n",
       "\n",
       "\n",
       "<input style=\"top:52%;left:34.4%;width:3%;position:absolute\" value = \"0\" ></input>\n",
       "<input style=\"top:52%;left:39.0%;width:3%;position:absolute\" value = \"5\" ></input>\n",
       "<input style=\"top:52%;left:43.8%;width:3%;position:absolute\" value = \"6\" ></input>\n",
       "<input style=\"top:52%;left:48.4%;width:3%;position:absolute\" value = \"3\" ></input>\n",
       "<input style=\"top:52%;left:53.2%;width:3%;position:absolute\" value = \"4\" ></input>\n",
       "<input style=\"top:52%;left:58.0%;width:3%;position:absolute\" value = \"8\" ></input>\n",
       "<input style=\"top:52%;left:62.7%;width:3%;position:absolute\" value = \"1\" ></input>\n",
       "      \n",
       "</div>\n",
       "    </div>\n",
       "\n",
       "</body>\n",
       "</html>\n",
       "\n",
       "<style>\n",
       "    .mycomps{\n",
       "        color:black;\n",
       "        background-color: #fff8;\n",
       "        --color:aliceblue;\n",
       "        text-align:center;\n",
       "        font-size:1.2em;\n",
       "    }\n",
       "\n",
       "    input{\n",
       "        all:unset;\n",
       "        background:white;\n",
       "        text-align:left;\n",
       "        font-size:1em;\n",
       "        font-family:monospace;\n",
       "    }\n",
       "    svg{\n",
       "        position: absolute;\n",
       "        top:0px;\n",
       "        left:0px;\n",
       "    }\n",
       "    .field{\n",
       "        top:40%;\n",
       "        left:60%;\n",
       "        position: inherit;\n",
       "        border:unset;\n",
       "        width:2em;\n",
       "    }\n",
       "    table, tr, th{\n",
       "        border:1px solid black;\n",
       "    }\n",
       "\n",
       "</style>"
      ],
      "text/plain": [
       "<IPython.core.display.HTML object>"
      ]
     },
     "metadata": {},
     "output_type": "display_data"
    }
   ],
   "source": [
    "tip = '''\n",
    "<p> in einem Zahlensystem kannst du immer 10 zu einer größeren einheit bündeln </p>\n",
    "<br></br>\n",
    "<p>10 Einer (E) -> 1 Zehner (Z)</p>\n",
    "<p>10 Zehner (E) -> 1 Hunderter (Z)</p>\n",
    "<p>10 Hunderter (E) -> 1 Tausender (Z)</p>\n",
    "<p>10 Tausender (E) -> 1 Zehntausender (Z)</p>\n",
    "<p>10 Zehntausender (E) -> 1 Hunderttausender (Z)</p>\n",
    "<br></br>\n",
    "<p>Zahlen kannst du zerlegen und in eine Stellenwerttafel eintragen:</p>\n",
    "<br></br>\n",
    "0M 5HT 6ZT 3T 4H 8Z 1E =\n",
    "<br></br>\n",
    "0 + 500000 + 60000 + 3000 + 400 + 80 + 1 = 563481\n",
    "''' \n",
    "table = extract(\"./vector_files/table_2x7x1.svg\")\n",
    "table += \"\"\"\n",
    "<input readonly style=\"top:20%;left:34.4%;width:3.1%;position:absolute\" value = \"M\"></input>\n",
    "<input readonly style=\"top:20%;left:39.0%;width:3.1%;position:absolute\" value = \"HT\"></input>\n",
    "<input readonly style=\"top:20%;left:43.8%;width:3.1%;position:absolute\" value = \"ZT\"></input>\n",
    "<input readonly style=\"top:20%;left:48.4%;width:3.1%;position:absolute\" value = \"T\"></input>\n",
    "<input readonly style=\"top:20%;left:53.2%;width:3.1%;position:absolute\" value = \"H\"></input>\n",
    "<input readonly style=\"top:20%;left:58.0%;width:3.1%;position:absolute\" value = \"Z\"></input>\n",
    "<input readonly style=\"top:20%;left:62.7%;width:3.1%;position:absolute\" value = \"E\"></input>\n",
    "\n",
    "\n",
    "<input style=\"top:52%;left:34.4%;width:3%;position:absolute\" value = \"0\" ></input>\n",
    "<input style=\"top:52%;left:39.0%;width:3%;position:absolute\" value = \"5\" ></input>\n",
    "<input style=\"top:52%;left:43.8%;width:3%;position:absolute\" value = \"6\" ></input>\n",
    "<input style=\"top:52%;left:48.4%;width:3%;position:absolute\" value = \"3\" ></input>\n",
    "<input style=\"top:52%;left:53.2%;width:3%;position:absolute\" value = \"4\" ></input>\n",
    "<input style=\"top:52%;left:58.0%;width:3%;position:absolute\" value = \"8\" ></input>\n",
    "<input style=\"top:52%;left:62.7%;width:3%;position:absolute\" value = \"1\" ></input>\n",
    "\"\"\"\n",
    "\n",
    "table = compose(table)\n",
    "tip = tip + table\n",
    "view(tip)"
   ]
  },
  {
   "cell_type": "code",
   "execution_count": 15,
   "metadata": {},
   "outputs": [],
   "source": [
    "q = [*map (lambda p:{\n",
    "    \"title\":p[0],\n",
    "    \"solution\":p[1],\n",
    "    \"tip\":tip,\n",
    "},zip(titles,solutions)) ]"
   ]
  },
  {
   "cell_type": "code",
   "execution_count": 16,
   "metadata": {},
   "outputs": [
    {
     "name": "stdout",
     "output_type": "stream",
     "text": [
      "view file:///Users/peergynt/fun/svelte/monsun/factory/question.html in browser\n"
     ]
    }
   ],
   "source": [
    "browse(q[0])"
   ]
  },
  {
   "cell_type": "code",
   "execution_count": 17,
   "metadata": {},
   "outputs": [],
   "source": [
    "collection.add_many(q,rating_increment=5,series_name='wertetafel')"
   ]
  },
  {
   "cell_type": "markdown",
   "metadata": {},
   "source": [
    "### ordnen und vergleich         "
   ]
  },
  {
   "cell_type": "code",
   "execution_count": 18,
   "metadata": {},
   "outputs": [],
   "source": [
    "q = get_question(\"was ist 1+1\",[\"tim\"],[],\"tipsdf\")"
   ]
  },
  {
   "cell_type": "code",
   "execution_count": 19,
   "metadata": {},
   "outputs": [
    {
     "name": "stdout",
     "output_type": "stream",
     "text": [
      "view file:///Users/peergynt/fun/svelte/monsun/factory/question.html in browser\n"
     ]
    }
   ],
   "source": [
    "browse(q)"
   ]
  },
  {
   "cell_type": "code",
   "execution_count": 20,
   "metadata": {},
   "outputs": [
    {
     "data": {
      "text/html": [
       "\n",
       "<body>\n",
       "    <div class = mycomps>\n",
       "    \n",
       "<p>den Nachbartausender, Nachbarzehntausender, oder Nachbarhunderttausender einer zahl erhälst du wenn du bis zum nächsten ganzen Tausender, Zehntausender oder Hunderttausender vor - oder zurückggehst.</p>\n",
       "<table style=\"margin:auto\">\n",
       "<tr><th>Nachbartausender:</th><th> 328000 <- 328845 -> 329000</th></tr>\n",
       "<tr><th>Nachbarzehntausender:</th><th> 320000 <- 328845 -> 330000</th></tr>\n",
       "<tr><th>Nachbarhunderttausender:</th><th> 300000 <- 328845 -> 400000</th></tr>\n",
       "</table>\n",
       "\n",
       "    </div>\n",
       "\n",
       "</body>\n",
       "</html>\n",
       "\n",
       "<style>\n",
       "    .mycomps{\n",
       "        color:black;\n",
       "        background-color: #fff8;\n",
       "        --color:aliceblue;\n",
       "        text-align:center;\n",
       "        font-size:1.2em;\n",
       "    }\n",
       "\n",
       "    input{\n",
       "        all:unset;\n",
       "        background:white;\n",
       "        text-align:left;\n",
       "        font-size:1em;\n",
       "        font-family:monospace;\n",
       "    }\n",
       "    svg{\n",
       "        position: absolute;\n",
       "        top:0px;\n",
       "        left:0px;\n",
       "    }\n",
       "    .field{\n",
       "        top:40%;\n",
       "        left:60%;\n",
       "        position: inherit;\n",
       "        border:unset;\n",
       "        width:2em;\n",
       "    }\n",
       "    table, tr, th{\n",
       "        border:1px solid black;\n",
       "    }\n",
       "\n",
       "</style>"
      ],
      "text/plain": [
       "<IPython.core.display.HTML object>"
      ]
     },
     "metadata": {},
     "output_type": "display_data"
    }
   ],
   "source": [
    "tip = '''\n",
    "<p>den Nachbartausender, Nachbarzehntausender, oder Nachbarhunderttausender einer zahl erhälst du wenn du bis zum nächsten ganzen Tausender, Zehntausender oder Hunderttausender vor - oder zurückggehst.</p>\n",
    "<table style=\"margin:auto\">\n",
    "<tr><th>Nachbartausender:</th><th> 328000 <- 328845 -> 329000</th></tr>\n",
    "<tr><th>Nachbarzehntausender:</th><th> 320000 <- 328845 -> 330000</th></tr>\n",
    "<tr><th>Nachbarhunderttausender:</th><th> 300000 <- 328845 -> 400000</th></tr>\n",
    "</table>\n",
    "'''\n",
    "view(tip)"
   ]
  },
  {
   "cell_type": "code",
   "execution_count": 21,
   "metadata": {},
   "outputs": [
    {
     "data": {
      "text/html": [
       "\n",
       "<body>\n",
       "    <div class = mycomps>\n",
       "    \n",
       "\n",
       "<h2>Ergänze die fehlenden {}<h2>\n",
       "<table style=\"margin:auto;border: 1px solid black\">\n",
       "<tr><th>{}</th><th><input style = \"width:4em\"></th><th><input style = \"width:4em\"></th><th><input style = \"width:4em\"></th></tr>\n",
       "<tr><th>Zahl</th><th>{}</th><th>{}</th><th>{}</th></tr>\n",
       "<tr><th>{}</th><th><input style = \"width:4em\"></th><th><input style = \"width:4em\"></th><th><input style = \"width:4em\"></th></tr>\n",
       "</table>\n",
       "\n",
       "    </div>\n",
       "\n",
       "</body>\n",
       "</html>\n",
       "\n",
       "<style>\n",
       "    .mycomps{\n",
       "        color:black;\n",
       "        background-color: #fff8;\n",
       "        --color:aliceblue;\n",
       "        text-align:center;\n",
       "        font-size:1.2em;\n",
       "    }\n",
       "\n",
       "    input{\n",
       "        all:unset;\n",
       "        background:white;\n",
       "        text-align:left;\n",
       "        font-size:1em;\n",
       "        font-family:monospace;\n",
       "    }\n",
       "    svg{\n",
       "        position: absolute;\n",
       "        top:0px;\n",
       "        left:0px;\n",
       "    }\n",
       "    .field{\n",
       "        top:40%;\n",
       "        left:60%;\n",
       "        position: inherit;\n",
       "        border:unset;\n",
       "        width:2em;\n",
       "    }\n",
       "    table, tr, th{\n",
       "        border:1px solid black;\n",
       "    }\n",
       "\n",
       "</style>"
      ],
      "text/plain": [
       "<IPython.core.display.HTML object>"
      ]
     },
     "metadata": {},
     "output_type": "display_data"
    }
   ],
   "source": [
    "comp = '''\n",
    "\n",
    "<h2>Ergänze die fehlenden {}<h2>\n",
    "<table style=\"margin:auto;border: 1px solid black\">\n",
    "<tr><th>{}</th><th><input style = \"width:4em\"></th><th><input style = \"width:4em\"></th><th><input style = \"width:4em\"></th></tr>\n",
    "<tr><th>Zahl</th><th>{}</th><th>{}</th><th>{}</th></tr>\n",
    "<tr><th>{}</th><th><input style = \"width:4em\"></th><th><input style = \"width:4em\"></th><th><input style = \"width:4em\"></th></tr>\n",
    "</table>\n",
    "'''\n",
    "view(comp)"
   ]
  },
  {
   "cell_type": "code",
   "execution_count": 22,
   "metadata": {},
   "outputs": [],
   "source": [
    "args = [\n",
    "    [\"Nachbartausender\",\"T\",3],\n",
    "    [\"Nachbartausender\",\"T\",3],\n",
    "    [\"Nachbarzehntausender\",\"ZT\",4],\n",
    "    [\"Nachbarzehntausender\",\"ZT\",4],\n",
    "    [\"Nachbarhunderttausender\",\"HT\",5],\n",
    "    [\"Nachbarhunderttausender\",\"HT\",5],\n",
    "]"
   ]
  },
  {
   "cell_type": "code",
   "execution_count": 23,
   "metadata": {},
   "outputs": [],
   "source": [
    "def solve(n):\n",
    "    num = random.randint(1e5,1e6-1)\n",
    "    l = num // 10**n *10**n\n",
    "    u = l + 10**n\n",
    "    return l,num,u\n",
    "\n",
    "def gen (arg):\n",
    "    lang = arg[0]\n",
    "    kurz = arg[1]\n",
    "    exp = arg[2]\n",
    "    a = solve(exp)\n",
    "    b = solve(exp)\n",
    "    c = solve(exp)\n",
    "\n",
    "    return {\n",
    "        \"title\":comp.format(lang,kurz,a[1],b[1],c[1],kurz),\n",
    "        \"solution\":f\"[{a[0]},{b[0]},{c[0]},{a[2]},{b[2]},{c[2]}]\",\n",
    "        \"tip\":tip,\n",
    "    }"
   ]
  },
  {
   "cell_type": "code",
   "execution_count": 24,
   "metadata": {},
   "outputs": [
    {
     "data": {
      "text/html": [
       "\n",
       "<body>\n",
       "    <div class = mycomps>\n",
       "    \n",
       "\n",
       "<h2>Ergänze die fehlenden Nachbarzehntausender<h2>\n",
       "<table style=\"margin:auto;border: 1px solid black\">\n",
       "<tr><th>ZT</th><th><input style = \"width:4em\"></th><th><input style = \"width:4em\"></th><th><input style = \"width:4em\"></th></tr>\n",
       "<tr><th>Zahl</th><th>152073</th><th>434969</th><th>730343</th></tr>\n",
       "<tr><th>ZT</th><th><input style = \"width:4em\"></th><th><input style = \"width:4em\"></th><th><input style = \"width:4em\"></th></tr>\n",
       "</table>\n",
       "\n",
       "    </div>\n",
       "\n",
       "</body>\n",
       "</html>\n",
       "\n",
       "<style>\n",
       "    .mycomps{\n",
       "        color:black;\n",
       "        background-color: #fff8;\n",
       "        --color:aliceblue;\n",
       "        text-align:center;\n",
       "        font-size:1.2em;\n",
       "    }\n",
       "\n",
       "    input{\n",
       "        all:unset;\n",
       "        background:white;\n",
       "        text-align:left;\n",
       "        font-size:1em;\n",
       "        font-family:monospace;\n",
       "    }\n",
       "    svg{\n",
       "        position: absolute;\n",
       "        top:0px;\n",
       "        left:0px;\n",
       "    }\n",
       "    .field{\n",
       "        top:40%;\n",
       "        left:60%;\n",
       "        position: inherit;\n",
       "        border:unset;\n",
       "        width:2em;\n",
       "    }\n",
       "    table, tr, th{\n",
       "        border:1px solid black;\n",
       "    }\n",
       "\n",
       "</style>"
      ],
      "text/plain": [
       "<IPython.core.display.HTML object>"
      ]
     },
     "metadata": {},
     "output_type": "display_data"
    },
    {
     "data": {
      "text/plain": [
       "'[150000,430000,730000,160000,440000,740000]'"
      ]
     },
     "execution_count": 24,
     "metadata": {},
     "output_type": "execute_result"
    }
   ],
   "source": [
    "q = [*map (gen,args)]\n",
    "view(q[2]['title'])\n",
    "q[2]['solution']"
   ]
  },
  {
   "cell_type": "code",
   "execution_count": 25,
   "metadata": {},
   "outputs": [],
   "source": [
    "collection.add_many(q,3,\"nachbartausender\")"
   ]
  },
  {
   "cell_type": "code",
   "execution_count": 26,
   "metadata": {},
   "outputs": [
    {
     "data": {
      "text/plain": [
       "<Collection math_C N16 R8>"
      ]
     },
     "execution_count": 26,
     "metadata": {},
     "output_type": "execute_result"
    }
   ],
   "source": [
    "collection"
   ]
  },
  {
   "attachments": {},
   "cell_type": "markdown",
   "metadata": {},
   "source": [
    "### < oder >"
   ]
  },
  {
   "cell_type": "code",
   "execution_count": 27,
   "metadata": {},
   "outputs": [
    {
     "data": {
      "text/html": [
       "\n",
       "<body>\n",
       "    <div class = mycomps>\n",
       "    \n",
       "<h2> < > oder = ? setze das passende zeichen ein.</h2>\n",
       "{} <input style=\"width:.9em\"> {}\n",
       "\n",
       "    </div>\n",
       "\n",
       "</body>\n",
       "</html>\n",
       "\n",
       "<style>\n",
       "    .mycomps{\n",
       "        color:black;\n",
       "        background-color: #fff8;\n",
       "        --color:aliceblue;\n",
       "        text-align:center;\n",
       "        font-size:1.2em;\n",
       "    }\n",
       "\n",
       "    input{\n",
       "        all:unset;\n",
       "        background:white;\n",
       "        text-align:left;\n",
       "        font-size:1em;\n",
       "        font-family:monospace;\n",
       "    }\n",
       "    svg{\n",
       "        position: absolute;\n",
       "        top:0px;\n",
       "        left:0px;\n",
       "    }\n",
       "    .field{\n",
       "        top:40%;\n",
       "        left:60%;\n",
       "        position: inherit;\n",
       "        border:unset;\n",
       "        width:2em;\n",
       "    }\n",
       "    table, tr, th{\n",
       "        border:1px solid black;\n",
       "    }\n",
       "\n",
       "</style>"
      ],
      "text/plain": [
       "<IPython.core.display.HTML object>"
      ]
     },
     "metadata": {},
     "output_type": "display_data"
    }
   ],
   "source": [
    "comp = '''\n",
    "<h2> < > oder = ? setze das passende zeichen ein.</h2>\n",
    "{} <input style=\"width:.9em\"> {}\n",
    "'''\n",
    "view(comp)"
   ]
  },
  {
   "cell_type": "code",
   "execution_count": 28,
   "metadata": {},
   "outputs": [],
   "source": [
    "def gen ():\n",
    "\n",
    "    a = random.randint(1e5,1e6-1)\n",
    "    b = random.randint(1e5,1e6-1)\n",
    "    if random.random() < 0.3:\n",
    "        # make even\n",
    "        b = a\n",
    "\n",
    "    if a > b:\n",
    "        cmp = \">\"\n",
    "    elif a<b:\n",
    "        cmp = \"<\"\n",
    "    else:\n",
    "        cmp = \"=\"\n",
    "    \n",
    "    return get_question(comp,[cmp],[a,b],\"\")"
   ]
  },
  {
   "cell_type": "code",
   "execution_count": 29,
   "metadata": {},
   "outputs": [],
   "source": [
    "q = gen()"
   ]
  },
  {
   "cell_type": "code",
   "execution_count": 30,
   "metadata": {},
   "outputs": [
    {
     "name": "stdout",
     "output_type": "stream",
     "text": [
      "view file:///Users/peergynt/fun/svelte/monsun/factory/question.html in browser\n"
     ]
    }
   ],
   "source": [
    "browse(q)"
   ]
  },
  {
   "cell_type": "code",
   "execution_count": 31,
   "metadata": {},
   "outputs": [],
   "source": [
    "q = [gen() for _ in range(50)]"
   ]
  },
  {
   "cell_type": "code",
   "execution_count": 32,
   "metadata": {},
   "outputs": [],
   "source": [
    "collection.add_many(q,5,\"compare_big\")"
   ]
  },
  {
   "cell_type": "code",
   "execution_count": 33,
   "metadata": {},
   "outputs": [
    {
     "data": {
      "text/plain": [
       "<Collection math_C N66 R13>"
      ]
     },
     "execution_count": 33,
     "metadata": {},
     "output_type": "execute_result"
    }
   ],
   "source": [
    "collection"
   ]
  },
  {
   "cell_type": "markdown",
   "metadata": {},
   "source": [
    "### zahlenstrahl"
   ]
  },
  {
   "cell_type": "code",
   "execution_count": 34,
   "metadata": {},
   "outputs": [],
   "source": [
    "svg = extract(\"./vector_files/zahlenstrahl_x40x_1.svg\")"
   ]
  },
  {
   "cell_type": "code",
   "execution_count": 35,
   "metadata": {},
   "outputs": [
    {
     "data": {
      "text/html": [
       "\n",
       "<body>\n",
       "    <div class = mycomps>\n",
       "    <h2>trage die zahlen ein, die auf dem zahlenstrahl markiert sind.</h2><div class = \"graphic\" style = \"margin:auto;width:80vw;height:25.296302234573844vw;position:relative\">\n",
       "    <svg height=\"100%\" stroke-miterlimit=\"10\" style=\"fill-rule:nonzero;clip-rule:evenodd;stroke-linecap:round;stroke-linejoin:round;\" version=\"1.1\" viewBox=\"0 0 841.995 266.242\" width=\"100%\" xml:space=\"preserve\" xmlns=\"http://www.w3.org/2000/svg\" xmlns:vectornator=\"http://vectornator.io\" xmlns:xlink=\"http://www.w3.org/1999/xlink\">\n",
       "<path d=\"M32.3525 223.302L806.913 222.901\" fill=\"none\" opacity=\"1\" stroke=\"#000000\" stroke-linecap=\"round\" stroke-linejoin=\"round\" stroke-width=\"3\"/>\n",
       "<path d=\"M790.657 208.975L809.642 221.475L791.456 235.795\" fill=\"none\" opacity=\"1\" stroke=\"#000000\" stroke-linecap=\"round\" stroke-linejoin=\"round\" stroke-width=\"3\"/>\n",
       "<path d=\"M104.345 190.957L104.498 256.844\" fill=\"none\" opacity=\"1\" stroke=\"#000000\" stroke-linecap=\"round\" stroke-linejoin=\"round\" stroke-width=\"3\"/>\n",
       "<path d=\"M204.575 202.816L204.714 242.267\" fill=\"none\" opacity=\"1\" stroke=\"#000000\" stroke-linecap=\"round\" stroke-linejoin=\"round\" stroke-width=\"3\"/>\n",
       "<path d=\"M123.248 211.748L123.173 232.291\" fill=\"none\" opacity=\"1\" stroke=\"#000000\" stroke-linecap=\"round\" stroke-linejoin=\"round\" stroke-width=\"3\"/>\n",
       "<path d=\"M143.025 212.162L142.951 232.705\" fill=\"none\" opacity=\"1\" stroke=\"#000000\" stroke-linecap=\"round\" stroke-linejoin=\"round\" stroke-width=\"3\"/>\n",
       "<path d=\"M163.001 212.078L162.926 232.621\" fill=\"none\" opacity=\"1\" stroke=\"#000000\" stroke-linecap=\"round\" stroke-linejoin=\"round\" stroke-width=\"3\"/>\n",
       "<path d=\"M183.965 211.791L183.89 232.334\" fill=\"none\" opacity=\"1\" stroke=\"#000000\" stroke-linecap=\"round\" stroke-linejoin=\"round\" stroke-width=\"3\"/>\n",
       "<path d=\"M223.786 212.134L223.711 232.677\" fill=\"none\" opacity=\"1\" stroke=\"#000000\" stroke-linecap=\"round\" stroke-linejoin=\"round\" stroke-width=\"3\"/>\n",
       "<path d=\"M243.563 212.548L243.489 233.091\" fill=\"none\" opacity=\"1\" stroke=\"#000000\" stroke-linecap=\"round\" stroke-linejoin=\"round\" stroke-width=\"3\"/>\n",
       "<path d=\"M263.539 212.464L263.464 233.007\" fill=\"none\" opacity=\"1\" stroke=\"#000000\" stroke-linecap=\"round\" stroke-linejoin=\"round\" stroke-width=\"3\"/>\n",
       "<path d=\"M284.503 212.177L284.428 232.72\" fill=\"none\" opacity=\"1\" stroke=\"#000000\" stroke-linecap=\"round\" stroke-linejoin=\"round\" stroke-width=\"3\"/>\n",
       "<path d=\"M304.087 189.711L304.24 255.597\" fill=\"none\" opacity=\"1\" stroke=\"#000000\" stroke-linecap=\"round\" stroke-linejoin=\"round\" stroke-width=\"3\"/>\n",
       "<path d=\"M404.318 201.57L404.456 241.02\" fill=\"none\" opacity=\"1\" stroke=\"#000000\" stroke-linecap=\"round\" stroke-linejoin=\"round\" stroke-width=\"3\"/>\n",
       "<path d=\"M322.99 210.501L322.916 231.044\" fill=\"none\" opacity=\"1\" stroke=\"#000000\" stroke-linecap=\"round\" stroke-linejoin=\"round\" stroke-width=\"3\"/>\n",
       "<path d=\"M342.768 210.915L342.693 231.458\" fill=\"none\" opacity=\"1\" stroke=\"#000000\" stroke-linecap=\"round\" stroke-linejoin=\"round\" stroke-width=\"3\"/>\n",
       "<path d=\"M362.743 210.832L362.669 231.375\" fill=\"none\" opacity=\"1\" stroke=\"#000000\" stroke-linecap=\"round\" stroke-linejoin=\"round\" stroke-width=\"3\"/>\n",
       "<path d=\"M383.707 210.545L383.632 231.088\" fill=\"none\" opacity=\"1\" stroke=\"#000000\" stroke-linecap=\"round\" stroke-linejoin=\"round\" stroke-width=\"3\"/>\n",
       "<path d=\"M423.528 210.887L423.454 231.43\" fill=\"none\" opacity=\"1\" stroke=\"#000000\" stroke-linecap=\"round\" stroke-linejoin=\"round\" stroke-width=\"3\"/>\n",
       "<path d=\"M443.306 211.301L443.231 231.844\" fill=\"none\" opacity=\"1\" stroke=\"#000000\" stroke-linecap=\"round\" stroke-linejoin=\"round\" stroke-width=\"3\"/>\n",
       "<path d=\"M463.281 211.218L463.206 231.761\" fill=\"none\" opacity=\"1\" stroke=\"#000000\" stroke-linecap=\"round\" stroke-linejoin=\"round\" stroke-width=\"3\"/>\n",
       "<path d=\"M484.245 210.931L484.17 231.474\" fill=\"none\" opacity=\"1\" stroke=\"#000000\" stroke-linecap=\"round\" stroke-linejoin=\"round\" stroke-width=\"3\"/>\n",
       "<path d=\"M505.109 189.272L505.262 255.159\" fill=\"none\" opacity=\"1\" stroke=\"#000000\" stroke-linecap=\"round\" stroke-linejoin=\"round\" stroke-width=\"3\"/>\n",
       "<path d=\"M605.34 201.131L605.478 240.581\" fill=\"none\" opacity=\"1\" stroke=\"#000000\" stroke-linecap=\"round\" stroke-linejoin=\"round\" stroke-width=\"3\"/>\n",
       "<path d=\"M524.012 210.062L523.938 230.605\" fill=\"none\" opacity=\"1\" stroke=\"#000000\" stroke-linecap=\"round\" stroke-linejoin=\"round\" stroke-width=\"3\"/>\n",
       "<path d=\"M543.79 210.476L543.715 231.019\" fill=\"none\" opacity=\"1\" stroke=\"#000000\" stroke-linecap=\"round\" stroke-linejoin=\"round\" stroke-width=\"3\"/>\n",
       "<path d=\"M563.765 210.393L563.691 230.936\" fill=\"none\" opacity=\"1\" stroke=\"#000000\" stroke-linecap=\"round\" stroke-linejoin=\"round\" stroke-width=\"3\"/>\n",
       "<path d=\"M584.729 210.106L584.654 230.649\" fill=\"none\" opacity=\"1\" stroke=\"#000000\" stroke-linecap=\"round\" stroke-linejoin=\"round\" stroke-width=\"3\"/>\n",
       "<path d=\"M624.55 210.448L624.475 230.991\" fill=\"none\" opacity=\"1\" stroke=\"#000000\" stroke-linecap=\"round\" stroke-linejoin=\"round\" stroke-width=\"3\"/>\n",
       "<path d=\"M644.328 210.862L644.253 231.405\" fill=\"none\" opacity=\"1\" stroke=\"#000000\" stroke-linecap=\"round\" stroke-linejoin=\"round\" stroke-width=\"3\"/>\n",
       "<path d=\"M664.303 210.779L664.228 231.322\" fill=\"none\" opacity=\"1\" stroke=\"#000000\" stroke-linecap=\"round\" stroke-linejoin=\"round\" stroke-width=\"3\"/>\n",
       "<path d=\"M685.267 210.492L685.192 231.035\" fill=\"none\" opacity=\"1\" stroke=\"#000000\" stroke-linecap=\"round\" stroke-linejoin=\"round\" stroke-width=\"3\"/>\n",
       "<path d=\"M703.211 190.046L703.364 255.932\" fill=\"none\" opacity=\"1\" stroke=\"#000000\" stroke-linecap=\"round\" stroke-linejoin=\"round\" stroke-width=\"3\"/>\n",
       "<path d=\"M722.114 210.836L722.04 231.379\" fill=\"none\" opacity=\"1\" stroke=\"#000000\" stroke-linecap=\"round\" stroke-linejoin=\"round\" stroke-width=\"3\"/>\n",
       "<path d=\"M741.892 211.25L741.817 231.793\" fill=\"none\" opacity=\"1\" stroke=\"#000000\" stroke-linecap=\"round\" stroke-linejoin=\"round\" stroke-width=\"3\"/>\n",
       "<path d=\"M761.867 211.166L761.793 231.709\" fill=\"none\" opacity=\"1\" stroke=\"#000000\" stroke-linecap=\"round\" stroke-linejoin=\"round\" stroke-width=\"3\"/>\n",
       "<path d=\"M782.831 210.879L782.756 231.422\" fill=\"none\" opacity=\"1\" stroke=\"#000000\" stroke-linecap=\"round\" stroke-linejoin=\"round\" stroke-width=\"3\"/>\n",
       "<path d=\"M44.3831 212.036L44.3085 232.579\" fill=\"none\" opacity=\"1\" stroke=\"#000000\" stroke-linecap=\"round\" stroke-linejoin=\"round\" stroke-width=\"3\"/>\n",
       "<path d=\"M64.1605 212.45L64.0859 232.993\" fill=\"none\" opacity=\"1\" stroke=\"#000000\" stroke-linecap=\"round\" stroke-linejoin=\"round\" stroke-width=\"3\"/>\n",
       "<path d=\"M84.1361 212.366L84.0615 232.909\" fill=\"none\" opacity=\"1\" stroke=\"#000000\" stroke-linecap=\"round\" stroke-linejoin=\"round\" stroke-width=\"3\"/>\n",
       "<path d=\"M83.5425 186.645L84.1298 127.24\" fill=\"none\" opacity=\"1\" stroke=\"#000000\" stroke-linecap=\"round\" stroke-linejoin=\"round\" stroke-width=\"3\"/>\n",
       "<path d=\"M404.314 184.922L404.902 125.517\" fill=\"none\" opacity=\"1\" stroke=\"#000000\" stroke-linecap=\"round\" stroke-linejoin=\"round\" stroke-width=\"3\"/>\n",
       "<path d=\"M245.621 187.052L246.209 127.647\" fill=\"none\" opacity=\"1\" stroke=\"#000000\" stroke-linecap=\"round\" stroke-linejoin=\"round\" stroke-width=\"3\"/>\n",
       "<path d=\"M521.156 185.261L521.743 125.856\" fill=\"none\" opacity=\"1\" stroke=\"#000000\" stroke-linecap=\"round\" stroke-linejoin=\"round\" stroke-width=\"3\"/>\n",
       "<path d=\"M702.737 184.732L703.324 125.327\" fill=\"none\" opacity=\"1\" stroke=\"#000000\" stroke-linecap=\"round\" stroke-linejoin=\"round\" stroke-width=\"3\"/>\n",
       "</svg>\n",
       "\n",
       "\n",
       "<input style = \"position:absolute;top:40%;left:7%;width:4em\" readonly value = 9000>\n",
       "<input style = \"position:absolute;top:40%;left:26%;width:4em\">\n",
       "<input style = \"position:absolute;top:40%;left:45%;width:4em\" readonly value = 25000>\n",
       "<input style = \"position:absolute;top:40%;left:59%;width:4em\">\n",
       "<input style = \"position:absolute;top:40%;left:80%;width:4em\">\n",
       "      \n",
       "</div>\n",
       "    </div>\n",
       "\n",
       "</body>\n",
       "</html>\n",
       "\n",
       "<style>\n",
       "    .mycomps{\n",
       "        color:black;\n",
       "        background-color: #fff8;\n",
       "        --color:aliceblue;\n",
       "        text-align:center;\n",
       "        font-size:1.2em;\n",
       "    }\n",
       "\n",
       "    input{\n",
       "        all:unset;\n",
       "        background:white;\n",
       "        text-align:left;\n",
       "        font-size:1em;\n",
       "        font-family:monospace;\n",
       "    }\n",
       "    svg{\n",
       "        position: absolute;\n",
       "        top:0px;\n",
       "        left:0px;\n",
       "    }\n",
       "    .field{\n",
       "        top:40%;\n",
       "        left:60%;\n",
       "        position: inherit;\n",
       "        border:unset;\n",
       "        width:2em;\n",
       "    }\n",
       "    table, tr, th{\n",
       "        border:1px solid black;\n",
       "    }\n",
       "\n",
       "</style>"
      ],
      "text/plain": [
       "<IPython.core.display.HTML object>"
      ]
     },
     "metadata": {},
     "output_type": "display_data"
    }
   ],
   "source": [
    "tit= '<h2>trage die zahlen ein, die auf dem zahlenstrahl markiert sind.</h2>'\n",
    "inp = '''\n",
    "\n",
    "<input style = \"position:absolute;top:40%;left:7%;width:4em\" readonly value = 9000>\n",
    "<input style = \"position:absolute;top:40%;left:26%;width:4em\">\n",
    "<input style = \"position:absolute;top:40%;left:45%;width:4em\" readonly value = 25000>\n",
    "<input style = \"position:absolute;top:40%;left:59%;width:4em\">\n",
    "<input style = \"position:absolute;top:40%;left:80%;width:4em\">\n",
    "'''\n",
    "comp = svg +inp\n",
    "comp  = compose(comp)\n",
    "comp = tit + comp\n",
    "\n",
    "view(comp)"
   ]
  },
  {
   "cell_type": "code",
   "execution_count": 36,
   "metadata": {},
   "outputs": [],
   "source": [
    "q1 = {\n",
    "    \"title\": comp,\n",
    "    \"solution\":json.dumps([17000,31000,40000])\n",
    "}"
   ]
  },
  {
   "cell_type": "code",
   "execution_count": 37,
   "metadata": {},
   "outputs": [
    {
     "data": {
      "text/html": [
       "\n",
       "<body>\n",
       "    <div class = mycomps>\n",
       "    <h2>trage die zahlen ein, die auf dem zahlenstrahl markiert sind.</h2><div class = \"graphic\" style = \"margin:auto;width:80vw;height:25.296302234573844vw;position:relative\">\n",
       "    <svg height=\"100%\" stroke-miterlimit=\"10\" style=\"fill-rule:nonzero;clip-rule:evenodd;stroke-linecap:round;stroke-linejoin:round;\" version=\"1.1\" viewBox=\"0 0 841.995 266.242\" width=\"100%\" xml:space=\"preserve\" xmlns=\"http://www.w3.org/2000/svg\" xmlns:vectornator=\"http://vectornator.io\" xmlns:xlink=\"http://www.w3.org/1999/xlink\">\n",
       "<path d=\"M32.3525 223.302L806.913 222.901\" fill=\"none\" opacity=\"1\" stroke=\"#000000\" stroke-linecap=\"round\" stroke-linejoin=\"round\" stroke-width=\"3\"/>\n",
       "<path d=\"M790.657 208.975L809.642 221.475L791.456 235.795\" fill=\"none\" opacity=\"1\" stroke=\"#000000\" stroke-linecap=\"round\" stroke-linejoin=\"round\" stroke-width=\"3\"/>\n",
       "<path d=\"M104.345 190.957L104.498 256.844\" fill=\"none\" opacity=\"1\" stroke=\"#000000\" stroke-linecap=\"round\" stroke-linejoin=\"round\" stroke-width=\"3\"/>\n",
       "<path d=\"M204.575 202.816L204.714 242.267\" fill=\"none\" opacity=\"1\" stroke=\"#000000\" stroke-linecap=\"round\" stroke-linejoin=\"round\" stroke-width=\"3\"/>\n",
       "<path d=\"M123.248 211.748L123.173 232.291\" fill=\"none\" opacity=\"1\" stroke=\"#000000\" stroke-linecap=\"round\" stroke-linejoin=\"round\" stroke-width=\"3\"/>\n",
       "<path d=\"M143.025 212.162L142.951 232.705\" fill=\"none\" opacity=\"1\" stroke=\"#000000\" stroke-linecap=\"round\" stroke-linejoin=\"round\" stroke-width=\"3\"/>\n",
       "<path d=\"M163.001 212.078L162.926 232.621\" fill=\"none\" opacity=\"1\" stroke=\"#000000\" stroke-linecap=\"round\" stroke-linejoin=\"round\" stroke-width=\"3\"/>\n",
       "<path d=\"M183.965 211.791L183.89 232.334\" fill=\"none\" opacity=\"1\" stroke=\"#000000\" stroke-linecap=\"round\" stroke-linejoin=\"round\" stroke-width=\"3\"/>\n",
       "<path d=\"M223.786 212.134L223.711 232.677\" fill=\"none\" opacity=\"1\" stroke=\"#000000\" stroke-linecap=\"round\" stroke-linejoin=\"round\" stroke-width=\"3\"/>\n",
       "<path d=\"M243.563 212.548L243.489 233.091\" fill=\"none\" opacity=\"1\" stroke=\"#000000\" stroke-linecap=\"round\" stroke-linejoin=\"round\" stroke-width=\"3\"/>\n",
       "<path d=\"M263.539 212.464L263.464 233.007\" fill=\"none\" opacity=\"1\" stroke=\"#000000\" stroke-linecap=\"round\" stroke-linejoin=\"round\" stroke-width=\"3\"/>\n",
       "<path d=\"M284.503 212.177L284.428 232.72\" fill=\"none\" opacity=\"1\" stroke=\"#000000\" stroke-linecap=\"round\" stroke-linejoin=\"round\" stroke-width=\"3\"/>\n",
       "<path d=\"M304.087 189.711L304.24 255.597\" fill=\"none\" opacity=\"1\" stroke=\"#000000\" stroke-linecap=\"round\" stroke-linejoin=\"round\" stroke-width=\"3\"/>\n",
       "<path d=\"M404.318 201.57L404.456 241.02\" fill=\"none\" opacity=\"1\" stroke=\"#000000\" stroke-linecap=\"round\" stroke-linejoin=\"round\" stroke-width=\"3\"/>\n",
       "<path d=\"M322.99 210.501L322.916 231.044\" fill=\"none\" opacity=\"1\" stroke=\"#000000\" stroke-linecap=\"round\" stroke-linejoin=\"round\" stroke-width=\"3\"/>\n",
       "<path d=\"M342.768 210.915L342.693 231.458\" fill=\"none\" opacity=\"1\" stroke=\"#000000\" stroke-linecap=\"round\" stroke-linejoin=\"round\" stroke-width=\"3\"/>\n",
       "<path d=\"M362.743 210.832L362.669 231.375\" fill=\"none\" opacity=\"1\" stroke=\"#000000\" stroke-linecap=\"round\" stroke-linejoin=\"round\" stroke-width=\"3\"/>\n",
       "<path d=\"M383.707 210.545L383.632 231.088\" fill=\"none\" opacity=\"1\" stroke=\"#000000\" stroke-linecap=\"round\" stroke-linejoin=\"round\" stroke-width=\"3\"/>\n",
       "<path d=\"M423.528 210.887L423.454 231.43\" fill=\"none\" opacity=\"1\" stroke=\"#000000\" stroke-linecap=\"round\" stroke-linejoin=\"round\" stroke-width=\"3\"/>\n",
       "<path d=\"M443.306 211.301L443.231 231.844\" fill=\"none\" opacity=\"1\" stroke=\"#000000\" stroke-linecap=\"round\" stroke-linejoin=\"round\" stroke-width=\"3\"/>\n",
       "<path d=\"M463.281 211.218L463.206 231.761\" fill=\"none\" opacity=\"1\" stroke=\"#000000\" stroke-linecap=\"round\" stroke-linejoin=\"round\" stroke-width=\"3\"/>\n",
       "<path d=\"M484.245 210.931L484.17 231.474\" fill=\"none\" opacity=\"1\" stroke=\"#000000\" stroke-linecap=\"round\" stroke-linejoin=\"round\" stroke-width=\"3\"/>\n",
       "<path d=\"M505.109 189.272L505.262 255.159\" fill=\"none\" opacity=\"1\" stroke=\"#000000\" stroke-linecap=\"round\" stroke-linejoin=\"round\" stroke-width=\"3\"/>\n",
       "<path d=\"M605.34 201.131L605.478 240.581\" fill=\"none\" opacity=\"1\" stroke=\"#000000\" stroke-linecap=\"round\" stroke-linejoin=\"round\" stroke-width=\"3\"/>\n",
       "<path d=\"M524.012 210.062L523.938 230.605\" fill=\"none\" opacity=\"1\" stroke=\"#000000\" stroke-linecap=\"round\" stroke-linejoin=\"round\" stroke-width=\"3\"/>\n",
       "<path d=\"M543.79 210.476L543.715 231.019\" fill=\"none\" opacity=\"1\" stroke=\"#000000\" stroke-linecap=\"round\" stroke-linejoin=\"round\" stroke-width=\"3\"/>\n",
       "<path d=\"M563.765 210.393L563.691 230.936\" fill=\"none\" opacity=\"1\" stroke=\"#000000\" stroke-linecap=\"round\" stroke-linejoin=\"round\" stroke-width=\"3\"/>\n",
       "<path d=\"M584.729 210.106L584.654 230.649\" fill=\"none\" opacity=\"1\" stroke=\"#000000\" stroke-linecap=\"round\" stroke-linejoin=\"round\" stroke-width=\"3\"/>\n",
       "<path d=\"M624.55 210.448L624.475 230.991\" fill=\"none\" opacity=\"1\" stroke=\"#000000\" stroke-linecap=\"round\" stroke-linejoin=\"round\" stroke-width=\"3\"/>\n",
       "<path d=\"M644.328 210.862L644.253 231.405\" fill=\"none\" opacity=\"1\" stroke=\"#000000\" stroke-linecap=\"round\" stroke-linejoin=\"round\" stroke-width=\"3\"/>\n",
       "<path d=\"M664.303 210.779L664.228 231.322\" fill=\"none\" opacity=\"1\" stroke=\"#000000\" stroke-linecap=\"round\" stroke-linejoin=\"round\" stroke-width=\"3\"/>\n",
       "<path d=\"M685.267 210.492L685.192 231.035\" fill=\"none\" opacity=\"1\" stroke=\"#000000\" stroke-linecap=\"round\" stroke-linejoin=\"round\" stroke-width=\"3\"/>\n",
       "<path d=\"M703.211 190.046L703.364 255.932\" fill=\"none\" opacity=\"1\" stroke=\"#000000\" stroke-linecap=\"round\" stroke-linejoin=\"round\" stroke-width=\"3\"/>\n",
       "<path d=\"M722.114 210.836L722.04 231.379\" fill=\"none\" opacity=\"1\" stroke=\"#000000\" stroke-linecap=\"round\" stroke-linejoin=\"round\" stroke-width=\"3\"/>\n",
       "<path d=\"M741.892 211.25L741.817 231.793\" fill=\"none\" opacity=\"1\" stroke=\"#000000\" stroke-linecap=\"round\" stroke-linejoin=\"round\" stroke-width=\"3\"/>\n",
       "<path d=\"M761.867 211.166L761.793 231.709\" fill=\"none\" opacity=\"1\" stroke=\"#000000\" stroke-linecap=\"round\" stroke-linejoin=\"round\" stroke-width=\"3\"/>\n",
       "<path d=\"M782.831 210.879L782.756 231.422\" fill=\"none\" opacity=\"1\" stroke=\"#000000\" stroke-linecap=\"round\" stroke-linejoin=\"round\" stroke-width=\"3\"/>\n",
       "<path d=\"M44.3831 212.036L44.3085 232.579\" fill=\"none\" opacity=\"1\" stroke=\"#000000\" stroke-linecap=\"round\" stroke-linejoin=\"round\" stroke-width=\"3\"/>\n",
       "<path d=\"M64.1605 212.45L64.0859 232.993\" fill=\"none\" opacity=\"1\" stroke=\"#000000\" stroke-linecap=\"round\" stroke-linejoin=\"round\" stroke-width=\"3\"/>\n",
       "<path d=\"M84.1361 212.366L84.0615 232.909\" fill=\"none\" opacity=\"1\" stroke=\"#000000\" stroke-linecap=\"round\" stroke-linejoin=\"round\" stroke-width=\"3\"/>\n",
       "<path d=\"M122.093 191.354L122.68 131.949\" fill=\"none\" opacity=\"1\" stroke=\"#000000\" stroke-linecap=\"round\" stroke-linejoin=\"round\" stroke-width=\"3\"/>\n",
       "<path d=\"M442.865 189.631L443.452 130.226\" fill=\"none\" opacity=\"1\" stroke=\"#000000\" stroke-linecap=\"round\" stroke-linejoin=\"round\" stroke-width=\"3\"/>\n",
       "<path d=\"M284.172 191.761L284.759 132.356\" fill=\"none\" opacity=\"1\" stroke=\"#000000\" stroke-linecap=\"round\" stroke-linejoin=\"round\" stroke-width=\"3\"/>\n",
       "<path d=\"M559.706 189.97L560.293 130.565\" fill=\"none\" opacity=\"1\" stroke=\"#000000\" stroke-linecap=\"round\" stroke-linejoin=\"round\" stroke-width=\"3\"/>\n",
       "<path d=\"M741.287 189.441L741.874 130.036\" fill=\"none\" opacity=\"1\" stroke=\"#000000\" stroke-linecap=\"round\" stroke-linejoin=\"round\" stroke-width=\"3\"/>\n",
       "</svg>\n",
       "\n",
       "\n",
       "<input style = \"position:absolute;top:40%;left:11%;width:4em\" readonly value = 210000>\n",
       "<input style = \"position:absolute;top:40%;left:30%;width:4em\">\n",
       "<input style = \"position:absolute;top:40%;left:49%;width:4em\" readonly value = 370000>\n",
       "<input style = \"position:absolute;top:40%;left:63%;width:4em\">\n",
       "<input style = \"position:absolute;top:40%;left:85%;width:4em\">\n",
       "      \n",
       "</div>\n",
       "    </div>\n",
       "\n",
       "</body>\n",
       "</html>\n",
       "\n",
       "<style>\n",
       "    .mycomps{\n",
       "        color:black;\n",
       "        background-color: #fff8;\n",
       "        --color:aliceblue;\n",
       "        text-align:center;\n",
       "        font-size:1.2em;\n",
       "    }\n",
       "\n",
       "    input{\n",
       "        all:unset;\n",
       "        background:white;\n",
       "        text-align:left;\n",
       "        font-size:1em;\n",
       "        font-family:monospace;\n",
       "    }\n",
       "    svg{\n",
       "        position: absolute;\n",
       "        top:0px;\n",
       "        left:0px;\n",
       "    }\n",
       "    .field{\n",
       "        top:40%;\n",
       "        left:60%;\n",
       "        position: inherit;\n",
       "        border:unset;\n",
       "        width:2em;\n",
       "    }\n",
       "    table, tr, th{\n",
       "        border:1px solid black;\n",
       "    }\n",
       "\n",
       "</style>"
      ],
      "text/plain": [
       "<IPython.core.display.HTML object>"
      ]
     },
     "metadata": {},
     "output_type": "display_data"
    }
   ],
   "source": [
    "svg = extract(\"./vector_files/zahlenstrahl_x40x_2.svg\")\n",
    "\n",
    "tit= '<h2>trage die zahlen ein, die auf dem zahlenstrahl markiert sind.</h2>'\n",
    "inp = '''\n",
    "\n",
    "<input style = \"position:absolute;top:40%;left:11%;width:4em\" readonly value = 210000>\n",
    "<input style = \"position:absolute;top:40%;left:30%;width:4em\">\n",
    "<input style = \"position:absolute;top:40%;left:49%;width:4em\" readonly value = 370000>\n",
    "<input style = \"position:absolute;top:40%;left:63%;width:4em\">\n",
    "<input style = \"position:absolute;top:40%;left:85%;width:4em\">\n",
    "'''\n",
    "comp = svg +inp\n",
    "comp  =compose(comp)\n",
    "comp = tit + comp\n",
    "view(comp)"
   ]
  },
  {
   "cell_type": "code",
   "execution_count": 38,
   "metadata": {},
   "outputs": [],
   "source": [
    "q2 = {\n",
    "    \"title\": comp,\n",
    "    \"solution\":json.dumps([290000,43000,520000]),\n",
    "}"
   ]
  },
  {
   "cell_type": "code",
   "execution_count": 39,
   "metadata": {},
   "outputs": [],
   "source": [
    "collection.add_many([q1,q2],2,\"zahlenstrahl\")"
   ]
  },
  {
   "attachments": {},
   "cell_type": "markdown",
   "metadata": {},
   "source": [
    "### reihe"
   ]
  },
  {
   "cell_type": "code",
   "execution_count": 40,
   "metadata": {},
   "outputs": [],
   "source": [
    "svg = extract(\"./vector_files/bubble_reihe_6.svg\")"
   ]
  },
  {
   "cell_type": "code",
   "execution_count": 41,
   "metadata": {},
   "outputs": [
    {
     "data": {
      "text/html": [
       "\n",
       "<body>\n",
       "    <div class = mycomps>\n",
       "    \n",
       "<h2> bei einer zahlenreihe gibt immer eine bestimmte Regel die zahlen vor. </h2>\n",
       "<div class = \"graphic\" style = \"margin:auto;width:80vw;height:25.296302234573844vw;position:relative\">\n",
       "    <svg stroke-miterlimit=\"10\" style=\"fill-rule:nonzero;clip-rule:evenodd;stroke-linecap:round;stroke-linejoin:round;\" version=\"1.1\" viewBox=\"0 0 841.995 266.242\" xml:space=\"preserve\" xmlns=\"http://www.w3.org/2000/svg\" xmlns:xlink=\"http://www.w3.org/1999/xlink\">\n",
       "<path d=\"M69.9894 145.666C79.0656 146.806 86.7044 155.421 89.2673 162.337\" fill=\"none\" opacity=\"1\" stroke=\"#000000\" stroke-linecap=\"round\" stroke-linejoin=\"round\" stroke-width=\"3\"/>\n",
       "<path d=\"M77.7494 159.403L91.0351 164L90.3699 149.173\" fill=\"none\" opacity=\"1\" stroke=\"#000000\" stroke-linecap=\"round\" stroke-linejoin=\"round\" stroke-width=\"3\"/>\n",
       "<path d=\"M32.2242 130.821C32.7663 151.697 56.4663 154.985 69.1405 145.867C73.5279 142.711 76.5941 138.069 76.921 132.154C78.5049 103.497 31.5944 106.573 32.2242 130.821Z\" fill=\"none\" opacity=\"1\" stroke=\"#000000\" stroke-linecap=\"round\" stroke-linejoin=\"round\" stroke-width=\"3\"/>\n",
       "<path d=\"M34.8123 145.637C29.6799 146.529 18.81 158.983 18.81 158.983\" fill=\"none\" opacity=\"1\" stroke=\"#000000\" stroke-linecap=\"round\" stroke-linejoin=\"round\" stroke-width=\"3\"/>\n",
       "<path d=\"M155.375 144.956C164.451 146.096 172.09 154.711 174.653 161.627\" fill=\"none\" opacity=\"1\" stroke=\"#000000\" stroke-linecap=\"round\" stroke-linejoin=\"round\" stroke-width=\"3\"/>\n",
       "<path d=\"M163.135 158.693L176.42 163.29L175.755 148.463\" fill=\"none\" opacity=\"1\" stroke=\"#000000\" stroke-linecap=\"round\" stroke-linejoin=\"round\" stroke-width=\"3\"/>\n",
       "<path d=\"M117.609 130.111C118.152 150.987 141.852 154.275 154.526 145.157C158.913 142.001 161.979 137.359 162.306 131.444C163.89 102.787 116.98 105.863 117.609 130.111Z\" fill=\"none\" opacity=\"1\" stroke=\"#000000\" stroke-linecap=\"round\" stroke-linejoin=\"round\" stroke-width=\"3\"/>\n",
       "<path d=\"M120.198 144.927C115.065 145.819 104.195 158.273 104.195 158.273\" fill=\"none\" opacity=\"1\" stroke=\"#000000\" stroke-linecap=\"round\" stroke-linejoin=\"round\" stroke-width=\"3\"/>\n",
       "<path d=\"M242.937 146.048C252.013 147.188 259.652 155.803 262.215 162.719\" fill=\"none\" opacity=\"1\" stroke=\"#000000\" stroke-linecap=\"round\" stroke-linejoin=\"round\" stroke-width=\"3\"/>\n",
       "<path d=\"M250.697 159.785L263.983 164.382L263.317 149.556\" fill=\"none\" opacity=\"1\" stroke=\"#000000\" stroke-linecap=\"round\" stroke-linejoin=\"round\" stroke-width=\"3\"/>\n",
       "<path d=\"M205.172 131.203C205.714 152.079 229.414 155.367 242.088 146.25C246.476 143.094 249.542 138.451 249.869 132.536C251.453 103.879 204.542 106.955 205.172 131.203Z\" fill=\"none\" opacity=\"1\" stroke=\"#000000\" stroke-linecap=\"round\" stroke-linejoin=\"round\" stroke-width=\"3\"/>\n",
       "<path d=\"M207.76 146.019C202.627 146.911 191.758 159.365 191.758 159.365\" fill=\"none\" opacity=\"1\" stroke=\"#000000\" stroke-linecap=\"round\" stroke-linejoin=\"round\" stroke-width=\"3\"/>\n",
       "<path d=\"M330.968 146.862C340.044 148.002 347.683 156.617 350.246 163.533\" fill=\"none\" opacity=\"1\" stroke=\"#000000\" stroke-linecap=\"round\" stroke-linejoin=\"round\" stroke-width=\"3\"/>\n",
       "<path d=\"M338.728 160.599L352.014 165.196L351.348 150.369\" fill=\"none\" opacity=\"1\" stroke=\"#000000\" stroke-linecap=\"round\" stroke-linejoin=\"round\" stroke-width=\"3\"/>\n",
       "<path d=\"M293.203 132.017C293.745 152.893 317.445 156.181 330.119 147.064C334.506 143.907 337.573 139.265 337.899 133.35C339.483 104.693 292.573 107.769 293.203 132.017Z\" fill=\"none\" opacity=\"1\" stroke=\"#000000\" stroke-linecap=\"round\" stroke-linejoin=\"round\" stroke-width=\"3\"/>\n",
       "<path d=\"M295.791 146.833C290.658 147.725 279.788 160.179 279.788 160.179\" fill=\"none\" opacity=\"1\" stroke=\"#000000\" stroke-linecap=\"round\" stroke-linejoin=\"round\" stroke-width=\"3\"/>\n",
       "<path d=\"M416.353 146.152C425.429 147.292 433.068 155.907 435.631 162.823\" fill=\"none\" opacity=\"1\" stroke=\"#000000\" stroke-linecap=\"round\" stroke-linejoin=\"round\" stroke-width=\"3\"/>\n",
       "<path d=\"M424.113 159.889L437.399 164.486L436.734 149.66\" fill=\"none\" opacity=\"1\" stroke=\"#000000\" stroke-linecap=\"round\" stroke-linejoin=\"round\" stroke-width=\"3\"/>\n",
       "<path d=\"M378.588 131.307C379.13 152.183 402.83 155.471 415.504 146.354C419.892 143.197 422.958 138.555 423.285 132.64C424.869 103.983 377.958 107.059 378.588 131.307Z\" fill=\"none\" opacity=\"1\" stroke=\"#000000\" stroke-linecap=\"round\" stroke-linejoin=\"round\" stroke-width=\"3\"/>\n",
       "<path d=\"M381.176 146.123C376.044 147.015 365.174 159.469 365.174 159.469\" fill=\"none\" opacity=\"1\" stroke=\"#000000\" stroke-linecap=\"round\" stroke-linejoin=\"round\" stroke-width=\"3\"/>\n",
       "<path d=\"M503.915 147.244C512.992 148.384 520.631 157 523.193 163.915\" fill=\"none\" opacity=\"1\" stroke=\"#000000\" stroke-linecap=\"round\" stroke-linejoin=\"round\" stroke-width=\"3\"/>\n",
       "<path d=\"M511.675 160.981L524.961 165.578L524.296 150.752\" fill=\"none\" opacity=\"1\" stroke=\"#000000\" stroke-linecap=\"round\" stroke-linejoin=\"round\" stroke-width=\"3\"/>\n",
       "<path d=\"M466.15 132.4C466.692 153.275 490.392 156.563 503.067 147.446C507.454 144.29 510.52 139.647 510.847 133.733C512.431 105.075 465.52 108.151 466.15 132.4Z\" fill=\"none\" opacity=\"1\" stroke=\"#000000\" stroke-linecap=\"round\" stroke-linejoin=\"round\" stroke-width=\"3\"/>\n",
       "<path d=\"M468.738 147.215C463.606 148.107 452.736 160.561 452.736 160.561\" fill=\"none\" opacity=\"1\" stroke=\"#000000\" stroke-linecap=\"round\" stroke-linejoin=\"round\" stroke-width=\"3\"/>\n",
       "</svg>\n",
       "\n",
       "    <input style = \"width:2em;left:5%;top:45%;position:absolute\" readonly value = \"-5\">\n",
       "    <input style = \"width:2em;left:15%;top:45%;position:absolute\" readonly value = \"•2\">\n",
       "    <input style = \"width:2em;left:25.5%;top:45%;position:absolute\" readonly value = \"-5\">\n",
       "    <input style = \"width:2em;left:35.8%;top:45%;position:absolute\" readonly value = \"•2\">\n",
       "    <input style = \"width:2em;left:45.9%;top:45%;position:absolute\" readonly value = \"-5\">\n",
       "    <input style = \"width:2em;left:56.3%;top:45%;position:absolute\" readonly value = \"•2\">\n",
       "\n",
       "    <input style = \"width:3em;left:0%;top:63%;position:absolute\" readonly value = \"11\">\n",
       "    <input style = \"width:3em;left:10%;top:63%;position:absolute\" readonly value = \"6\">\n",
       "    <input style = \"width:3em;left:20.5%;top:63%;position:absolute\" readonly value = \"12\">\n",
       "    <input style = \"width:3em;left:30.8%;top:63%;position:absolute\" readonly value = \"7\">\n",
       "    <input style = \"width:3em;left:40.9%;top:63%;position:absolute\" readonly value = \"14\">\n",
       "    <input style = \"width:3em;left:50.3%;top:63%;position:absolute\" readonly value = \"9\">\n",
       "    <input style = \"width:3em;left:59.3%;top:63%;position:absolute\" readonly value = \"18\">\n",
       "    <h3 style=\"top:70%;position:absolute\">  Regel : -5 •2</h3>\n",
       "          \n",
       "</div>\n",
       "    </div>\n",
       "\n",
       "</body>\n",
       "</html>\n",
       "\n",
       "<style>\n",
       "    .mycomps{\n",
       "        color:black;\n",
       "        background-color: #fff8;\n",
       "        --color:aliceblue;\n",
       "        text-align:center;\n",
       "        font-size:1.2em;\n",
       "    }\n",
       "\n",
       "    input{\n",
       "        all:unset;\n",
       "        background:white;\n",
       "        text-align:left;\n",
       "        font-size:1em;\n",
       "        font-family:monospace;\n",
       "    }\n",
       "    svg{\n",
       "        position: absolute;\n",
       "        top:0px;\n",
       "        left:0px;\n",
       "    }\n",
       "    .field{\n",
       "        top:40%;\n",
       "        left:60%;\n",
       "        position: inherit;\n",
       "        border:unset;\n",
       "        width:2em;\n",
       "    }\n",
       "    table, tr, th{\n",
       "        border:1px solid black;\n",
       "    }\n",
       "\n",
       "</style>"
      ],
      "text/plain": [
       "<IPython.core.display.HTML object>"
      ]
     },
     "metadata": {},
     "output_type": "display_data"
    }
   ],
   "source": [
    "tip = f'''\n",
    "<h2> bei einer zahlenreihe gibt immer eine bestimmte Regel die zahlen vor. </h2>\n",
    "'''+compose(\n",
    "    svg+'''\n",
    "    <input style = \"width:2em;left:5%;top:45%;position:absolute\" readonly value = \"-5\">\n",
    "    <input style = \"width:2em;left:15%;top:45%;position:absolute\" readonly value = \"•2\">\n",
    "    <input style = \"width:2em;left:25.5%;top:45%;position:absolute\" readonly value = \"-5\">\n",
    "    <input style = \"width:2em;left:35.8%;top:45%;position:absolute\" readonly value = \"•2\">\n",
    "    <input style = \"width:2em;left:45.9%;top:45%;position:absolute\" readonly value = \"-5\">\n",
    "    <input style = \"width:2em;left:56.3%;top:45%;position:absolute\" readonly value = \"•2\">\n",
    "\n",
    "    <input style = \"width:3em;left:0%;top:63%;position:absolute\" readonly value = \"11\">\n",
    "    <input style = \"width:3em;left:10%;top:63%;position:absolute\" readonly value = \"6\">\n",
    "    <input style = \"width:3em;left:20.5%;top:63%;position:absolute\" readonly value = \"12\">\n",
    "    <input style = \"width:3em;left:30.8%;top:63%;position:absolute\" readonly value = \"7\">\n",
    "    <input style = \"width:3em;left:40.9%;top:63%;position:absolute\" readonly value = \"14\">\n",
    "    <input style = \"width:3em;left:50.3%;top:63%;position:absolute\" readonly value = \"9\">\n",
    "    <input style = \"width:3em;left:59.3%;top:63%;position:absolute\" readonly value = \"18\">\n",
    "    <h3 style=\"top:70%;position:absolute\">  Regel : -5 •2</h3>\n",
    "    ''')\n",
    "\n",
    "view(tip)"
   ]
  },
  {
   "cell_type": "code",
   "execution_count": 42,
   "metadata": {},
   "outputs": [],
   "source": [
    "params=[\n",
    "    [9,[\"+1\"]],\n",
    "    [5,[\"*2\",\"-4\"]],\n",
    "    [8,[\"*2\",\"-6\"]],\n",
    "    [0,[\"+1\",\"+2\",\"+3\",\"+4\",\"+5\",\"+6\",\"+7\"]],\n",
    "    [20,[\"-5\",\"+10\"]],\n",
    "    [20,[\"-7\",\"+9\"]],\n",
    "    [16,[\"+1\",\"+2\",\"+3\",\"+4\",\"+5\",\"+6\",\"+7\"]],\n",
    "]"
   ]
  },
  {
   "cell_type": "code",
   "execution_count": 43,
   "metadata": {},
   "outputs": [],
   "source": [
    "def gen(p):\n",
    "    start = p[0]\n",
    "    rules = p[1]\n",
    "    chain = [str(start)]\n",
    "    rule_chain = []\n",
    "    for i in range(6):\n",
    "        chain.append(str(eval(chain[-1]+rules[i%len(rules)])))\n",
    "        rule_chain.append(rules[i%len(rules)])\n",
    "    return chain,rule_chain"
   ]
  },
  {
   "cell_type": "code",
   "execution_count": 44,
   "metadata": {},
   "outputs": [],
   "source": [
    "chains = [*map(gen,params)]"
   ]
  },
  {
   "cell_type": "code",
   "execution_count": 45,
   "metadata": {},
   "outputs": [],
   "source": [
    "svg = extract(\"./vector_files/bubble_reihe_6.svg\")"
   ]
  },
  {
   "cell_type": "code",
   "execution_count": 46,
   "metadata": {},
   "outputs": [
    {
     "data": {
      "text/html": [
       "\n",
       "<body>\n",
       "    <div class = mycomps>\n",
       "    \n",
       "<h2> finde die regel raus und setze die reihe fort. </h2>\n",
       "<div class = \"graphic\" style = \"margin:auto;width:80vw;height:25.296302234573844vw;position:relative\">\n",
       "    <svg stroke-miterlimit=\"10\" style=\"fill-rule:nonzero;clip-rule:evenodd;stroke-linecap:round;stroke-linejoin:round;\" version=\"1.1\" viewBox=\"0 0 841.995 266.242\" xml:space=\"preserve\" xmlns=\"http://www.w3.org/2000/svg\" xmlns:xlink=\"http://www.w3.org/1999/xlink\">\n",
       "<path d=\"M69.9894 145.666C79.0656 146.806 86.7044 155.421 89.2673 162.337\" fill=\"none\" opacity=\"1\" stroke=\"#000000\" stroke-linecap=\"round\" stroke-linejoin=\"round\" stroke-width=\"3\"/>\n",
       "<path d=\"M77.7494 159.403L91.0351 164L90.3699 149.173\" fill=\"none\" opacity=\"1\" stroke=\"#000000\" stroke-linecap=\"round\" stroke-linejoin=\"round\" stroke-width=\"3\"/>\n",
       "<path d=\"M32.2242 130.821C32.7663 151.697 56.4663 154.985 69.1405 145.867C73.5279 142.711 76.5941 138.069 76.921 132.154C78.5049 103.497 31.5944 106.573 32.2242 130.821Z\" fill=\"none\" opacity=\"1\" stroke=\"#000000\" stroke-linecap=\"round\" stroke-linejoin=\"round\" stroke-width=\"3\"/>\n",
       "<path d=\"M34.8123 145.637C29.6799 146.529 18.81 158.983 18.81 158.983\" fill=\"none\" opacity=\"1\" stroke=\"#000000\" stroke-linecap=\"round\" stroke-linejoin=\"round\" stroke-width=\"3\"/>\n",
       "<path d=\"M155.375 144.956C164.451 146.096 172.09 154.711 174.653 161.627\" fill=\"none\" opacity=\"1\" stroke=\"#000000\" stroke-linecap=\"round\" stroke-linejoin=\"round\" stroke-width=\"3\"/>\n",
       "<path d=\"M163.135 158.693L176.42 163.29L175.755 148.463\" fill=\"none\" opacity=\"1\" stroke=\"#000000\" stroke-linecap=\"round\" stroke-linejoin=\"round\" stroke-width=\"3\"/>\n",
       "<path d=\"M117.609 130.111C118.152 150.987 141.852 154.275 154.526 145.157C158.913 142.001 161.979 137.359 162.306 131.444C163.89 102.787 116.98 105.863 117.609 130.111Z\" fill=\"none\" opacity=\"1\" stroke=\"#000000\" stroke-linecap=\"round\" stroke-linejoin=\"round\" stroke-width=\"3\"/>\n",
       "<path d=\"M120.198 144.927C115.065 145.819 104.195 158.273 104.195 158.273\" fill=\"none\" opacity=\"1\" stroke=\"#000000\" stroke-linecap=\"round\" stroke-linejoin=\"round\" stroke-width=\"3\"/>\n",
       "<path d=\"M242.937 146.048C252.013 147.188 259.652 155.803 262.215 162.719\" fill=\"none\" opacity=\"1\" stroke=\"#000000\" stroke-linecap=\"round\" stroke-linejoin=\"round\" stroke-width=\"3\"/>\n",
       "<path d=\"M250.697 159.785L263.983 164.382L263.317 149.556\" fill=\"none\" opacity=\"1\" stroke=\"#000000\" stroke-linecap=\"round\" stroke-linejoin=\"round\" stroke-width=\"3\"/>\n",
       "<path d=\"M205.172 131.203C205.714 152.079 229.414 155.367 242.088 146.25C246.476 143.094 249.542 138.451 249.869 132.536C251.453 103.879 204.542 106.955 205.172 131.203Z\" fill=\"none\" opacity=\"1\" stroke=\"#000000\" stroke-linecap=\"round\" stroke-linejoin=\"round\" stroke-width=\"3\"/>\n",
       "<path d=\"M207.76 146.019C202.627 146.911 191.758 159.365 191.758 159.365\" fill=\"none\" opacity=\"1\" stroke=\"#000000\" stroke-linecap=\"round\" stroke-linejoin=\"round\" stroke-width=\"3\"/>\n",
       "<path d=\"M330.968 146.862C340.044 148.002 347.683 156.617 350.246 163.533\" fill=\"none\" opacity=\"1\" stroke=\"#000000\" stroke-linecap=\"round\" stroke-linejoin=\"round\" stroke-width=\"3\"/>\n",
       "<path d=\"M338.728 160.599L352.014 165.196L351.348 150.369\" fill=\"none\" opacity=\"1\" stroke=\"#000000\" stroke-linecap=\"round\" stroke-linejoin=\"round\" stroke-width=\"3\"/>\n",
       "<path d=\"M293.203 132.017C293.745 152.893 317.445 156.181 330.119 147.064C334.506 143.907 337.573 139.265 337.899 133.35C339.483 104.693 292.573 107.769 293.203 132.017Z\" fill=\"none\" opacity=\"1\" stroke=\"#000000\" stroke-linecap=\"round\" stroke-linejoin=\"round\" stroke-width=\"3\"/>\n",
       "<path d=\"M295.791 146.833C290.658 147.725 279.788 160.179 279.788 160.179\" fill=\"none\" opacity=\"1\" stroke=\"#000000\" stroke-linecap=\"round\" stroke-linejoin=\"round\" stroke-width=\"3\"/>\n",
       "<path d=\"M416.353 146.152C425.429 147.292 433.068 155.907 435.631 162.823\" fill=\"none\" opacity=\"1\" stroke=\"#000000\" stroke-linecap=\"round\" stroke-linejoin=\"round\" stroke-width=\"3\"/>\n",
       "<path d=\"M424.113 159.889L437.399 164.486L436.734 149.66\" fill=\"none\" opacity=\"1\" stroke=\"#000000\" stroke-linecap=\"round\" stroke-linejoin=\"round\" stroke-width=\"3\"/>\n",
       "<path d=\"M378.588 131.307C379.13 152.183 402.83 155.471 415.504 146.354C419.892 143.197 422.958 138.555 423.285 132.64C424.869 103.983 377.958 107.059 378.588 131.307Z\" fill=\"none\" opacity=\"1\" stroke=\"#000000\" stroke-linecap=\"round\" stroke-linejoin=\"round\" stroke-width=\"3\"/>\n",
       "<path d=\"M381.176 146.123C376.044 147.015 365.174 159.469 365.174 159.469\" fill=\"none\" opacity=\"1\" stroke=\"#000000\" stroke-linecap=\"round\" stroke-linejoin=\"round\" stroke-width=\"3\"/>\n",
       "<path d=\"M503.915 147.244C512.992 148.384 520.631 157 523.193 163.915\" fill=\"none\" opacity=\"1\" stroke=\"#000000\" stroke-linecap=\"round\" stroke-linejoin=\"round\" stroke-width=\"3\"/>\n",
       "<path d=\"M511.675 160.981L524.961 165.578L524.296 150.752\" fill=\"none\" opacity=\"1\" stroke=\"#000000\" stroke-linecap=\"round\" stroke-linejoin=\"round\" stroke-width=\"3\"/>\n",
       "<path d=\"M466.15 132.4C466.692 153.275 490.392 156.563 503.067 147.446C507.454 144.29 510.52 139.647 510.847 133.733C512.431 105.075 465.52 108.151 466.15 132.4Z\" fill=\"none\" opacity=\"1\" stroke=\"#000000\" stroke-linecap=\"round\" stroke-linejoin=\"round\" stroke-width=\"3\"/>\n",
       "<path d=\"M468.738 147.215C463.606 148.107 452.736 160.561 452.736 160.561\" fill=\"none\" opacity=\"1\" stroke=\"#000000\" stroke-linecap=\"round\" stroke-linejoin=\"round\" stroke-width=\"3\"/>\n",
       "</svg>\n",
       "\n",
       "    <input style = \"width:2em;left:5%;top:45%;position:absolute\" >\n",
       "    <input style = \"width:2em;left:15%;top:45%;position:absolute\" >\n",
       "    <input style = \"width:2em;left:25.5%;top:45%;position:absolute\" >\n",
       "    <input style = \"width:2em;left:35.8%;top:45%;position:absolute\" >\n",
       "    <input style = \"width:2em;left:45.9%;top:45%;position:absolute\" >\n",
       "    <input style = \"width:2em;left:56.3%;top:45%;position:absolute\" >\n",
       "\n",
       "    <input style = \"width:3em;left:0%;top:63%;position:absolute\" readonly value = \"{}\">\n",
       "    <input style = \"width:3em;left:10%;top:63%;position:absolute\" readonly value = \"{}\">\n",
       "    <input style = \"width:3em;left:20.5%;top:63%;position:absolute\" readonly value = \"{}\">\n",
       "    <input style = \"width:3em;left:30.8%;top:63%;position:absolute\" >\n",
       "    <input style = \"width:3em;left:40.9%;top:63%;position:absolute\" >\n",
       "    <input style = \"width:3em;left:50.3%;top:63%;position:absolute\" >\n",
       "    <input style = \"width:3em;left:59.3%;top:63%;position:absolute\" >\n",
       "          \n",
       "</div>\n",
       "    </div>\n",
       "\n",
       "</body>\n",
       "</html>\n",
       "\n",
       "<style>\n",
       "    .mycomps{\n",
       "        color:black;\n",
       "        background-color: #fff8;\n",
       "        --color:aliceblue;\n",
       "        text-align:center;\n",
       "        font-size:1.2em;\n",
       "    }\n",
       "\n",
       "    input{\n",
       "        all:unset;\n",
       "        background:white;\n",
       "        text-align:left;\n",
       "        font-size:1em;\n",
       "        font-family:monospace;\n",
       "    }\n",
       "    svg{\n",
       "        position: absolute;\n",
       "        top:0px;\n",
       "        left:0px;\n",
       "    }\n",
       "    .field{\n",
       "        top:40%;\n",
       "        left:60%;\n",
       "        position: inherit;\n",
       "        border:unset;\n",
       "        width:2em;\n",
       "    }\n",
       "    table, tr, th{\n",
       "        border:1px solid black;\n",
       "    }\n",
       "\n",
       "</style>"
      ],
      "text/plain": [
       "<IPython.core.display.HTML object>"
      ]
     },
     "metadata": {},
     "output_type": "display_data"
    }
   ],
   "source": [
    "comp = f'''\n",
    "<h2> finde die regel raus und setze die reihe fort. </h2>\n",
    "'''+compose(\n",
    "    svg+'''\n",
    "    <input style = \"width:2em;left:5%;top:45%;position:absolute\" >\n",
    "    <input style = \"width:2em;left:15%;top:45%;position:absolute\" >\n",
    "    <input style = \"width:2em;left:25.5%;top:45%;position:absolute\" >\n",
    "    <input style = \"width:2em;left:35.8%;top:45%;position:absolute\" >\n",
    "    <input style = \"width:2em;left:45.9%;top:45%;position:absolute\" >\n",
    "    <input style = \"width:2em;left:56.3%;top:45%;position:absolute\" >\n",
    "\n",
    "    <input style = \"width:3em;left:0%;top:63%;position:absolute\" readonly value = \"{}\">\n",
    "    <input style = \"width:3em;left:10%;top:63%;position:absolute\" readonly value = \"{}\">\n",
    "    <input style = \"width:3em;left:20.5%;top:63%;position:absolute\" readonly value = \"{}\">\n",
    "    <input style = \"width:3em;left:30.8%;top:63%;position:absolute\" >\n",
    "    <input style = \"width:3em;left:40.9%;top:63%;position:absolute\" >\n",
    "    <input style = \"width:3em;left:50.3%;top:63%;position:absolute\" >\n",
    "    <input style = \"width:3em;left:59.3%;top:63%;position:absolute\" >\n",
    "    ''')\n",
    "view(comp)"
   ]
  },
  {
   "cell_type": "code",
   "execution_count": 47,
   "metadata": {},
   "outputs": [],
   "source": [
    "questions = [*map(lambda p: {\n",
    "    \"title\":comp.format(*p[0][:3]),\n",
    "    \"solution\":json.dumps(p[1]+p[0][3:]),\n",
    "    \"tip\":tip\n",
    "},chains)]"
   ]
  },
  {
   "cell_type": "code",
   "execution_count": 48,
   "metadata": {},
   "outputs": [
    {
     "data": {
      "text/html": [
       "\n",
       "<body>\n",
       "    <div class = mycomps>\n",
       "    \n",
       "<h2> finde die regel raus und setze die reihe fort. </h2>\n",
       "<div class = \"graphic\" style = \"margin:auto;width:80vw;height:25.296302234573844vw;position:relative\">\n",
       "    <svg stroke-miterlimit=\"10\" style=\"fill-rule:nonzero;clip-rule:evenodd;stroke-linecap:round;stroke-linejoin:round;\" version=\"1.1\" viewBox=\"0 0 841.995 266.242\" xml:space=\"preserve\" xmlns=\"http://www.w3.org/2000/svg\" xmlns:xlink=\"http://www.w3.org/1999/xlink\">\n",
       "<path d=\"M69.9894 145.666C79.0656 146.806 86.7044 155.421 89.2673 162.337\" fill=\"none\" opacity=\"1\" stroke=\"#000000\" stroke-linecap=\"round\" stroke-linejoin=\"round\" stroke-width=\"3\"/>\n",
       "<path d=\"M77.7494 159.403L91.0351 164L90.3699 149.173\" fill=\"none\" opacity=\"1\" stroke=\"#000000\" stroke-linecap=\"round\" stroke-linejoin=\"round\" stroke-width=\"3\"/>\n",
       "<path d=\"M32.2242 130.821C32.7663 151.697 56.4663 154.985 69.1405 145.867C73.5279 142.711 76.5941 138.069 76.921 132.154C78.5049 103.497 31.5944 106.573 32.2242 130.821Z\" fill=\"none\" opacity=\"1\" stroke=\"#000000\" stroke-linecap=\"round\" stroke-linejoin=\"round\" stroke-width=\"3\"/>\n",
       "<path d=\"M34.8123 145.637C29.6799 146.529 18.81 158.983 18.81 158.983\" fill=\"none\" opacity=\"1\" stroke=\"#000000\" stroke-linecap=\"round\" stroke-linejoin=\"round\" stroke-width=\"3\"/>\n",
       "<path d=\"M155.375 144.956C164.451 146.096 172.09 154.711 174.653 161.627\" fill=\"none\" opacity=\"1\" stroke=\"#000000\" stroke-linecap=\"round\" stroke-linejoin=\"round\" stroke-width=\"3\"/>\n",
       "<path d=\"M163.135 158.693L176.42 163.29L175.755 148.463\" fill=\"none\" opacity=\"1\" stroke=\"#000000\" stroke-linecap=\"round\" stroke-linejoin=\"round\" stroke-width=\"3\"/>\n",
       "<path d=\"M117.609 130.111C118.152 150.987 141.852 154.275 154.526 145.157C158.913 142.001 161.979 137.359 162.306 131.444C163.89 102.787 116.98 105.863 117.609 130.111Z\" fill=\"none\" opacity=\"1\" stroke=\"#000000\" stroke-linecap=\"round\" stroke-linejoin=\"round\" stroke-width=\"3\"/>\n",
       "<path d=\"M120.198 144.927C115.065 145.819 104.195 158.273 104.195 158.273\" fill=\"none\" opacity=\"1\" stroke=\"#000000\" stroke-linecap=\"round\" stroke-linejoin=\"round\" stroke-width=\"3\"/>\n",
       "<path d=\"M242.937 146.048C252.013 147.188 259.652 155.803 262.215 162.719\" fill=\"none\" opacity=\"1\" stroke=\"#000000\" stroke-linecap=\"round\" stroke-linejoin=\"round\" stroke-width=\"3\"/>\n",
       "<path d=\"M250.697 159.785L263.983 164.382L263.317 149.556\" fill=\"none\" opacity=\"1\" stroke=\"#000000\" stroke-linecap=\"round\" stroke-linejoin=\"round\" stroke-width=\"3\"/>\n",
       "<path d=\"M205.172 131.203C205.714 152.079 229.414 155.367 242.088 146.25C246.476 143.094 249.542 138.451 249.869 132.536C251.453 103.879 204.542 106.955 205.172 131.203Z\" fill=\"none\" opacity=\"1\" stroke=\"#000000\" stroke-linecap=\"round\" stroke-linejoin=\"round\" stroke-width=\"3\"/>\n",
       "<path d=\"M207.76 146.019C202.627 146.911 191.758 159.365 191.758 159.365\" fill=\"none\" opacity=\"1\" stroke=\"#000000\" stroke-linecap=\"round\" stroke-linejoin=\"round\" stroke-width=\"3\"/>\n",
       "<path d=\"M330.968 146.862C340.044 148.002 347.683 156.617 350.246 163.533\" fill=\"none\" opacity=\"1\" stroke=\"#000000\" stroke-linecap=\"round\" stroke-linejoin=\"round\" stroke-width=\"3\"/>\n",
       "<path d=\"M338.728 160.599L352.014 165.196L351.348 150.369\" fill=\"none\" opacity=\"1\" stroke=\"#000000\" stroke-linecap=\"round\" stroke-linejoin=\"round\" stroke-width=\"3\"/>\n",
       "<path d=\"M293.203 132.017C293.745 152.893 317.445 156.181 330.119 147.064C334.506 143.907 337.573 139.265 337.899 133.35C339.483 104.693 292.573 107.769 293.203 132.017Z\" fill=\"none\" opacity=\"1\" stroke=\"#000000\" stroke-linecap=\"round\" stroke-linejoin=\"round\" stroke-width=\"3\"/>\n",
       "<path d=\"M295.791 146.833C290.658 147.725 279.788 160.179 279.788 160.179\" fill=\"none\" opacity=\"1\" stroke=\"#000000\" stroke-linecap=\"round\" stroke-linejoin=\"round\" stroke-width=\"3\"/>\n",
       "<path d=\"M416.353 146.152C425.429 147.292 433.068 155.907 435.631 162.823\" fill=\"none\" opacity=\"1\" stroke=\"#000000\" stroke-linecap=\"round\" stroke-linejoin=\"round\" stroke-width=\"3\"/>\n",
       "<path d=\"M424.113 159.889L437.399 164.486L436.734 149.66\" fill=\"none\" opacity=\"1\" stroke=\"#000000\" stroke-linecap=\"round\" stroke-linejoin=\"round\" stroke-width=\"3\"/>\n",
       "<path d=\"M378.588 131.307C379.13 152.183 402.83 155.471 415.504 146.354C419.892 143.197 422.958 138.555 423.285 132.64C424.869 103.983 377.958 107.059 378.588 131.307Z\" fill=\"none\" opacity=\"1\" stroke=\"#000000\" stroke-linecap=\"round\" stroke-linejoin=\"round\" stroke-width=\"3\"/>\n",
       "<path d=\"M381.176 146.123C376.044 147.015 365.174 159.469 365.174 159.469\" fill=\"none\" opacity=\"1\" stroke=\"#000000\" stroke-linecap=\"round\" stroke-linejoin=\"round\" stroke-width=\"3\"/>\n",
       "<path d=\"M503.915 147.244C512.992 148.384 520.631 157 523.193 163.915\" fill=\"none\" opacity=\"1\" stroke=\"#000000\" stroke-linecap=\"round\" stroke-linejoin=\"round\" stroke-width=\"3\"/>\n",
       "<path d=\"M511.675 160.981L524.961 165.578L524.296 150.752\" fill=\"none\" opacity=\"1\" stroke=\"#000000\" stroke-linecap=\"round\" stroke-linejoin=\"round\" stroke-width=\"3\"/>\n",
       "<path d=\"M466.15 132.4C466.692 153.275 490.392 156.563 503.067 147.446C507.454 144.29 510.52 139.647 510.847 133.733C512.431 105.075 465.52 108.151 466.15 132.4Z\" fill=\"none\" opacity=\"1\" stroke=\"#000000\" stroke-linecap=\"round\" stroke-linejoin=\"round\" stroke-width=\"3\"/>\n",
       "<path d=\"M468.738 147.215C463.606 148.107 452.736 160.561 452.736 160.561\" fill=\"none\" opacity=\"1\" stroke=\"#000000\" stroke-linecap=\"round\" stroke-linejoin=\"round\" stroke-width=\"3\"/>\n",
       "</svg>\n",
       "\n",
       "    <input style = \"width:2em;left:5%;top:45%;position:absolute\" >\n",
       "    <input style = \"width:2em;left:15%;top:45%;position:absolute\" >\n",
       "    <input style = \"width:2em;left:25.5%;top:45%;position:absolute\" >\n",
       "    <input style = \"width:2em;left:35.8%;top:45%;position:absolute\" >\n",
       "    <input style = \"width:2em;left:45.9%;top:45%;position:absolute\" >\n",
       "    <input style = \"width:2em;left:56.3%;top:45%;position:absolute\" >\n",
       "\n",
       "    <input style = \"width:3em;left:0%;top:63%;position:absolute\" readonly value = \"16\">\n",
       "    <input style = \"width:3em;left:10%;top:63%;position:absolute\" readonly value = \"17\">\n",
       "    <input style = \"width:3em;left:20.5%;top:63%;position:absolute\" readonly value = \"19\">\n",
       "    <input style = \"width:3em;left:30.8%;top:63%;position:absolute\" >\n",
       "    <input style = \"width:3em;left:40.9%;top:63%;position:absolute\" >\n",
       "    <input style = \"width:3em;left:50.3%;top:63%;position:absolute\" >\n",
       "    <input style = \"width:3em;left:59.3%;top:63%;position:absolute\" >\n",
       "          \n",
       "</div>\n",
       "    </div>\n",
       "\n",
       "</body>\n",
       "</html>\n",
       "\n",
       "<style>\n",
       "    .mycomps{\n",
       "        color:black;\n",
       "        background-color: #fff8;\n",
       "        --color:aliceblue;\n",
       "        text-align:center;\n",
       "        font-size:1.2em;\n",
       "    }\n",
       "\n",
       "    input{\n",
       "        all:unset;\n",
       "        background:white;\n",
       "        text-align:left;\n",
       "        font-size:1em;\n",
       "        font-family:monospace;\n",
       "    }\n",
       "    svg{\n",
       "        position: absolute;\n",
       "        top:0px;\n",
       "        left:0px;\n",
       "    }\n",
       "    .field{\n",
       "        top:40%;\n",
       "        left:60%;\n",
       "        position: inherit;\n",
       "        border:unset;\n",
       "        width:2em;\n",
       "    }\n",
       "    table, tr, th{\n",
       "        border:1px solid black;\n",
       "    }\n",
       "\n",
       "</style>"
      ],
      "text/plain": [
       "<IPython.core.display.HTML object>"
      ]
     },
     "metadata": {},
     "output_type": "display_data"
    },
    {
     "data": {
      "text/plain": [
       "'[\"+1\", \"+2\", \"+3\", \"+4\", \"+5\", \"+6\", \"22\", \"26\", \"31\", \"37\"]'"
      ]
     },
     "execution_count": 48,
     "metadata": {},
     "output_type": "execute_result"
    }
   ],
   "source": [
    "q = questions[-1]\n",
    "view(q[\"title\"])\n",
    "q[\"solution\"]"
   ]
  },
  {
   "cell_type": "code",
   "execution_count": 49,
   "metadata": {},
   "outputs": [
    {
     "name": "stdout",
     "output_type": "stream",
     "text": [
      "view file:///Users/peergynt/fun/svelte/monsun/factory/question.html in browser\n"
     ]
    }
   ],
   "source": [
    "browse(q)"
   ]
  },
  {
   "cell_type": "code",
   "execution_count": 50,
   "metadata": {},
   "outputs": [],
   "source": [
    "collection.add_many(questions,5,\"zahlenreihe\")"
   ]
  },
  {
   "cell_type": "code",
   "execution_count": 51,
   "metadata": {},
   "outputs": [
    {
     "data": {
      "text/plain": [
       "<Collection math_C N75 R20>"
      ]
     },
     "execution_count": 51,
     "metadata": {},
     "output_type": "execute_result"
    }
   ],
   "source": [
    "collection"
   ]
  },
  {
   "cell_type": "markdown",
   "metadata": {},
   "source": [
    "### runden"
   ]
  },
  {
   "cell_type": "code",
   "execution_count": 52,
   "metadata": {},
   "outputs": [
    {
     "data": {
      "text/html": [
       "\n",
       "<body>\n",
       "    <div class = mycomps>\n",
       "    <p> zahlen kannst du runden. Achte dabei auf die zu rundende ziffer </p>\n",
       "<p><span style=\"font-weight:bold\"> 1,2,3,4 </span> rundest du ab.<span style=\"font-weight:bold\"> 5,6,7,8,9 </span> rundest du auf.</p>\n",
       "<p>247382 gerundet auf den Zehner: <span style=\"font-weight:bold\">247380</span></p>\n",
       "<p>247382 gerundet auf den Hunderter: <span style=\"font-weight:bold\">247400</span></p>\n",
       "<p>247382 gerundet auf den Tausender: <span style=\"font-weight:bold\">247000</span></p>\n",
       "<p>247382 gerundet auf den Zehntausender: <span style=\"font-weight:bold\">250000</span></p>\n",
       "<p>247382 gerundet auf den Hunderttausender: <span style=\"font-weight:bold\">200000</span></p>\n",
       "\n",
       "\n",
       "    </div>\n",
       "\n",
       "</body>\n",
       "</html>\n",
       "\n",
       "<style>\n",
       "    .mycomps{\n",
       "        color:black;\n",
       "        background-color: #fff8;\n",
       "        --color:aliceblue;\n",
       "        text-align:center;\n",
       "        font-size:1.2em;\n",
       "    }\n",
       "\n",
       "    input{\n",
       "        all:unset;\n",
       "        background:white;\n",
       "        text-align:left;\n",
       "        font-size:1em;\n",
       "        font-family:monospace;\n",
       "    }\n",
       "    svg{\n",
       "        position: absolute;\n",
       "        top:0px;\n",
       "        left:0px;\n",
       "    }\n",
       "    .field{\n",
       "        top:40%;\n",
       "        left:60%;\n",
       "        position: inherit;\n",
       "        border:unset;\n",
       "        width:2em;\n",
       "    }\n",
       "    table, tr, th{\n",
       "        border:1px solid black;\n",
       "    }\n",
       "\n",
       "</style>"
      ],
      "text/plain": [
       "<IPython.core.display.HTML object>"
      ]
     },
     "metadata": {},
     "output_type": "display_data"
    }
   ],
   "source": [
    "tip = '''<p> zahlen kannst du runden. Achte dabei auf die zu rundende ziffer </p>\n",
    "<p><span style=\"font-weight:bold\"> 1,2,3,4 </span> rundest du ab.<span style=\"font-weight:bold\"> 5,6,7,8,9 </span> rundest du auf.</p>\n",
    "<p>247382 gerundet auf den Zehner: <span style=\"font-weight:bold\">247380</span></p>\n",
    "<p>247382 gerundet auf den Hunderter: <span style=\"font-weight:bold\">247400</span></p>\n",
    "<p>247382 gerundet auf den Tausender: <span style=\"font-weight:bold\">247000</span></p>\n",
    "<p>247382 gerundet auf den Zehntausender: <span style=\"font-weight:bold\">250000</span></p>\n",
    "<p>247382 gerundet auf den Hunderttausender: <span style=\"font-weight:bold\">200000</span></p>\n",
    "\n",
    "'''\n",
    "\n",
    "view(tip)"
   ]
  },
  {
   "cell_type": "code",
   "execution_count": 53,
   "metadata": {},
   "outputs": [],
   "source": [
    "title = \"runde {} auf den {}\""
   ]
  },
  {
   "cell_type": "code",
   "execution_count": 54,
   "metadata": {},
   "outputs": [],
   "source": [
    "nums = [random.randint(1e5,1e6-1) for _ in range(5)]\n",
    "params = [[str(round(num,-1)),[str(num),\"Zehner\"]] for num in nums]\n",
    "nums = [random.randint(1e5,1e6-1) for _ in range(5)]\n",
    "params += [[str(round(num,-2)),[str(num),\"Hunderter\"]] for num in nums]\n",
    "nums = [random.randint(1e5,1e6-1) for _ in range(5)]\n",
    "params += [[str(round(num,-3)),[str(num),\"Tausender\"]] for num in nums]\n",
    "nums = [random.randint(1e5,1e6-1) for _ in range(5)]\n",
    "params += [[str(round(num,-4)),[str(num),\"Zehntausender\"]] for num in nums]\n",
    "nums = [random.randint(1e5,1e6-1) for _ in range(5)]\n",
    "params += [[str(round(num,-5)),[str(num),\"Hunderttausender\"]] for num in nums]"
   ]
  },
  {
   "cell_type": "code",
   "execution_count": 55,
   "metadata": {},
   "outputs": [],
   "source": [
    "questions = [*map (lambda p: get_question(title,[p[0]],p[1],tip),params)]"
   ]
  },
  {
   "cell_type": "code",
   "execution_count": 56,
   "metadata": {},
   "outputs": [
    {
     "data": {
      "text/plain": [
       "'[\"100000\"]'"
      ]
     },
     "execution_count": 56,
     "metadata": {},
     "output_type": "execute_result"
    }
   ],
   "source": [
    "questions[-1]['solution']"
   ]
  },
  {
   "cell_type": "code",
   "execution_count": 57,
   "metadata": {},
   "outputs": [
    {
     "name": "stdout",
     "output_type": "stream",
     "text": [
      "view file:///Users/peergynt/fun/svelte/monsun/factory/question.html in browser\n"
     ]
    }
   ],
   "source": [
    "browse(questions[0])"
   ]
  },
  {
   "cell_type": "code",
   "execution_count": 58,
   "metadata": {},
   "outputs": [
    {
     "data": {
      "text/plain": [
       "'[\"151520\"]'"
      ]
     },
     "execution_count": 58,
     "metadata": {},
     "output_type": "execute_result"
    }
   ],
   "source": [
    "questions[0]['solution']"
   ]
  },
  {
   "cell_type": "code",
   "execution_count": 59,
   "metadata": {},
   "outputs": [],
   "source": [
    "collection.add_many(questions,12,\"runde\")"
   ]
  },
  {
   "cell_type": "markdown",
   "metadata": {},
   "source": [
    "### überschlag bei addition und subtraktion"
   ]
  },
  {
   "cell_type": "code",
   "execution_count": 60,
   "metadata": {},
   "outputs": [
    {
     "data": {
      "text/html": [
       "\n",
       "<body>\n",
       "    <div class = mycomps>\n",
       "    \n",
       "<p>Bei der <span style=\"font-weight:bold\">Überschlagsrechnung</span> rechnest du mit gerundeten zahlen. \n",
       "Das kann dir helfen um dein Ergebniss zu\n",
       "überprüfen oder wenn du schnell ein Ergebnis brauchst.</p>\n",
       "<p>\n",
       "23847 + 53349 = ?\n",
       "</p>\n",
       "\n",
       "<p> auf den Tausender gerundet: 24000 + 53000 = 77000</p>\n",
       "<p> auf den Zehntausender gerundet: 20000 + 50000 = 70000</p>\n",
       "\n",
       "    </div>\n",
       "\n",
       "</body>\n",
       "</html>\n",
       "\n",
       "<style>\n",
       "    .mycomps{\n",
       "        color:black;\n",
       "        background-color: #fff8;\n",
       "        --color:aliceblue;\n",
       "        text-align:center;\n",
       "        font-size:1.2em;\n",
       "    }\n",
       "\n",
       "    input{\n",
       "        all:unset;\n",
       "        background:white;\n",
       "        text-align:left;\n",
       "        font-size:1em;\n",
       "        font-family:monospace;\n",
       "    }\n",
       "    svg{\n",
       "        position: absolute;\n",
       "        top:0px;\n",
       "        left:0px;\n",
       "    }\n",
       "    .field{\n",
       "        top:40%;\n",
       "        left:60%;\n",
       "        position: inherit;\n",
       "        border:unset;\n",
       "        width:2em;\n",
       "    }\n",
       "    table, tr, th{\n",
       "        border:1px solid black;\n",
       "    }\n",
       "\n",
       "</style>"
      ],
      "text/plain": [
       "<IPython.core.display.HTML object>"
      ]
     },
     "metadata": {},
     "output_type": "display_data"
    }
   ],
   "source": [
    "tip = '''\n",
    "<p>Bei der <span style=\"font-weight:bold\">Überschlagsrechnung</span> rechnest du mit gerundeten zahlen. \n",
    "Das kann dir helfen um dein Ergebniss zu\n",
    "überprüfen oder wenn du schnell ein Ergebnis brauchst.</p>\n",
    "<p>\n",
    "23847 + 53349 = ?\n",
    "</p>\n",
    "\n",
    "<p> auf den Tausender gerundet: 24000 + 53000 = 77000</p>\n",
    "<p> auf den Zehntausender gerundet: 20000 + 50000 = 70000</p>\n",
    "'''\n",
    "view(tip)"
   ]
  },
  {
   "cell_type": "code",
   "execution_count": 61,
   "metadata": {},
   "outputs": [
    {
     "data": {
      "text/html": [
       "\n",
       "<body>\n",
       "    <div class = mycomps>\n",
       "    \n",
       "<p>wähle das richtige Ergebniss aus und trage es unten ein</p>\n",
       "<p>{}</p>\n",
       "<p>{}</p>\n",
       "<input>\n",
       "\n",
       "    </div>\n",
       "\n",
       "</body>\n",
       "</html>\n",
       "\n",
       "<style>\n",
       "    .mycomps{\n",
       "        color:black;\n",
       "        background-color: #fff8;\n",
       "        --color:aliceblue;\n",
       "        text-align:center;\n",
       "        font-size:1.2em;\n",
       "    }\n",
       "\n",
       "    input{\n",
       "        all:unset;\n",
       "        background:white;\n",
       "        text-align:left;\n",
       "        font-size:1em;\n",
       "        font-family:monospace;\n",
       "    }\n",
       "    svg{\n",
       "        position: absolute;\n",
       "        top:0px;\n",
       "        left:0px;\n",
       "    }\n",
       "    .field{\n",
       "        top:40%;\n",
       "        left:60%;\n",
       "        position: inherit;\n",
       "        border:unset;\n",
       "        width:2em;\n",
       "    }\n",
       "    table, tr, th{\n",
       "        border:1px solid black;\n",
       "    }\n",
       "\n",
       "</style>"
      ],
      "text/plain": [
       "<IPython.core.display.HTML object>"
      ]
     },
     "metadata": {},
     "output_type": "display_data"
    }
   ],
   "source": [
    "comp = '''\n",
    "<p>wähle das richtige Ergebniss aus und trage es unten ein</p>\n",
    "<p>{}</p>\n",
    "<p>{}</p>\n",
    "<input>\n",
    "'''\n",
    "view(comp)"
   ]
  },
  {
   "cell_type": "code",
   "execution_count": 62,
   "metadata": {},
   "outputs": [],
   "source": [
    "def solve():\n",
    "    a,b = random.randint(1e5,1e6-1),random.randint(1e5,1e6-1)\n",
    "    op = \"\"\n",
    "    if random.random() > 0.5:\n",
    "        op = \"+\"\n",
    "        res = a+b\n",
    "        if res > 1000000:return solve()\n",
    "    else:\n",
    "        op = \"-\"\n",
    "        res = a+b\n",
    "        if res > 1000000:return solve()\n",
    "        c = a\n",
    "        a = res \n",
    "        res = c\n",
    "\n",
    "\n",
    "    op2 = \"-\" if random.random() > 0.5 else \"+\"\n",
    "    wrong = eval (str(res) +op2+str(random.randint(200000,300000)))\n",
    "    if wrong >1000000 or wrong <0 :return solve()\n",
    "    ex = f\"{a} {op} {b} = {res}\"\n",
    "    wex = f\"{a} {op} {b} = {wrong}\"\n",
    "\n",
    "    res = json.dumps([res])\n",
    "    \n",
    "    if random.random()>0.5:\n",
    "        return [[ex,wex],res]\n",
    "    else:\n",
    "        return  [[wex,ex],res]"
   ]
  },
  {
   "cell_type": "code",
   "execution_count": 63,
   "metadata": {},
   "outputs": [],
   "source": [
    "q = [get_question(comp,params[1],params[0],tip) for params in [solve() for _ in range(20)] ]    "
   ]
  },
  {
   "cell_type": "code",
   "execution_count": 64,
   "metadata": {},
   "outputs": [
    {
     "name": "stdout",
     "output_type": "stream",
     "text": [
      "view file:///Users/peergynt/fun/svelte/monsun/factory/question.html in browser\n"
     ]
    }
   ],
   "source": [
    "browse(q[3])"
   ]
  },
  {
   "cell_type": "code",
   "execution_count": 65,
   "metadata": {},
   "outputs": [],
   "source": [
    "collection.add_many(q,5,series_name='ueberschlag')"
   ]
  },
  {
   "cell_type": "code",
   "execution_count": 66,
   "metadata": {},
   "outputs": [
    {
     "data": {
      "text/plain": [
       "<Collection math_C N120 R37>"
      ]
     },
     "execution_count": 66,
     "metadata": {},
     "output_type": "execute_result"
    }
   ],
   "source": [
    "collection"
   ]
  },
  {
   "attachments": {},
   "cell_type": "markdown",
   "metadata": {},
   "source": [
    "### schriftlich addieren"
   ]
  },
  {
   "cell_type": "code",
   "execution_count": null,
   "metadata": {},
   "outputs": [],
   "source": [
    "schr_mul_style = '''<style>\n",
    "    .underline{\n",
    "        border:1px solid black;\n",
    "        width:7em;\n",
    "        margin:auto;\n",
    "    }\n",
    "    .table{\n",
    "        border:2px solid black;\n",
    "        height:5em;\n",
    "        width:7em;\n",
    "        margin:auto;\n",
    "        background-color:white;\n",
    "    }\n",
    "    .row{\n",
    "        width:100%;\n",
    "        height:1em;\n",
    "        display: flex;\n",
    "    }\n",
    "    .row>div{\n",
    "        flex:1;\n",
    "        border-bottom:1px solid black;\n",
    "        border-right:1px solid black;\n",
    "    }\n",
    "    .row>div>input{\n",
    "        all:unset;\n",
    "        width:.9em;\n",
    "        height:.9em;\n",
    "        background-color:rgba(0,255,255,0.2);\n",
    "    }\n",
    "    .mini{\n",
    "        color:red;\n",
    "        font-size: .7em;\n",
    "        height:1.45em;\n",
    "    }\n",
    "    div{\n",
    "        font-family: monospace;\n",
    "    }\n",
    "    span{\n",
    "        font-weight:bold\n",
    "    }\n",
    "</style>'''"
   ]
  },
  {
   "cell_type": "code",
   "execution_count": 82,
   "metadata": {},
   "outputs": [
    {
     "data": {
      "text/html": [
       "\n",
       "<body>\n",
       "    <div class = mycomps>\n",
       "    \n",
       "\n",
       "<p> Beim <span>schriftlichen Addieren</span> rechnest du jede Ziffer einzelnd zusammen. Du fängst mit den Einern an. Is das Ergebniss von zwei Ziffern \n",
       "größer als 9 schreibst du einen <span class = mini>Übertrag 1</span> für die nächste Spalte</p>\n",
       "\n",
       "<div class = table>\n",
       "    <div class = row> <div> </div><div> </div><div> </div><div> </div><div> </div><div> </div><div> </div><div> </div><div> </div> </div>\n",
       "    <div class = row> <div> </div><div> </div><div> </div><div></div><div> </div><div> </div><div> </div><div> </div><div> </div> </div>\n",
       "    <div class = row> <div> </div><div> </div><div> </div><div>5</div><div>3</div><div>8</div><div>3</div><div>2</div><div> </div> </div>\n",
       "    <div class = row> <div> </div><div>+</div><div> </div><div>6</div><div>4</div><div>6</div><div>1</div><div>9</div><div> </div> </div>\n",
       "    <div class = \"row mini\"> <div> </div><div> </div><div>1</div><div> </div><div>1</div><div> </div><div>1</div><div> </div><div> </div> </div>\n",
       "    <div class = underline></div>\n",
       "    <div class = row> <div> </div><div> </div><div>1</div><div>1</div><div>8</div><div>4</div><div>5</div><div>1</div><div> </div> </div>\n",
       "    <div class = row> <div> </div><div> </div><div> </div><div> </div><div> </div><div> </div><div> </div><div> </div><div> </div> </div>\n",
       "</div>\n",
       "<br></br>\n",
       "<style>\n",
       "    .table{\n",
       "        width:9em;\n",
       "        height:7em;\n",
       "        background-color:white;\n",
       "        margin:auto;\n",
       "    }\n",
       "    .row{\n",
       "        width:100%;\n",
       "        height:1em;\n",
       "        display:flex;\n",
       "    }\n",
       "    .row>div{\n",
       "        flex:1;\n",
       "        height:.9em;\n",
       "        position:relative;\n",
       "        border-bottom:1px solid black;\n",
       "    }\n",
       "</style>\n",
       "    </div>\n",
       "\n",
       "</body>\n",
       "</html>\n",
       "\n",
       "<style>\n",
       "    .mycomps{\n",
       "        color:black;\n",
       "        background-color: #fff8;\n",
       "        --color:aliceblue;\n",
       "        text-align:center;\n",
       "        font-size:1.2em;\n",
       "    }\n",
       "\n",
       "    input{\n",
       "        all:unset;\n",
       "        background:white;\n",
       "        text-align:left;\n",
       "        font-size:1em;\n",
       "        font-family:monospace;\n",
       "    }\n",
       "    svg{\n",
       "        position: absolute;\n",
       "        top:0px;\n",
       "        left:0px;\n",
       "    }\n",
       "    .field{\n",
       "        top:40%;\n",
       "        left:60%;\n",
       "        position: inherit;\n",
       "        border:unset;\n",
       "        width:2em;\n",
       "    }\n",
       "    table, tr, th{\n",
       "        border:1px solid black;\n",
       "    }\n",
       "\n",
       "</style>"
      ],
      "text/plain": [
       "<IPython.core.display.HTML object>"
      ]
     },
     "metadata": {},
     "output_type": "display_data"
    }
   ],
   "source": [
    "tip='''\n",
    "\n",
    "<p> Beim <span>schriftlichen Addieren</span> rechnest du jede Ziffer einzelnd zusammen. Du fängst mit den Einern an. Is das Ergebniss von zwei Ziffern \n",
    "größer als 9 schreibst du einen <span class = mini>Übertrag 1</span> für die nächste Spalte</p>\n",
    "\n",
    "<div class = table>\n",
    "    <div class = row> <div> </div><div> </div><div> </div><div> </div><div> </div><div> </div><div> </div><div> </div><div> </div> </div>\n",
    "    <div class = row> <div> </div><div> </div><div> </div><div></div><div> </div><div> </div><div> </div><div> </div><div> </div> </div>\n",
    "    <div class = row> <div> </div><div> </div><div> </div><div>5</div><div>3</div><div>8</div><div>3</div><div>2</div><div> </div> </div>\n",
    "    <div class = row> <div> </div><div>+</div><div> </div><div>6</div><div>4</div><div>6</div><div>1</div><div>9</div><div> </div> </div>\n",
    "    <div class = \"row mini\"> <div> </div><div> </div><div>1</div><div> </div><div>1</div><div> </div><div>1</div><div> </div><div> </div> </div>\n",
    "    <div class = underline></div>\n",
    "    <div class = row> <div> </div><div> </div><div>1</div><div>1</div><div>8</div><div>4</div><div>5</div><div>1</div><div> </div> </div>\n",
    "    <div class = row> <div> </div><div> </div><div> </div><div> </div><div> </div><div> </div><div> </div><div> </div><div> </div> </div>\n",
    "</div>\n",
    "<br></br>'''\n",
    "schr_add_style = '''\n",
    "<style>\n",
    "    .table{\n",
    "        width:9em;\n",
    "        height:7em;\n",
    "        background-color:white;\n",
    "        margin:auto;\n",
    "    }\n",
    "    .row{\n",
    "        width:100%;\n",
    "        height:1em;\n",
    "        display:flex;\n",
    "    }\n",
    "    .row>div{\n",
    "        flex:1;\n",
    "        height:.9em;\n",
    "        position:relative;\n",
    "        border-bottom:1px solid black;\n",
    "    }\n",
    "</style>'''\n",
    "# tip = lib.question_utils.component_to_html(tip+schr_add_style)\n",
    "\n",
    "view(tip+schr_add_style)"
   ]
  },
  {
   "cell_type": "code",
   "execution_count": 97,
   "metadata": {},
   "outputs": [
    {
     "data": {
      "text/html": [
       "\n",
       "<body>\n",
       "    <div class = mycomps>\n",
       "    \n",
       "<p></p>\n",
       "<div class=table>\n",
       "<div class = row><div></div><div></div><div></div><div></div><div></div><div></div><div></div><div></div><div></div></div>\n",
       "<div class = row><div></div><div></div><div></div><div></div><div></div><div></div><div></div><div></div><div></div></div>\n",
       "<div class = row><div></div><div></div><div></div><div></div><div></div><div></div><div></div><div></div><div></div></div>\n",
       "<div class = row><div></div><div></div><div></div><div></div><div></div><div></div><div></div><div></div><div></div></div>\n",
       "<div class = \"row mini\"><div></div><div></div><div></div><div></div><div></div><div></div><div></div><div></div><div></div></div>\n",
       "<div class = row><div></div><div></div><div></div><div></div><div></div><div></div><div></div><div></div><div></div></div>\n",
       "<div class = row><div></div><div></div><div></div><div></div><div></div><div></div><div></div><div></div><div></div></div>\n",
       "</div>\n",
       "<p></p>\n",
       "<style>\n",
       "    div{\n",
       "        font-size:15px;\n",
       "    }\n",
       "    .table{\n",
       "        width:9em;\n",
       "        height:7em;\n",
       "    }\n",
       "    .row{\n",
       "        width:100%;\n",
       "        height:1em;\n",
       "    }\n",
       "    .row>div{\n",
       "        height:1em\n",
       "    }\n",
       "    .mini{\n",
       "        font-size:15px;\n",
       "        height:1em;\n",
       "    }\n",
       "    .mini>div{\n",
       "        font-size:.7em;\n",
       "    }\n",
       "    \n",
       "</style>\n",
       "\n",
       "    </div>\n",
       "\n",
       "</body>\n",
       "</html>\n",
       "\n",
       "<style>\n",
       "    .mycomps{\n",
       "        color:black;\n",
       "        background-color: #fff8;\n",
       "        --color:aliceblue;\n",
       "        text-align:center;\n",
       "        font-size:1.2em;\n",
       "    }\n",
       "\n",
       "    input{\n",
       "        all:unset;\n",
       "        background:white;\n",
       "        text-align:left;\n",
       "        font-size:1em;\n",
       "        font-family:monospace;\n",
       "    }\n",
       "    svg{\n",
       "        position: absolute;\n",
       "        top:0px;\n",
       "        left:0px;\n",
       "    }\n",
       "    .field{\n",
       "        top:40%;\n",
       "        left:60%;\n",
       "        position: inherit;\n",
       "        border:unset;\n",
       "        width:2em;\n",
       "    }\n",
       "    table, tr, th{\n",
       "        border:1px solid black;\n",
       "    }\n",
       "\n",
       "</style>"
      ],
      "text/plain": [
       "<IPython.core.display.HTML object>"
      ]
     },
     "metadata": {},
     "output_type": "display_data"
    }
   ],
   "source": [
    "comp = '''\n",
    "<p></p>\n",
    "<div class=table>\n",
    "<div class = row><div></div><div></div><div></div><div></div><div></div><div></div><div></div><div></div><div></div></div>\n",
    "<div class = row><div></div><div></div><div></div><div></div><div></div><div></div><div></div><div></div><div></div></div>\n",
    "<div class = row><div></div><div></div><div></div><div></div><div></div><div></div><div></div><div></div><div></div></div>\n",
    "<div class = row><div></div><div></div><div></div><div></div><div></div><div></div><div></div><div></div><div></div></div>\n",
    "<div class = \"row mini\"><div></div><div></div><div></div><div></div><div></div><div></div><div></div><div></div><div></div></div>\n",
    "<div class = row><div></div><div></div><div></div><div></div><div></div><div></div><div></div><div></div><div></div></div>\n",
    "<div class = row><div></div><div></div><div></div><div></div><div></div><div></div><div></div><div></div><div></div></div>\n",
    "</div>\n",
    "<p></p>\n",
    "<style>\n",
    "    div{\n",
    "        font-size:15px;\n",
    "    }\n",
    "    .table{\n",
    "        width:9em;\n",
    "        height:7em;\n",
    "    }\n",
    "    .row{\n",
    "        width:100%;\n",
    "        height:1em;\n",
    "    }\n",
    "    .row>div{\n",
    "        height:1em\n",
    "    }\n",
    "    .mini{\n",
    "        font-size:15px;\n",
    "        height:1em;\n",
    "    }\n",
    "    .mini>div{\n",
    "        font-size:.7em;\n",
    "    }\n",
    "    \n",
    "</style>\n",
    "'''\n",
    "view(comp)"
   ]
  },
  {
   "cell_type": "code",
   "execution_count": null,
   "metadata": {},
   "outputs": [],
   "source": []
  },
  {
   "cell_type": "code",
   "execution_count": 90,
   "metadata": {},
   "outputs": [],
   "source": [
    "f = open(\"index.html\",\"w\")\n",
    "f.write(tip)\n",
    "f.write(schr_add_style)\n",
    "f.close()"
   ]
  },
  {
   "cell_type": "code",
   "execution_count": 88,
   "metadata": {},
   "outputs": [
    {
     "data": {
      "text/plain": [
       "'\\n\\n<p> Beim <span>schriftlichen Addieren</span> rechnest du jede Ziffer einzelnd zusammen. Du fängst mit den Einern an. Is das Ergebniss von zwei Ziffern \\ngrößer als 9 schreibst du einen <span class = mini>Übertrag 1</span> für die nächste Spalte</p>\\n\\n<div class = table>\\n    <div class = row> <div> </div><div> </div><div> </div><div> </div><div> </div><div> </div><div> </div><div> </div><div> </div> </div>\\n    <div class = row> <div> </div><div> </div><div> </div><div></div><div> </div><div> </div><div> </div><div> </div><div> </div> </div>\\n    <div class = row> <div> </div><div> </div><div> </div><div>5</div><div>3</div><div>8</div><div>3</div><div>2</div><div> </div> </div>\\n    <div class = row> <div> </div><div>+</div><div> </div><div>6</div><div>4</div><div>6</div><div>1</div><div>9</div><div> </div> </div>\\n    <div class = \"row mini\"> <div> </div><div> </div><div>1</div><div> </div><div>1</div><div> </div><div>1</div><div> </div><div> </div> </div>\\n    <div class = underline></div>\\n    <div class = row> <div> </div><div> </div><div>1</div><div>1</div><div>8</div><div>4</div><div>5</div><div>1</div><div> </div> </div>\\n    <div class = row> <div> </div><div> </div><div> </div><div> </div><div> </div><div> </div><div> </div><div> </div><div> </div> </div>\\n</div>\\n<br></br>'"
      ]
     },
     "execution_count": 88,
     "metadata": {},
     "output_type": "execute_result"
    }
   ],
   "source": [
    "tip"
   ]
  },
  {
   "cell_type": "code",
   "execution_count": 62,
   "metadata": {},
   "outputs": [],
   "source": [
    "def formatter(template):\n",
    "    return lambda *x:template.format(*x)\n",
    "\n",
    "tabl = formatter(\"<br><div class=table>{}</div><br>\")\n",
    "trow = formatter(\"<div class=row >{}</div>\\n\")\n",
    "telm = formatter(\"<div>{}</div>\")\n",
    "underline =\"<div class = underline></div>\\n\"\n",
    "inpt = \"<div><input></div>\"\n",
    "mini_red = formatter(\"<div class=\\\"mini row\\\">{}</div>\\n\")"
   ]
  },
  {
   "cell_type": "code",
   "execution_count": 63,
   "metadata": {},
   "outputs": [],
   "source": [
    "def mkrow (a,style = \"\"):\n",
    "    style += \" row\"\n",
    "    res = \"\"\n",
    "    for c in a:\n",
    "        res += telm(c) \n",
    "    return \"<div class=\\\"row {}\\\">{}</div>\".format(style,res)"
   ]
  },
  {
   "cell_type": "code",
   "execution_count": 64,
   "metadata": {},
   "outputs": [],
   "source": [
    "def mktabl(*a):\n",
    "    res =\"\"\n",
    "    for l in a:\n",
    "        res += mkrow(l)\n",
    "    return tabl(res)"
   ]
  },
  {
   "cell_type": "code",
   "execution_count": 65,
   "metadata": {},
   "outputs": [],
   "source": [
    "empty = telm(\" \")\n",
    "rows = trow(empty*9)*2\n",
    "rows += trow(empty*3+telm(\"{}\")*5+empty)\n",
    "rows += trow(empty+telm('+')+empty+telm(\"{}\")*5+empty)\n",
    "rows += mini_red(empty*2 +\"<div><input></div>\"*6+empty)\n",
    "rows +=\"<div class = underline></div>\\n\"\n",
    "rows += trow(empty*2 +\"<div><input></div>\"*6+empty)\n",
    "rows += trow(empty*9)\n"
   ]
  },
  {
   "cell_type": "code",
   "execution_count": 66,
   "metadata": {},
   "outputs": [
    {
     "data": {
      "text/html": [
       "\n",
       "<body>\n",
       "    <div class = mycomps>\n",
       "    <h2>addiere schriftlich<h2><br><div class=table><div class=row ><div> </div><div> </div><div> </div><div> </div><div> </div><div> </div><div> </div><div> </div><div> </div></div>\n",
       "<div class=row ><div> </div><div> </div><div> </div><div> </div><div> </div><div> </div><div> </div><div> </div><div> </div></div>\n",
       "<div class=row ><div> </div><div> </div><div> </div><div>{}</div><div>{}</div><div>{}</div><div>{}</div><div>{}</div><div> </div></div>\n",
       "<div class=row ><div> </div><div>+</div><div> </div><div>{}</div><div>{}</div><div>{}</div><div>{}</div><div>{}</div><div> </div></div>\n",
       "<div class=\"mini row\"><div> </div><div> </div><div><input></div><div><input></div><div><input></div><div><input></div><div><input></div><div><input></div><div> </div></div>\n",
       "<div class = underline></div>\n",
       "<div class=row ><div> </div><div> </div><div><input></div><div><input></div><div><input></div><div><input></div><div><input></div><div><input></div><div> </div></div>\n",
       "<div class=row ><div> </div><div> </div><div> </div><div> </div><div> </div><div> </div><div> </div><div> </div><div> </div></div>\n",
       "</div><br>\n",
       "    </div>\n",
       "\n",
       "</body>\n",
       "</html>\n",
       "\n",
       "<style>\n",
       "    .mycomps{\n",
       "        color:black;\n",
       "        background-color: #fff8;\n",
       "        --color:aliceblue;\n",
       "        text-align:center;\n",
       "        font-size:1.2em;\n",
       "    }\n",
       "\n",
       "    input{\n",
       "        all:unset;\n",
       "        background:white;\n",
       "        text-align:left;\n",
       "        font-size:1em;\n",
       "        font-family:monospace;\n",
       "    }\n",
       "    svg{\n",
       "        position: absolute;\n",
       "        top:0px;\n",
       "        left:0px;\n",
       "    }\n",
       "    .field{\n",
       "        top:40%;\n",
       "        left:60%;\n",
       "        position: inherit;\n",
       "        border:unset;\n",
       "        width:2em;\n",
       "    }\n",
       "    table, tr, th{\n",
       "        border:1px solid black;\n",
       "    }\n",
       "\n",
       "</style>"
      ],
      "text/plain": [
       "<IPython.core.display.HTML object>"
      ]
     },
     "metadata": {},
     "output_type": "display_data"
    }
   ],
   "source": [
    "comp = \"<h2>addiere schriftlich<h2>\"+tabl(rows)\n",
    "view(comp)"
   ]
  },
  {
   "cell_type": "code",
   "execution_count": 67,
   "metadata": {},
   "outputs": [],
   "source": [
    "def sol (a,b):\n",
    "    res = a+b\n",
    "    a = str(a)\n",
    "    b = str(b)\n",
    "    res = list(str(res))\n",
    "    n = len(a)\n",
    "    u = [\" \"]\n",
    "\n",
    "    for i in range(n-1,-1,-1):\n",
    "        if eval(a[i]+\"+\"+b[i]) > 9 or (eval(a[i]+\"+\"+b[i])>8 and u[-1]==\"1\"):\n",
    "            u.append(\"1\")\n",
    "        else:\n",
    "            u.append(\" \")\n",
    "    u.reverse()\n",
    "    if len(res) == len(a):\n",
    "        res = [' '] + res\n",
    "    \n",
    "    return list(a+b),json.dumps(list(u+res))"
   ]
  },
  {
   "cell_type": "code",
   "execution_count": 68,
   "metadata": {},
   "outputs": [],
   "source": [
    "params = [sol(a,b) for [a,b] in [[random.randint(1e4,1e5),random.randint(1e4,1e5)]for _ in range(50)]]"
   ]
  },
  {
   "cell_type": "code",
   "execution_count": 69,
   "metadata": {},
   "outputs": [],
   "source": [
    "q = [*map(lambda p: get_question(comp,p[1],p[0],tip,schr_add_style),params)]"
   ]
  },
  {
   "cell_type": "code",
   "execution_count": 70,
   "metadata": {},
   "outputs": [],
   "source": [
    "lib.question_utils.browse_question(q[0])"
   ]
  },
  {
   "cell_type": "code",
   "execution_count": 71,
   "metadata": {},
   "outputs": [
    {
     "data": {
      "text/plain": [
       "7"
      ]
     },
     "execution_count": 71,
     "metadata": {},
     "output_type": "execute_result"
    }
   ],
   "source": [
    "collection.add_many(q,15)"
   ]
  },
  {
   "attachments": {},
   "cell_type": "markdown",
   "metadata": {},
   "source": [
    "### addieren ergänzen"
   ]
  },
  {
   "cell_type": "code",
   "execution_count": 72,
   "metadata": {},
   "outputs": [],
   "source": [
    "def sol (a,b):\n",
    "    res = a+b\n",
    "    a = str(a)\n",
    "    b = str(b)\n",
    "    res = list(str(res))\n",
    "    n = len(a)\n",
    "    u = [\" \"]\n",
    "\n",
    "    for i in range(n-1,-1,-1):\n",
    "        if eval(a[i]+\"+\"+b[i]) > 9 or (eval(a[i]+\"+\"+b[i])>8 and u[-1]==\"1\"):\n",
    "            u.append(\"1\")\n",
    "        else:\n",
    "            u.append(\" \")\n",
    "    u.reverse()\n",
    "    if len(res) == len(a):\n",
    "        res = [' '] + res\n",
    "    \n",
    "    \n",
    "    return list(a),list(b),list(u),list(res)"
   ]
  },
  {
   "cell_type": "code",
   "execution_count": 73,
   "metadata": {},
   "outputs": [],
   "source": [
    "params = [sol(a,b) for [a,b] in [[random.randint(1e4,1e5),random.randint(1e4,1e5)]for _ in range(50)]]"
   ]
  },
  {
   "cell_type": "code",
   "execution_count": 74,
   "metadata": {},
   "outputs": [
    {
     "data": {
      "text/html": [
       "\n",
       "<body>\n",
       "    <div class = mycomps>\n",
       "    <h2>ergänze die fehlenden ziffern<h2><br><div class=table><div class=row ><div> </div><div> </div><div> </div><div> </div><div> </div><div> </div><div> </div><div> </div><div> </div></div>\n",
       "<div class=row ><div> </div><div> </div><div> </div><div> </div><div> </div><div> </div><div> </div><div> </div><div> </div></div>\n",
       "<div class=row ><div> </div><div> </div><div> </div><div>{}</div><div>{}</div><div>{}</div><div>{}</div><div>{}</div><div> </div></div>\n",
       "<div class=row ><div> </div><div>+</div><div> </div><div>{}</div><div>{}</div><div>{}</div><div>{}</div><div>{}</div><div> </div></div>\n",
       "<div class=\"mini row\"><div> </div><div> </div><div><input></div><div><input></div><div><input></div><div><input></div><div><input></div><div><input></div><div> </div></div>\n",
       "<div class = underline></div>\n",
       "<div class=row ><div> </div><div> </div><div>{}</div><div>{}</div><div>{}</div><div>{}</div><div>{}</div><div>{}</div><div> </div></div>\n",
       "<div class=row ><div> </div><div> </div><div> </div><div> </div><div> </div><div> </div><div> </div><div> </div><div> </div></div>\n",
       "</div><br>\n",
       "<style>\n",
       "    .underline{\n",
       "        border:1px solid black;\n",
       "        width:7em;\n",
       "        margin:auto;\n",
       "    }\n",
       "    .table{\n",
       "        border:2px solid black;\n",
       "        height:7em;\n",
       "        width:9em;\n",
       "        margin:auto;\n",
       "        background-color:white;\n",
       "    }\n",
       "    .row{\n",
       "        width:100%;\n",
       "        height:1em;\n",
       "        display: flex;\n",
       "    }\n",
       "    .row>div{\n",
       "        flex:1;\n",
       "        border-bottom:1px solid black;\n",
       "        border-right:1px solid black;\n",
       "    }\n",
       "    .row>div>input{\n",
       "        all:unset;\n",
       "        width:.9em;\n",
       "        height:.9em;\n",
       "        background-color:rgba(0,255,255,0.2);\n",
       "    }\n",
       "    .mini{\n",
       "        color:red;\n",
       "        font-size: .7em;\n",
       "        height:1.45em;\n",
       "    }\n",
       "    div{\n",
       "        font-family: monospace;\n",
       "    }\n",
       "    span{\n",
       "        font-weight:bold\n",
       "    }\n",
       "</style>\n",
       "    </div>\n",
       "\n",
       "</body>\n",
       "</html>\n",
       "\n",
       "<style>\n",
       "    .mycomps{\n",
       "        color:black;\n",
       "        background-color: #fff8;\n",
       "        --color:aliceblue;\n",
       "        text-align:center;\n",
       "        font-size:1.2em;\n",
       "    }\n",
       "\n",
       "    input{\n",
       "        all:unset;\n",
       "        background:white;\n",
       "        text-align:left;\n",
       "        font-size:1em;\n",
       "        font-family:monospace;\n",
       "    }\n",
       "    svg{\n",
       "        position: absolute;\n",
       "        top:0px;\n",
       "        left:0px;\n",
       "    }\n",
       "    .field{\n",
       "        top:40%;\n",
       "        left:60%;\n",
       "        position: inherit;\n",
       "        border:unset;\n",
       "        width:2em;\n",
       "    }\n",
       "    table, tr, th{\n",
       "        border:1px solid black;\n",
       "    }\n",
       "\n",
       "</style>"
      ],
      "text/plain": [
       "<IPython.core.display.HTML object>"
      ]
     },
     "metadata": {},
     "output_type": "display_data"
    }
   ],
   "source": [
    "empty = telm(\" \")\n",
    "rows = trow(empty*9)*2\n",
    "rows += trow(empty*3+telm(\"{}\")*5+empty)\n",
    "rows += trow(empty+telm('+')+empty+telm(\"{}\")*5+empty)\n",
    "rows += mini_red(empty*2 +\"<div><input></div>\"*6+empty)\n",
    "rows +=\"<div class = underline></div>\\n\"\n",
    "rows += trow(empty*2 +telm('{}')*6+empty)\n",
    "rows += trow(empty*9)\n",
    "comp = \"<h2>ergänze die fehlenden ziffern<h2>\"+tabl(rows)\n",
    "view(comp+schr_add_style)"
   ]
  },
  {
   "cell_type": "code",
   "execution_count": 75,
   "metadata": {},
   "outputs": [],
   "source": [
    "params = [sol(a,b) for [a,b] in [[random.randint(1e4,1e5),random.randint(1e4,1e5)]for _ in range(50)]]\n",
    "\n",
    "\n",
    "def gen(p):\n",
    "    s = [[],[],[],[]]\n",
    "    for i in range(5):\n",
    "        si = i+1\n",
    "        d = random.choice([0,1,3])\n",
    "        if d == 3:\n",
    "            s[3].append(p[3][si])\n",
    "            p[3][si] = \"<input>\"\n",
    "        else:\n",
    "            s[d].append(p[d][i])\n",
    "            p[d][i] = \"<input>\"\n",
    "    s = s[0] + s[1] + p[2] + s[3]\n",
    "    p = p[0] + p[1] + p[3]\n",
    "    return json.dumps(s),p\n",
    "\n",
    "params = [*map(gen,params)]"
   ]
  },
  {
   "cell_type": "code",
   "execution_count": 76,
   "metadata": {},
   "outputs": [],
   "source": [
    "q = [*map(lambda p:get_question(comp,p[0],p[1],tip,schr_add_style),params)]"
   ]
  },
  {
   "cell_type": "code",
   "execution_count": 77,
   "metadata": {},
   "outputs": [],
   "source": [
    "lib.question_utils.browse_question(q[-1])"
   ]
  },
  {
   "cell_type": "code",
   "execution_count": 78,
   "metadata": {},
   "outputs": [
    {
     "data": {
      "text/plain": [
       "8"
      ]
     },
     "execution_count": 78,
     "metadata": {},
     "output_type": "execute_result"
    }
   ],
   "source": [
    "collection.add_many(q,10)"
   ]
  },
  {
   "attachments": {},
   "cell_type": "markdown",
   "metadata": {},
   "source": [
    "### schriftlich subtrahieren"
   ]
  },
  {
   "cell_type": "code",
   "execution_count": 79,
   "metadata": {},
   "outputs": [
    {
     "data": {
      "text/html": [
       "\n",
       "<body>\n",
       "    <div class = mycomps>\n",
       "    \n",
       "<h2>Beim schriftlichen Subtrahieren rechnet man Schritt für Schritt.</h2>\n",
       "\n",
       "1. Du ziehst immer die obere zahl von der unteren ab. \n",
       "\n",
       "\n",
       "<br><div class=table><div class=row ><div> </div><div> </div><div> </div><div> </div><div> </div><div> </div><div> </div><div> </div><div> </div></div>\n",
       "<div class=row ><div> </div><div> </div><div> </div><div> </div><div> </div><div> </div><div> </div><div> </div><div> </div></div>\n",
       "<div class=row ><div> </div><div> </div><div> </div><div>8</div><div>3</div><div>4</div><div>6</div><div> </div><div> </div></div>\n",
       "<div class=row ><div> </div><div> </div><div>-</div><div>3</div><div>3</div><div>3</div><div>3</div><div> </div><div> </div></div>\n",
       "<div class=\"mini row\"><div> </div><div> </div><div> </div><div> </div><div> </div><div> </div><div> </div><div> </div><div> </div></div>\n",
       "<div class = underline></div>\n",
       "<div class=row ><div> </div><div> </div><div> </div><div>5</div><div>0</div><div>1</div><div>3</div><div> </div><div> </div></div>\n",
       "<div class=row ><div> </div><div> </div><div> </div><div> </div><div> </div><div> </div><div> </div><div> </div><div> </div></div>\n",
       "</div><br>\n",
       "\n",
       "\n",
       "2. Wenn die untere zahl größer ist als die obere schreibst du einen <span class = \"mini\"> übertrag 1</span>\n",
       "dann stellst du dir vor, dass die obere zahl genau 10 größer ist. Dafür ist dann die nächste zahl die du abziehen musst eins größer.\n",
       "\n",
       "<br><div class=table><div class=row ><div> </div><div> </div><div> </div><div> </div><div> </div><div> </div><div> </div><div> </div><div> </div></div>\n",
       "<div class=row ><div> </div><div> </div><div> </div><div> </div><div> </div><div> </div><div> </div><div> </div><div> </div></div>\n",
       "<div class=row ><div> </div><div> </div><div> </div><div>8</div><div>1</div><div>3</div><div>0</div><div> </div><div> </div></div>\n",
       "<div class=row ><div> </div><div> </div><div>-</div><div>3</div><div>3</div><div>4</div><div>5</div><div> </div><div> </div></div>\n",
       "<div class=\"mini row\"><div> </div><div> </div><div> </div><div>1</div><div>1</div><div>1</div><div> </div><div> </div><div> </div></div>\n",
       "<div class = underline></div>\n",
       "<div class=row ><div> </div><div> </div><div> </div><div>4</div><div>7</div><div>8</div><div>5</div><div> </div><div> </div></div>\n",
       "<div class=row ><div> </div><div> </div><div> </div><div> </div><div> </div><div> </div><div> </div><div> </div><div> </div></div>\n",
       "</div><br>\n",
       "<style>\n",
       "    .underline{\n",
       "        border:1px solid black;\n",
       "        width:7em;\n",
       "        margin:auto;\n",
       "    }\n",
       "    .table{\n",
       "        border:2px solid black;\n",
       "        height:7em;\n",
       "        width:9em;\n",
       "        margin:auto;\n",
       "        background-color:white;\n",
       "    }\n",
       "    .row{\n",
       "        width:100%;\n",
       "        height:1em;\n",
       "        display: flex;\n",
       "    }\n",
       "    .row>div{\n",
       "        flex:1;\n",
       "        border-bottom:1px solid black;\n",
       "        border-right:1px solid black;\n",
       "    }\n",
       "    .row>div>input{\n",
       "        all:unset;\n",
       "        width:.9em;\n",
       "        height:.9em;\n",
       "        background-color:rgba(0,255,255,0.2);\n",
       "    }\n",
       "    .mini{\n",
       "        color:red;\n",
       "        font-size: .7em;\n",
       "        height:1.45em;\n",
       "    }\n",
       "    div{\n",
       "        font-family: monospace;\n",
       "    }\n",
       "    span{\n",
       "        font-weight:bold\n",
       "    }\n",
       "</style>\n",
       "    </div>\n",
       "\n",
       "</body>\n",
       "</html>\n",
       "\n",
       "<style>\n",
       "    .mycomps{\n",
       "        color:black;\n",
       "        background-color: #fff8;\n",
       "        --color:aliceblue;\n",
       "        text-align:center;\n",
       "        font-size:1.2em;\n",
       "    }\n",
       "\n",
       "    input{\n",
       "        all:unset;\n",
       "        background:white;\n",
       "        text-align:left;\n",
       "        font-size:1em;\n",
       "        font-family:monospace;\n",
       "    }\n",
       "    svg{\n",
       "        position: absolute;\n",
       "        top:0px;\n",
       "        left:0px;\n",
       "    }\n",
       "    .field{\n",
       "        top:40%;\n",
       "        left:60%;\n",
       "        position: inherit;\n",
       "        border:unset;\n",
       "        width:2em;\n",
       "    }\n",
       "    table, tr, th{\n",
       "        border:1px solid black;\n",
       "    }\n",
       "\n",
       "</style>"
      ],
      "text/plain": [
       "<IPython.core.display.HTML object>"
      ]
     },
     "metadata": {},
     "output_type": "display_data"
    }
   ],
   "source": [
    "tip = '''\n",
    "<h2>Beim schriftlichen Subtrahieren rechnet man Schritt für Schritt.</h2>\n",
    "\n",
    "1. Du ziehst immer die obere zahl von der unteren ab. \n",
    "\n",
    "\n",
    "'''+ tabl(\n",
    "    trow(empty*9)\n",
    "    +trow(empty*9)\n",
    "    +trow         (empty * 3 + telm(8) + telm(3) + telm(4) + telm(6) + empty+empty)\n",
    "    +trow(empty * 2+telm('-') + telm(3) + telm(3) + telm(3) + telm(3) + empty+empty)\n",
    "    +mini_red(empty*3+telm(' ')+telm(' ')+telm(' ')+empty+empty*2)\n",
    "    +underline\n",
    "    +trow      (empty*3 +telm(5)+telm(0)+telm(1)+telm(3)+empty*2)\n",
    "    +trow(empty*9)\n",
    ")+'''\n",
    "\n",
    "\n",
    "2. Wenn die untere zahl größer ist als die obere schreibst du einen <span class = \"mini\"> übertrag 1</span>\n",
    "dann stellst du dir vor, dass die obere zahl genau 10 größer ist. Dafür ist dann die nächste zahl die du abziehen musst eins größer.\n",
    "\n",
    "'''+ tabl(\n",
    "    trow(empty*9)\n",
    "    +trow(empty*9)\n",
    "    +trow(empty * 3 + telm(8) + telm(1) + telm(3) + telm(0) + empty+empty)\n",
    "    +trow(empty * 2+telm('-') + telm(3) + telm(3) + telm(4) + telm(5) + empty+empty)\n",
    "    +mini_red(empty*3+telm('1')+telm(1)+telm(1)+empty+empty*2)\n",
    "    +underline\n",
    "    +trow(empty*3 +telm('4')+telm('7')+telm('8')+telm('5')+empty*2)\n",
    "    +trow(empty*9)\n",
    ")\n",
    "tip = tip + schr_add_style\n",
    "view(tip)"
   ]
  },
  {
   "cell_type": "code",
   "execution_count": 80,
   "metadata": {},
   "outputs": [
    {
     "data": {
      "text/html": [
       "\n",
       "<body>\n",
       "    <div class = mycomps>\n",
       "    <h2>subtrahiere schriftlich</h2>\n",
       "<br><div class=table><div class=row ><div> </div><div> </div><div> </div><div> </div><div> </div><div> </div><div> </div><div> </div><div> </div></div>\n",
       "<div class=row ><div> </div><div> </div><div> </div><div> </div><div> </div><div> </div><div> </div><div> </div><div> </div></div>\n",
       "<div class=row ><div> </div><div> </div><div> </div><div>{}</div><div>{}</div><div>{}</div><div>{}</div><div> </div><div> </div></div>\n",
       "<div class=row ><div> </div><div> </div><div>-</div><div>{}</div><div>{}</div><div>{}</div><div>{}</div><div> </div><div> </div></div>\n",
       "<div class=\"mini row\"><div> </div><div> </div><div> </div><div><input></div><div><input></div><div><input></div><div><input></div><div> </div><div> </div></div>\n",
       "<div class = underline></div>\n",
       "<div class=row ><div> </div><div> </div><div> </div><div><input></div><div><input></div><div><input></div><div><input></div><div> </div><div> </div></div>\n",
       "<div class=row ><div> </div><div> </div><div> </div><div> </div><div> </div><div> </div><div> </div><div> </div><div> </div></div>\n",
       "</div><br>\n",
       "    </div>\n",
       "\n",
       "</body>\n",
       "</html>\n",
       "\n",
       "<style>\n",
       "    .mycomps{\n",
       "        color:black;\n",
       "        background-color: #fff8;\n",
       "        --color:aliceblue;\n",
       "        text-align:center;\n",
       "        font-size:1.2em;\n",
       "    }\n",
       "\n",
       "    input{\n",
       "        all:unset;\n",
       "        background:white;\n",
       "        text-align:left;\n",
       "        font-size:1em;\n",
       "        font-family:monospace;\n",
       "    }\n",
       "    svg{\n",
       "        position: absolute;\n",
       "        top:0px;\n",
       "        left:0px;\n",
       "    }\n",
       "    .field{\n",
       "        top:40%;\n",
       "        left:60%;\n",
       "        position: inherit;\n",
       "        border:unset;\n",
       "        width:2em;\n",
       "    }\n",
       "    table, tr, th{\n",
       "        border:1px solid black;\n",
       "    }\n",
       "\n",
       "</style>"
      ],
      "text/plain": [
       "<IPython.core.display.HTML object>"
      ]
     },
     "metadata": {},
     "output_type": "display_data"
    }
   ],
   "source": [
    "comp  ='''<h2>subtrahiere schriftlich</h2>\n",
    "'''+tabl(\n",
    "    trow(empty*9)\n",
    "    +trow(empty*9)\n",
    "    +trow(empty * 3 + telm('{}')*4 + empty+empty)\n",
    "    +trow(empty * 2+telm('-') + telm('{}')*4 + empty+empty)\n",
    "    +mini_red(empty*3+inpt*4+empty*2)\n",
    "    +underline\n",
    "    +trow(empty*3 +inpt * 4+empty*2)\n",
    "    +trow(empty*9)\n",
    ")\n",
    "view(comp)"
   ]
  },
  {
   "cell_type": "code",
   "execution_count": 81,
   "metadata": {},
   "outputs": [],
   "source": [
    "def gen ():\n",
    "    b = random.randint(1e3,1e4)\n",
    "    res = random.randint(1e3,1e4)\n",
    "    a = b+ res\n",
    "    if a >= 1e4:\n",
    "        return gen()\n",
    "    a = str(a)\n",
    "    b = str(b)\n",
    "    res = str(res)\n",
    "    u=[' ']\n",
    "    for i in range(4-1,-1,-1):\n",
    "        if b[i] > a[i] or (b[i] == a[i] and u[-1]!=' '):\n",
    "            u.append('1')\n",
    "        else:\n",
    "            u.append(' ')\n",
    "    u = u[:-1]\n",
    "    u.reverse()\n",
    "\n",
    "    p = list(a) + list(b)\n",
    "    sol = u+list(res)\n",
    "    sol = json.dumps(sol)\n",
    "    return get_question(comp,sol,p,tip,schr_add_style)\n",
    "q =gen()"
   ]
  },
  {
   "cell_type": "code",
   "execution_count": 82,
   "metadata": {},
   "outputs": [],
   "source": [
    "q = [gen() for _ in range(50)]"
   ]
  },
  {
   "cell_type": "code",
   "execution_count": 83,
   "metadata": {},
   "outputs": [],
   "source": [
    "browse(q[0])"
   ]
  },
  {
   "cell_type": "code",
   "execution_count": 84,
   "metadata": {},
   "outputs": [
    {
     "data": {
      "text/plain": [
       "9"
      ]
     },
     "execution_count": 84,
     "metadata": {},
     "output_type": "execute_result"
    }
   ],
   "source": [
    "collection.add_many(q,15)"
   ]
  },
  {
   "attachments": {},
   "cell_type": "markdown",
   "metadata": {},
   "source": [
    "### schr sub erg"
   ]
  },
  {
   "cell_type": "code",
   "execution_count": 85,
   "metadata": {},
   "outputs": [
    {
     "data": {
      "text/html": [
       "\n",
       "<body>\n",
       "    <div class = mycomps>\n",
       "    <h2>ergänze die fehlenden zahlen</h2>\n",
       "<br><div class=table><div class=row ><div> </div><div> </div><div> </div><div> </div><div> </div><div> </div><div> </div><div> </div><div> </div></div>\n",
       "<div class=row ><div> </div><div> </div><div> </div><div> </div><div> </div><div> </div><div> </div><div> </div><div> </div></div>\n",
       "<div class=row ><div> </div><div> </div><div> </div><div>{}</div><div>{}</div><div>{}</div><div>{}</div><div> </div><div> </div></div>\n",
       "<div class=row ><div> </div><div> </div><div>-</div><div>{}</div><div>{}</div><div>{}</div><div>{}</div><div> </div><div> </div></div>\n",
       "<div class=\"mini row\"><div> </div><div> </div><div> </div><div><input></div><div><input></div><div><input></div><div><input></div><div> </div><div> </div></div>\n",
       "<div class = underline></div>\n",
       "<div class=row ><div> </div><div> </div><div> </div><div>{}</div><div>{}</div><div>{}</div><div>{}</div><div> </div><div> </div></div>\n",
       "<div class=row ><div> </div><div> </div><div> </div><div> </div><div> </div><div> </div><div> </div><div> </div><div> </div></div>\n",
       "</div><br>\n",
       "    </div>\n",
       "\n",
       "</body>\n",
       "</html>\n",
       "\n",
       "<style>\n",
       "    .mycomps{\n",
       "        color:black;\n",
       "        background-color: #fff8;\n",
       "        --color:aliceblue;\n",
       "        text-align:center;\n",
       "        font-size:1.2em;\n",
       "    }\n",
       "\n",
       "    input{\n",
       "        all:unset;\n",
       "        background:white;\n",
       "        text-align:left;\n",
       "        font-size:1em;\n",
       "        font-family:monospace;\n",
       "    }\n",
       "    svg{\n",
       "        position: absolute;\n",
       "        top:0px;\n",
       "        left:0px;\n",
       "    }\n",
       "    .field{\n",
       "        top:40%;\n",
       "        left:60%;\n",
       "        position: inherit;\n",
       "        border:unset;\n",
       "        width:2em;\n",
       "    }\n",
       "    table, tr, th{\n",
       "        border:1px solid black;\n",
       "    }\n",
       "\n",
       "</style>"
      ],
      "text/plain": [
       "<IPython.core.display.HTML object>"
      ]
     },
     "metadata": {},
     "output_type": "display_data"
    }
   ],
   "source": [
    "comp  ='''<h2>ergänze die fehlenden zahlen</h2>\n",
    "'''+tabl(\n",
    "    trow(empty*9)\n",
    "    +trow(empty*9)\n",
    "    +trow(empty * 3 + telm('{}')*4 + empty+empty)\n",
    "    +trow(empty * 2+telm('-') + telm('{}')*4 + empty+empty)\n",
    "    +mini_red(empty*3+inpt*4+empty*2)\n",
    "    +underline\n",
    "    +trow(empty*3 +telm('{}') * 4+empty*2)\n",
    "    +trow(empty*9)\n",
    ")\n",
    "view(comp)"
   ]
  },
  {
   "cell_type": "code",
   "execution_count": 86,
   "metadata": {},
   "outputs": [],
   "source": [
    "\n",
    "def gen ():\n",
    "    b = random.randint(1e3,1e4)\n",
    "    res = random.randint(1e3,1e4)\n",
    "    a = b+ res\n",
    "    if a >= 1e4:\n",
    "        return gen()\n",
    "    a = str(a)\n",
    "    b = str(b)\n",
    "    res = str(res)\n",
    "    u=[' ']\n",
    "    for i in range(4-1,-1,-1):\n",
    "        if b[i] > a[i] or (b[i] == a[i] and u[-1]!=' '):\n",
    "            u.append('1')\n",
    "        else:\n",
    "            u.append(' ')\n",
    "    u = u[:-1]\n",
    "    u.reverse()\n",
    "\n",
    "    p = [list(a),list(b),list(res)]\n",
    "\n",
    "    s = [[],[],[]]\n",
    "\n",
    "    for i in range(4):\n",
    "        d = random.choice([0,1,2])\n",
    "        s[d].append(p[d][i])\n",
    "        p[d][i] = \"<input>\"\n",
    "\n",
    "    s = s[0] + s[1] + u + s[2]\n",
    "    p = p[0] + p[1] + p[2]\n",
    "    s = json.dumps(s)\n",
    "    return get_question(comp,s,p,tip,schr_add_style)\n",
    "\n",
    "p = gen()"
   ]
  },
  {
   "cell_type": "code",
   "execution_count": 87,
   "metadata": {},
   "outputs": [],
   "source": [
    "browse(p)"
   ]
  },
  {
   "cell_type": "code",
   "execution_count": 88,
   "metadata": {},
   "outputs": [],
   "source": [
    "q = [gen() for _ in range(50)]"
   ]
  },
  {
   "cell_type": "code",
   "execution_count": 89,
   "metadata": {},
   "outputs": [
    {
     "data": {
      "text/plain": [
       "10"
      ]
     },
     "execution_count": 89,
     "metadata": {},
     "output_type": "execute_result"
    }
   ],
   "source": [
    "collection.add_many(q,10)"
   ]
  },
  {
   "attachments": {},
   "cell_type": "markdown",
   "metadata": {},
   "source": [
    "### multiplizieren mit zehner und hunderter"
   ]
  },
  {
   "cell_type": "code",
   "execution_count": 90,
   "metadata": {},
   "outputs": [
    {
     "data": {
      "text/html": [
       "\n",
       "<body>\n",
       "    <div class = mycomps>\n",
       "    <p>Beim <span>multiplizieren mit großen zahlen</p> musst du die nullen von der linken seite auf die rechte rüberschreiben nullen überschreiben:</p>\n",
       "\n",
       "<p>4<span>0</span> • 2<span></span> = 8<span>0</span></p>\n",
       "<p>4<span></span> • 2<span>0</span> = 8<span>0</span></p>\n",
       "<p>4<span>0</span> • 2<span>0</span> = 8<span>00</span></p>\n",
       "<p>4<span>00</span> • 2<span>0</span> = 8<span>000</span></p>\n",
       "\n",
       "    </div>\n",
       "\n",
       "</body>\n",
       "</html>\n",
       "\n",
       "<style>\n",
       "    .mycomps{\n",
       "        color:black;\n",
       "        background-color: #fff8;\n",
       "        --color:aliceblue;\n",
       "        text-align:center;\n",
       "        font-size:1.2em;\n",
       "    }\n",
       "\n",
       "    input{\n",
       "        all:unset;\n",
       "        background:white;\n",
       "        text-align:left;\n",
       "        font-size:1em;\n",
       "        font-family:monospace;\n",
       "    }\n",
       "    svg{\n",
       "        position: absolute;\n",
       "        top:0px;\n",
       "        left:0px;\n",
       "    }\n",
       "    .field{\n",
       "        top:40%;\n",
       "        left:60%;\n",
       "        position: inherit;\n",
       "        border:unset;\n",
       "        width:2em;\n",
       "    }\n",
       "    table, tr, th{\n",
       "        border:1px solid black;\n",
       "    }\n",
       "\n",
       "</style>"
      ],
      "text/plain": [
       "<IPython.core.display.HTML object>"
      ]
     },
     "metadata": {},
     "output_type": "display_data"
    }
   ],
   "source": [
    "tip = '''<p>Beim <span>multiplizieren mit großen zahlen</p> musst du die nullen von der linken seite auf die rechte rüberschreiben nullen überschreiben:</p>\n",
    "\n",
    "<p>4<span>0</span> • 2<span></span> = 8<span>0</span></p>\n",
    "<p>4<span></span> • 2<span>0</span> = 8<span>0</span></p>\n",
    "<p>4<span>0</span> • 2<span>0</span> = 8<span>00</span></p>\n",
    "<p>4<span>00</span> • 2<span>0</span> = 8<span>000</span></p>\n",
    "'''\n",
    "view(tip)"
   ]
  },
  {
   "cell_type": "code",
   "execution_count": 91,
   "metadata": {},
   "outputs": [],
   "source": [
    "comp = '{} • {} = <input>'"
   ]
  },
  {
   "cell_type": "code",
   "execution_count": 92,
   "metadata": {},
   "outputs": [],
   "source": [
    "def gen(pre:int, post:int):\n",
    "\n",
    "    # a : b = c\n",
    "\n",
    "    a = random.randint(1,10) * pre\n",
    "    b = random.randint(1,10) * post\n",
    "    c = a * b\n",
    "\n",
    "    return get_question(comp,json.dumps([c]),[str(a),str(b)],tip,\"\")"
   ]
  },
  {
   "cell_type": "code",
   "execution_count": 93,
   "metadata": {},
   "outputs": [],
   "source": [
    "q = [gen(10,1) for _ in range(25)]\n",
    "q += [gen(1,10) for _ in range(25)]\n",
    "q += [gen(100,1) for _ in range(25)]\n",
    "q += [gen(1,100) for _ in range(25)]\n",
    "q += [gen(10,10) for _ in range(25)]\n",
    "q += [gen(100,10) for _ in range(25)]\n",
    "q += [gen(10,100) for _ in range(25)]"
   ]
  },
  {
   "cell_type": "code",
   "execution_count": 94,
   "metadata": {},
   "outputs": [
    {
     "data": {
      "text/plain": [
       "11"
      ]
     },
     "execution_count": 94,
     "metadata": {},
     "output_type": "execute_result"
    }
   ],
   "source": [
    "collection.add_many(q,5)"
   ]
  },
  {
   "attachments": {},
   "cell_type": "markdown",
   "metadata": {},
   "source": [
    "### dividieren mit zehner und hunderterzahlen"
   ]
  },
  {
   "cell_type": "code",
   "execution_count": 95,
   "metadata": {},
   "outputs": [
    {
     "data": {
      "text/html": [
       "\n",
       "<body>\n",
       "    <div class = mycomps>\n",
       "    \n",
       "<p>Beim <span>dividieren mit großen zahlen</span> musst du nullen streichen:</p>\n",
       "\n",
       "<p>4<span>0</span> : 2 = ?</p>\n",
       "\n",
       "<p>du streichst bei der ersten zahl die null und dann fügst du sie bei der zweiten zahl wieder hinzu:</p>\n",
       "<p>4<span>0</span> : 2 = 2<span>0</p>\n",
       "<p>4<span>00</span> : 2 = 2<span>00</p>\n",
       "<p>4<span>000</span> : 2 = 2<span>000</p>\n",
       "<p>wenn beide zahlen eine null haben dann streichst du beide nullen</p>\n",
       "<p>4<span>0</span> : 2<span>0</span> = 4 : 2 = 2</p>\n",
       "<p></p>\n",
       "\n",
       "    </div>\n",
       "\n",
       "</body>\n",
       "</html>\n",
       "\n",
       "<style>\n",
       "    .mycomps{\n",
       "        color:black;\n",
       "        background-color: #fff8;\n",
       "        --color:aliceblue;\n",
       "        text-align:center;\n",
       "        font-size:1.2em;\n",
       "    }\n",
       "\n",
       "    input{\n",
       "        all:unset;\n",
       "        background:white;\n",
       "        text-align:left;\n",
       "        font-size:1em;\n",
       "        font-family:monospace;\n",
       "    }\n",
       "    svg{\n",
       "        position: absolute;\n",
       "        top:0px;\n",
       "        left:0px;\n",
       "    }\n",
       "    .field{\n",
       "        top:40%;\n",
       "        left:60%;\n",
       "        position: inherit;\n",
       "        border:unset;\n",
       "        width:2em;\n",
       "    }\n",
       "    table, tr, th{\n",
       "        border:1px solid black;\n",
       "    }\n",
       "\n",
       "</style>"
      ],
      "text/plain": [
       "<IPython.core.display.HTML object>"
      ]
     },
     "metadata": {},
     "output_type": "display_data"
    }
   ],
   "source": [
    "tip = '''\n",
    "<p>Beim <span>dividieren mit großen zahlen</span> musst du nullen streichen:</p>\n",
    "\n",
    "<p>4<span>0</span> : 2 = ?</p>\n",
    "\n",
    "<p>du streichst bei der ersten zahl die null und dann fügst du sie bei der zweiten zahl wieder hinzu:</p>\n",
    "<p>4<span>0</span> : 2 = 2<span>0</p>\n",
    "<p>4<span>00</span> : 2 = 2<span>00</p>\n",
    "<p>4<span>000</span> : 2 = 2<span>000</p>\n",
    "<p>wenn beide zahlen eine null haben dann streichst du beide nullen</p>\n",
    "<p>4<span>0</span> : 2<span>0</span> = 4 : 2 = 2</p>\n",
    "<p></p>\n",
    "'''\n",
    "\n",
    "view(tip)"
   ]
  },
  {
   "cell_type": "code",
   "execution_count": 96,
   "metadata": {},
   "outputs": [],
   "source": [
    "comp = '{} : {} = <input>'"
   ]
  },
  {
   "cell_type": "code",
   "execution_count": 97,
   "metadata": {},
   "outputs": [],
   "source": [
    "def gen(pre:int, post:int):\n",
    "\n",
    "    # a : b = c\n",
    "\n",
    "    a = random.randint(1,10) * pre\n",
    "    b = random.randint(1,10) * post\n",
    "    c = a * b\n",
    "\n",
    "    return get_question(comp,json.dumps([c]),[str(a),str(b)],tip,\"\")"
   ]
  },
  {
   "cell_type": "code",
   "execution_count": 98,
   "metadata": {},
   "outputs": [],
   "source": [
    "q = [gen(10,1) for _ in range(25)]\n",
    "q += [gen(1,10) for _ in range(25)]\n",
    "q += [gen(100,1) for _ in range(25)]\n",
    "q += [gen(1,100) for _ in range(25)]\n",
    "q += [gen(10,10) for _ in range(25)]\n",
    "q += [gen(100,10) for _ in range(25)]\n",
    "q += [gen(10,100) for _ in range(25)]"
   ]
  },
  {
   "cell_type": "code",
   "execution_count": 99,
   "metadata": {},
   "outputs": [],
   "source": [
    "browse(q[-1])"
   ]
  },
  {
   "cell_type": "code",
   "execution_count": 100,
   "metadata": {},
   "outputs": [
    {
     "data": {
      "text/plain": [
       "12"
      ]
     },
     "execution_count": 100,
     "metadata": {},
     "output_type": "execute_result"
    }
   ],
   "source": [
    "collection.add_many(q,10)"
   ]
  },
  {
   "cell_type": "markdown",
   "metadata": {},
   "source": [
    "### schr mult"
   ]
  },
  {
   "cell_type": "code",
   "execution_count": 101,
   "metadata": {},
   "outputs": [],
   "source": [
    "schr_mul_style = '''<style>\n",
    "    .underline{\n",
    "        border:1px solid black;\n",
    "        width:7em;\n",
    "        margin:auto;\n",
    "    }\n",
    "    .table{\n",
    "        border:2px solid black;\n",
    "        height:5em;\n",
    "        width:7em;\n",
    "        margin:auto;\n",
    "        background-color:white;\n",
    "    }\n",
    "    .row{\n",
    "        width:100%;\n",
    "        height:1em;\n",
    "        display: flex;\n",
    "    }\n",
    "    .row>div{\n",
    "        flex:1;\n",
    "        border-bottom:1px solid black;\n",
    "        border-right:1px solid black;\n",
    "    }\n",
    "    .row>div>input{\n",
    "        all:unset;\n",
    "        width:.9em;\n",
    "        height:.9em;\n",
    "        background-color:rgba(0,255,255,0.2);\n",
    "    }\n",
    "    .mini{\n",
    "        color:red;\n",
    "        font-size: .7em;\n",
    "        height:1.45em;\n",
    "    }\n",
    "    div{\n",
    "        font-family: monospace;\n",
    "    }\n",
    "    span{\n",
    "        font-weight:bold\n",
    "    }\n",
    "</style>'''"
   ]
  },
  {
   "cell_type": "code",
   "execution_count": 102,
   "metadata": {},
   "outputs": [
    {
     "data": {
      "text/html": [
       "\n",
       "<body>\n",
       "    <div class = mycomps>\n",
       "    \n",
       "<p>beim <span>schriftlichen multiplizieren</span> rechnest du schritt für schritt </p>\n",
       "<p>zuerst multiplizierst du die Einer dann die Zahner und dann die Hunderter.</p>\n",
       "<p>ist ein Teilergebnis größer als 10, schreibst du die Einer auf</p>\n",
       "<p>Du schreibst die Zehner als <span class = mini>Übertrag</span> auf</p>\n",
       "<br><div class=table><div class=\"row  row\"><div> </div><div> </div><div> </div><div> </div><div> </div><div> </div><div> </div></div><div class=\"row  row\"><div> </div><div>3</div><div>5</div><div>2</div><div>•</div><div>3</div><div> </div></div><div class = underline></div>\n",
       "<div class=\"row  row\"><div> </div><div> </div><div> </div><div> </div><div> </div><div> </div><div> </div></div><div class=\"row mini row\"><div> </div><div> </div><div> </div><div> </div><div> </div><div> </div><div> </div></div><div class=\"row  row\"><div> </div><div> </div><div> </div><div> </div><div> </div><div> </div><div> </div></div></div><br><p>2 • 3 = 6 schreibe 6.</p><br><div class=table><div class=\"row  row\"><div> </div><div> </div><div> </div><div> </div><div> </div><div> </div><div> </div></div><div class=\"row  row\"><div> </div><div>3</div><div>5</div><div>2</div><div>•</div><div>3</div><div> </div></div><div class = underline></div>\n",
       "<div class=\"row  row\"><div> </div><div> </div><div> </div><div> </div><div> </div><div>6</div><div> </div></div><div class=\"row mini row\"><div> </div><div> </div><div> </div><div> </div><div> </div><div> </div><div> </div></div><div class=\"row  row\"><div> </div><div> </div><div> </div><div> </div><div> </div><div> </div><div> </div></div></div><br><p>5 • 3 = 15 schreibe 5. <span class=mini>übertrag 1</span></p><br><div class=table><div class=\"row  row\"><div> </div><div> </div><div> </div><div> </div><div> </div><div> </div><div> </div></div><div class=\"row  row\"><div> </div><div>3</div><div>5</div><div>2</div><div>•</div><div>3</div><div> </div></div><div class = underline></div>\n",
       "<div class=\"row  row\"><div> </div><div> </div><div> </div><div> </div><div>5</div><div>6</div><div> </div></div><div class=\"row mini row\"><div> </div><div> </div><div> </div><div>1</div><div> </div><div> </div><div> </div></div><div class=\"row  row\"><div> </div><div> </div><div> </div><div> </div><div> </div><div> </div><div> </div></div></div><br><p><span class=mini>1</span> + 3 • 3 = 10 schreibe 0. <span class=mini>übertrag 1</span></p><br><div class=table><div class=\"row  row\"><div> </div><div> </div><div> </div><div> </div><div> </div><div> </div><div> </div></div><div class=\"row  row\"><div> </div><div>3</div><div>5</div><div>2</div><div>•</div><div>3</div><div> </div></div><div class = underline></div>\n",
       "<div class=\"row  row\"><div> </div><div> </div><div> </div><div>0</div><div>5</div><div>6</div><div> </div></div><div class=\"row mini row\"><div> </div><div> </div><div>1</div><div>1</div><div> </div><div> </div><div> </div></div><div class=\"row  row\"><div> </div><div> </div><div> </div><div> </div><div> </div><div> </div><div> </div></div></div><br><br><div class=table><div class=\"row  row\"><div> </div><div> </div><div> </div><div> </div><div> </div><div> </div><div> </div></div><div class=\"row  row\"><div> </div><div>3</div><div>5</div><div>2</div><div>•</div><div>3</div><div> </div></div><div class = underline></div>\n",
       "<div class=\"row  row\"><div> </div><div> </div><div>1</div><div>0</div><div>5</div><div>6</div><div> </div></div><div class=\"row mini row\"><div> </div><div> </div><div>1</div><div>1</div><div> </div><div> </div><div> </div></div><div class=\"row  row\"><div> </div><div> </div><div> </div><div> </div><div> </div><div> </div><div> </div></div></div><br><style>\n",
       "    .underline{\n",
       "        border:1px solid black;\n",
       "        width:7em;\n",
       "        margin:auto;\n",
       "    }\n",
       "    .table{\n",
       "        border:2px solid black;\n",
       "        height:5em;\n",
       "        width:7em;\n",
       "        margin:auto;\n",
       "        background-color:white;\n",
       "    }\n",
       "    .row{\n",
       "        width:100%;\n",
       "        height:1em;\n",
       "        display: flex;\n",
       "    }\n",
       "    .row>div{\n",
       "        flex:1;\n",
       "        border-bottom:1px solid black;\n",
       "        border-right:1px solid black;\n",
       "    }\n",
       "    .row>div>input{\n",
       "        all:unset;\n",
       "        width:.9em;\n",
       "        height:.9em;\n",
       "        background-color:rgba(0,255,255,0.2);\n",
       "    }\n",
       "    .mini{\n",
       "        color:red;\n",
       "        font-size: .7em;\n",
       "        height:1.45em;\n",
       "    }\n",
       "    div{\n",
       "        font-family: monospace;\n",
       "    }\n",
       "    span{\n",
       "        font-weight:bold\n",
       "    }\n",
       "</style>\n",
       "    </div>\n",
       "\n",
       "</body>\n",
       "</html>\n",
       "\n",
       "<style>\n",
       "    .mycomps{\n",
       "        color:black;\n",
       "        background-color: #fff8;\n",
       "        --color:aliceblue;\n",
       "        text-align:center;\n",
       "        font-size:1.2em;\n",
       "    }\n",
       "\n",
       "    input{\n",
       "        all:unset;\n",
       "        background:white;\n",
       "        text-align:left;\n",
       "        font-size:1em;\n",
       "        font-family:monospace;\n",
       "    }\n",
       "    svg{\n",
       "        position: absolute;\n",
       "        top:0px;\n",
       "        left:0px;\n",
       "    }\n",
       "    .field{\n",
       "        top:40%;\n",
       "        left:60%;\n",
       "        position: inherit;\n",
       "        border:unset;\n",
       "        width:2em;\n",
       "    }\n",
       "    table, tr, th{\n",
       "        border:1px solid black;\n",
       "    }\n",
       "\n",
       "</style>"
      ],
      "text/plain": [
       "<IPython.core.display.HTML object>"
      ]
     },
     "metadata": {},
     "output_type": "display_data"
    }
   ],
   "source": [
    "tip = '''\n",
    "<p>beim <span>schriftlichen multiplizieren</span> rechnest du schritt für schritt </p>\n",
    "<p>zuerst multiplizierst du die Einer dann die Zahner und dann die Hunderter.</p>\n",
    "<p>ist ein Teilergebnis größer als 10, schreibst du die Einer auf</p>\n",
    "<p>Du schreibst die Zehner als <span class = mini>Übertrag</span> auf</p>\n",
    "'''+tabl(\n",
    "    mkrow(\"       \")+\n",
    "    mkrow(\" 352•3 \")+\n",
    "    underline+\n",
    "    mkrow(\"       \")+\n",
    "    mkrow(\"       \",\"mini\")+\n",
    "    mkrow(\"       \")\n",
    "    )+\"<p>2 • 3 = 6 schreibe 6.</p>\"+tabl(\n",
    "    mkrow(\"       \")+\n",
    "    mkrow(\" 352•3 \")+\n",
    "    underline+\n",
    "    mkrow(\"     6 \")+\n",
    "    mkrow(\"       \",\"mini\")+\n",
    "    mkrow(\"       \")\n",
    "    )+\"<p>5 • 3 = 15 schreibe 5. <span class=mini>übertrag 1</span></p>\"+tabl(\n",
    "    mkrow(\"       \")+\n",
    "    mkrow(\" 352•3 \")+\n",
    "    underline+\n",
    "    mkrow(\"    56 \")+\n",
    "    mkrow(\"   1   \",\"mini\")+\n",
    "    mkrow(\"       \")\n",
    "    )+\"<p><span class=mini>1</span> + 3 • 3 = 10 schreibe 0. <span class=mini>übertrag 1</span></p>\"+tabl(\n",
    "    mkrow(\"       \")+\n",
    "    mkrow(\" 352•3 \")+\n",
    "    underline+\n",
    "    mkrow(\"   056 \")+\n",
    "    mkrow(\"  11   \",\"mini\")+\n",
    "    mkrow(\"       \")\n",
    "    )+tabl(\n",
    "    mkrow(\"       \")+\n",
    "    mkrow(\" 352•3 \")+\n",
    "    underline+\n",
    "    mkrow(\"  1056 \")+\n",
    "    mkrow(\"  11   \",\"mini\")+\n",
    "    mkrow(\"       \")\n",
    "    )\n",
    "\n",
    "view(tip+schr_mul_style)"
   ]
  },
  {
   "cell_type": "code",
   "execution_count": 103,
   "metadata": {},
   "outputs": [
    {
     "data": {
      "text/html": [
       "\n",
       "<body>\n",
       "    <div class = mycomps>\n",
       "    \n",
       "<p>multipliziere schriftlich mit übertrag</p>\n",
       "<br><div class=table><div class=\"row  row\"><div> </div><div> </div><div> </div><div> </div><div> </div><div> </div><div> </div></div><div class=row ><div> </div><div>{}</div><div>{}</div><div>{}</div><div>•</div><div>{}</div><div> </div></div>\n",
       "<div class = underline></div>\n",
       "<div class=row ><div> </div><div> </div><div><input></div><div><input></div><div><input></div><div><input></div><div> </div></div>\n",
       "<div class=\"mini row\"><div> </div><div> </div><div><input></div><div><input></div><div><input></div><div> </div><div> </div></div>\n",
       "<div class=\"row  row\"><div> </div><div> </div><div> </div><div> </div><div> </div><div> </div><div> </div></div></div><br>\n",
       "<style>\n",
       "    .underline{\n",
       "        border:1px solid black;\n",
       "        width:7em;\n",
       "        margin:auto;\n",
       "    }\n",
       "    .table{\n",
       "        border:2px solid black;\n",
       "        height:7em;\n",
       "        width:9em;\n",
       "        margin:auto;\n",
       "        background-color:white;\n",
       "    }\n",
       "    .row{\n",
       "        width:100%;\n",
       "        height:1em;\n",
       "        display: flex;\n",
       "    }\n",
       "    .row>div{\n",
       "        flex:1;\n",
       "        border-bottom:1px solid black;\n",
       "        border-right:1px solid black;\n",
       "    }\n",
       "    .row>div>input{\n",
       "        all:unset;\n",
       "        width:.9em;\n",
       "        height:.9em;\n",
       "        background-color:rgba(0,255,255,0.2);\n",
       "    }\n",
       "    .mini{\n",
       "        color:red;\n",
       "        font-size: .7em;\n",
       "        height:1.45em;\n",
       "    }\n",
       "    div{\n",
       "        font-family: monospace;\n",
       "    }\n",
       "    span{\n",
       "        font-weight:bold\n",
       "    }\n",
       "</style>\n",
       "    </div>\n",
       "\n",
       "</body>\n",
       "</html>\n",
       "\n",
       "<style>\n",
       "    .mycomps{\n",
       "        color:black;\n",
       "        background-color: #fff8;\n",
       "        --color:aliceblue;\n",
       "        text-align:center;\n",
       "        font-size:1.2em;\n",
       "    }\n",
       "\n",
       "    input{\n",
       "        all:unset;\n",
       "        background:white;\n",
       "        text-align:left;\n",
       "        font-size:1em;\n",
       "        font-family:monospace;\n",
       "    }\n",
       "    svg{\n",
       "        position: absolute;\n",
       "        top:0px;\n",
       "        left:0px;\n",
       "    }\n",
       "    .field{\n",
       "        top:40%;\n",
       "        left:60%;\n",
       "        position: inherit;\n",
       "        border:unset;\n",
       "        width:2em;\n",
       "    }\n",
       "    table, tr, th{\n",
       "        border:1px solid black;\n",
       "    }\n",
       "\n",
       "</style>"
      ],
      "text/plain": [
       "<IPython.core.display.HTML object>"
      ]
     },
     "metadata": {},
     "output_type": "display_data"
    }
   ],
   "source": [
    "comp = '''\n",
    "<p>multipliziere schriftlich mit übertrag</p>\n",
    "'''+tabl(\n",
    "    mkrow(\"       \")+\n",
    "    trow(telm(\" \")+telm('{}')+telm('{}')+telm('{}')+telm('•')+telm('{}')+telm(' '))+\n",
    "    underline+\n",
    "    trow(empty*2+inpt*4+empty)+\n",
    "    mini_red(empty*2+inpt*3+empty*2)+\n",
    "    mkrow(\"       \")\n",
    ")\n",
    "view(comp+schr_add_style)"
   ]
  },
  {
   "cell_type": "code",
   "execution_count": 104,
   "metadata": {},
   "outputs": [],
   "source": [
    "def gen():\n",
    "\n",
    "    # a * b = c\n",
    "\n",
    "    a_len = 3\n",
    "\n",
    "    a = random.randint(10**(a_len-1),10**a_len-1)\n",
    "    b = random.randint(1,9)\n",
    "    c = a * b\n",
    "    a = list(str(a))\n",
    "    b = [str(b)]\n",
    "    p = a+b\n",
    "    s = str(c)\n",
    "\n",
    "    u=[\"0\"]\n",
    "    for i in range(a_len).__reversed__():\n",
    "        com = f\"{a[i]}*{b[0]}\"\n",
    "        z = str(eval(f\"{a[i]}*{b[0]}+{u[-1]}\"))\n",
    "\n",
    "        u.append(z[0])\n",
    "    u = u[1:]\n",
    "    u.reverse()\n",
    "\n",
    "\n",
    "    if len(s)==3:\n",
    "        s = \" \" + s\n",
    "    s = list(s)\n",
    "    s = json.dumps(s + u)\n",
    "\n",
    "    return get_question(comp,s,p,tip,schr_mul_style)"
   ]
  },
  {
   "cell_type": "code",
   "execution_count": 105,
   "metadata": {},
   "outputs": [],
   "source": [
    "browse(gen())"
   ]
  },
  {
   "cell_type": "code",
   "execution_count": 106,
   "metadata": {},
   "outputs": [],
   "source": [
    "q = [gen() for _ in range(50)]"
   ]
  },
  {
   "cell_type": "code",
   "execution_count": 107,
   "metadata": {},
   "outputs": [
    {
     "data": {
      "text/plain": [
       "13"
      ]
     },
     "execution_count": 107,
     "metadata": {},
     "output_type": "execute_result"
    }
   ],
   "source": [
    "collection.add_many(q,15)"
   ]
  },
  {
   "attachments": {},
   "cell_type": "markdown",
   "metadata": {},
   "source": [
    "## schr mul zweistellig"
   ]
  },
  {
   "cell_type": "code",
   "execution_count": 108,
   "metadata": {},
   "outputs": [],
   "source": [
    "big_mul_style = '''<style>\n",
    "    .underline{\n",
    "        border:1px solid black;\n",
    "        width:7em;\n",
    "        margin:auto;\n",
    "    }\n",
    "    .table{\n",
    "        border:2px solid black;\n",
    "        height:7em;\n",
    "        width:8em;\n",
    "        margin:auto;\n",
    "        background-color:white;\n",
    "    }\n",
    "    .row{\n",
    "        width:100%;\n",
    "        height:1em;\n",
    "        display: flex;\n",
    "    }\n",
    "    .row>div{\n",
    "        flex:1;\n",
    "        border-bottom:1px solid black;\n",
    "        border-right:1px solid black;\n",
    "    }\n",
    "    .row>div>input{\n",
    "        all:unset;\n",
    "        width:.9em;\n",
    "        height:.9em;\n",
    "        background-color:rgba(0,255,255,0.2);\n",
    "    }\n",
    "    .mini{\n",
    "        color:red;\n",
    "        font-size: .7em;\n",
    "        height:1.45em;\n",
    "    }\n",
    "    div{\n",
    "        font-family: monospace;\n",
    "    }\n",
    "    span{\n",
    "        font-weight:bold\n",
    "    }\n",
    "</style>'''"
   ]
  },
  {
   "cell_type": "code",
   "execution_count": 109,
   "metadata": {},
   "outputs": [
    {
     "data": {
      "text/html": [
       "\n",
       "<body>\n",
       "    <div class = mycomps>\n",
       "    \n",
       "<p>Ist die zweite Zahl beim schriftlichen Multiplizieren zweistellig rechnest du zuerst mit dem Einer dann mit dem Zehner.</p>\n",
       "<p>Dann addierst du die Ergebnisse</p>\n",
       "<p>483 • 2 = 1766</p>\n",
       "<br><div class=table><div class=row ><div> </div><div> </div><div> </div><div> </div><div> </div><div> </div><div> </div><div> </div></div>\n",
       "<div class=\"row  row\"><div> </div><div>4</div><div>8</div><div>3</div><div>•</div><div>4</div><div>2</div><div> </div></div><div class = underline></div>\n",
       "<div class=\"row  row\"><div> </div><div> </div><div> </div><div> </div><div>9</div><div>6</div><div>6</div><div> </div></div><div class=\"row  row\"><div> </div><div> </div><div> </div><div> </div><div> </div><div> </div><div> </div><div> </div></div><div class=\"mini row\"><div> </div><div> </div><div> </div><div> </div><div> </div><div> </div><div> </div><div> </div></div>\n",
       "<div class = underline></div>\n",
       "<div class=\"row  row\"><div> </div><div> </div><div> </div><div> </div><div> </div><div> </div><div> </div><div> </div></div><div class=\"row  row\"><div> </div><div> </div><div> </div><div> </div><div> </div><div> </div><div> </div><div> </div></div></div><br><p>483 • 4 = 1932<br><div class=table><div class=row ><div> </div><div> </div><div> </div><div> </div><div> </div><div> </div><div> </div><div> </div></div>\n",
       "<div class=\"row  row\"><div> </div><div>4</div><div>8</div><div>3</div><div>•</div><div>4</div><div>2</div><div> </div></div><div class = underline></div>\n",
       "<div class=\"row  row\"><div> </div><div> </div><div> </div><div> </div><div>9</div><div>6</div><div>6</div><div> </div></div><div class=\"row  row\"><div> </div><div> </div><div>1</div><div>9</div><div>3</div><div>2</div><div> </div><div> </div></div><div class=\"mini row\"><div> </div><div> </div><div> </div><div> </div><div> </div><div> </div><div> </div><div> </div></div>\n",
       "<div class = underline></div>\n",
       "<div class=\"row  row\"><div> </div><div> </div><div> </div><div> </div><div> </div><div> </div><div> </div><div> </div></div><div class=\"row  row\"><div> </div><div> </div><div> </div><div> </div><div> </div><div> </div><div> </div><div> </div></div></div><br><p>jetzt die teilergebnisse zusammenrechnen:</p><br><div class=table><div class=row ><div> </div><div> </div><div> </div><div> </div><div> </div><div> </div><div> </div><div> </div></div>\n",
       "<div class=\"row  row\"><div> </div><div>4</div><div>8</div><div>3</div><div>•</div><div>4</div><div>2</div><div> </div></div><div class = underline></div>\n",
       "<div class=\"row  row\"><div> </div><div> </div><div> </div><div> </div><div>9</div><div>6</div><div>6</div><div> </div></div><div class=\"row  row\"><div> </div><div> </div><div>1</div><div>9</div><div>3</div><div>2</div><div> </div><div> </div></div><div class=\"mini row\"><div> </div><div> </div><div> </div><div> </div><div> </div><div> </div><div> </div><div> </div></div>\n",
       "<div class = underline></div>\n",
       "<div class=\"row  row\"><div> </div><div> </div><div>2</div><div>0</div><div>2</div><div>8</div><div>6</div><div> </div></div><div class=\"row  row\"><div> </div><div> </div><div> </div><div> </div><div> </div><div> </div><div> </div><div> </div></div></div><br><style>\n",
       "    .underline{\n",
       "        border:1px solid black;\n",
       "        width:7em;\n",
       "        margin:auto;\n",
       "    }\n",
       "    .table{\n",
       "        border:2px solid black;\n",
       "        height:7em;\n",
       "        width:8em;\n",
       "        margin:auto;\n",
       "        background-color:white;\n",
       "    }\n",
       "    .row{\n",
       "        width:100%;\n",
       "        height:1em;\n",
       "        display: flex;\n",
       "    }\n",
       "    .row>div{\n",
       "        flex:1;\n",
       "        border-bottom:1px solid black;\n",
       "        border-right:1px solid black;\n",
       "    }\n",
       "    .row>div>input{\n",
       "        all:unset;\n",
       "        width:.9em;\n",
       "        height:.9em;\n",
       "        background-color:rgba(0,255,255,0.2);\n",
       "    }\n",
       "    .mini{\n",
       "        color:red;\n",
       "        font-size: .7em;\n",
       "        height:1.45em;\n",
       "    }\n",
       "    div{\n",
       "        font-family: monospace;\n",
       "    }\n",
       "    span{\n",
       "        font-weight:bold\n",
       "    }\n",
       "</style><style>\n",
       "    .underline{\n",
       "        border:1px solid black;\n",
       "        width:7em;\n",
       "        margin:auto;\n",
       "    }\n",
       "    .table{\n",
       "        border:2px solid black;\n",
       "        height:7em;\n",
       "        width:8em;\n",
       "        margin:auto;\n",
       "        background-color:white;\n",
       "    }\n",
       "    .row{\n",
       "        width:100%;\n",
       "        height:1em;\n",
       "        display: flex;\n",
       "    }\n",
       "    .row>div{\n",
       "        flex:1;\n",
       "        border-bottom:1px solid black;\n",
       "        border-right:1px solid black;\n",
       "    }\n",
       "    .row>div>input{\n",
       "        all:unset;\n",
       "        width:.9em;\n",
       "        height:.9em;\n",
       "        background-color:rgba(0,255,255,0.2);\n",
       "    }\n",
       "    .mini{\n",
       "        color:red;\n",
       "        font-size: .7em;\n",
       "        height:1.45em;\n",
       "    }\n",
       "    div{\n",
       "        font-family: monospace;\n",
       "    }\n",
       "    span{\n",
       "        font-weight:bold\n",
       "    }\n",
       "</style>\n",
       "    </div>\n",
       "\n",
       "</body>\n",
       "</html>\n",
       "\n",
       "<style>\n",
       "    .mycomps{\n",
       "        color:black;\n",
       "        background-color: #fff8;\n",
       "        --color:aliceblue;\n",
       "        text-align:center;\n",
       "        font-size:1.2em;\n",
       "    }\n",
       "\n",
       "    input{\n",
       "        all:unset;\n",
       "        background:white;\n",
       "        text-align:left;\n",
       "        font-size:1em;\n",
       "        font-family:monospace;\n",
       "    }\n",
       "    svg{\n",
       "        position: absolute;\n",
       "        top:0px;\n",
       "        left:0px;\n",
       "    }\n",
       "    .field{\n",
       "        top:40%;\n",
       "        left:60%;\n",
       "        position: inherit;\n",
       "        border:unset;\n",
       "        width:2em;\n",
       "    }\n",
       "    table, tr, th{\n",
       "        border:1px solid black;\n",
       "    }\n",
       "\n",
       "</style>"
      ],
      "text/plain": [
       "<IPython.core.display.HTML object>"
      ]
     },
     "metadata": {},
     "output_type": "display_data"
    }
   ],
   "source": [
    "tip = '''\n",
    "<p>Ist die zweite Zahl beim schriftlichen Multiplizieren zweistellig rechnest du zuerst mit dem Einer dann mit dem Zehner.</p>\n",
    "<p>Dann addierst du die Ergebnisse</p>\n",
    "<p>483 • 2 = 1766</p>\n",
    "'''+tabl(\n",
    "    trow(empty*8)+\n",
    "    mkrow(\" 483•42 \")+\n",
    "    underline+\n",
    "    mkrow(\"    966 \")+\n",
    "    mkrow(\"        \")+\n",
    "    mini_red(empty*2+telm(' ')*4+empty*2)+\n",
    "    underline+\n",
    "    mkrow(\"        \")+\n",
    "    mkrow(\"        \")\n",
    ")+'<p>483 • 4 = 1932'+tabl(\n",
    "    trow(empty*8)+\n",
    "    mkrow(\" 483•42 \")+\n",
    "    underline+\n",
    "    mkrow(\"    966 \")+\n",
    "    mkrow(\"  1932  \")+\n",
    "    mini_red(empty*2+telm(' ')*4+empty*2)+\n",
    "    underline+\n",
    "    mkrow(\"        \")+\n",
    "    mkrow(\"        \")\n",
    ")+'<p>jetzt die teilergebnisse zusammenrechnen:</p>'+tabl(\n",
    "    trow(empty*8)+\n",
    "    mkrow(\" 483•42 \")+\n",
    "    underline+\n",
    "    mkrow(\"    966 \")+\n",
    "    mkrow(\"  1932  \")+\n",
    "    mini_red(empty*2+telm(' ')*4+empty*2)+\n",
    "    underline+\n",
    "    mkrow(\"  20286 \")+\n",
    "    mkrow(\"        \")\n",
    ")+big_mul_style\n",
    "\n",
    "view(tip+big_mul_style)"
   ]
  },
  {
   "cell_type": "code",
   "execution_count": 110,
   "metadata": {},
   "outputs": [
    {
     "data": {
      "text/html": [
       "\n",
       "<body>\n",
       "    <div class = mycomps>\n",
       "    multipliziere schriftlich<br><div class=table><div class=row ><div> </div><div> </div><div> </div><div> </div><div> </div><div> </div><div> </div><div> </div></div>\n",
       "<div class=\"row  row\"><div> </div><div>{}</div><div>{}</div><div>{}</div><div>•</div><div>{}</div><div>{}</div><div> </div></div><div class = underline></div>\n",
       "<div class=\"row  row\"><div> </div><div> </div><div> </div><div><input></div><div><input></div><div><input></div><div><input></div><div> </div></div><div class=\"row  row\"><div> </div><div> </div><div><input></div><div><input></div><div><input></div><div><input></div><div> </div><div> </div></div><div class=\"row  row\"><div> </div><div> </div><div> </div><div> </div><div> </div><div> </div><div> </div><div> </div></div><div class = underline></div>\n",
       "<div class=\"row  row\"><div> </div><div><input></div><div><input></div><div><input></div><div><input></div><div><input></div><div><input></div><div> </div></div><div class=\"row  row\"><div> </div><div> </div><div> </div><div> </div><div> </div><div> </div><div> </div><div> </div></div></div><br><style>\n",
       "    .underline{\n",
       "        border:1px solid black;\n",
       "        width:7em;\n",
       "        margin:auto;\n",
       "    }\n",
       "    .table{\n",
       "        border:2px solid black;\n",
       "        height:7em;\n",
       "        width:8em;\n",
       "        margin:auto;\n",
       "        background-color:white;\n",
       "    }\n",
       "    .row{\n",
       "        width:100%;\n",
       "        height:1em;\n",
       "        display: flex;\n",
       "    }\n",
       "    .row>div{\n",
       "        flex:1;\n",
       "        border-bottom:1px solid black;\n",
       "        border-right:1px solid black;\n",
       "    }\n",
       "    .row>div>input{\n",
       "        all:unset;\n",
       "        width:.9em;\n",
       "        height:.9em;\n",
       "        background-color:rgba(0,255,255,0.2);\n",
       "    }\n",
       "    .mini{\n",
       "        color:red;\n",
       "        font-size: .7em;\n",
       "        height:1.45em;\n",
       "    }\n",
       "    div{\n",
       "        font-family: monospace;\n",
       "    }\n",
       "    span{\n",
       "        font-weight:bold\n",
       "    }\n",
       "</style>\n",
       "    </div>\n",
       "\n",
       "</body>\n",
       "</html>\n",
       "\n",
       "<style>\n",
       "    .mycomps{\n",
       "        color:black;\n",
       "        background-color: #fff8;\n",
       "        --color:aliceblue;\n",
       "        text-align:center;\n",
       "        font-size:1.2em;\n",
       "    }\n",
       "\n",
       "    input{\n",
       "        all:unset;\n",
       "        background:white;\n",
       "        text-align:left;\n",
       "        font-size:1em;\n",
       "        font-family:monospace;\n",
       "    }\n",
       "    svg{\n",
       "        position: absolute;\n",
       "        top:0px;\n",
       "        left:0px;\n",
       "    }\n",
       "    .field{\n",
       "        top:40%;\n",
       "        left:60%;\n",
       "        position: inherit;\n",
       "        border:unset;\n",
       "        width:2em;\n",
       "    }\n",
       "    table, tr, th{\n",
       "        border:1px solid black;\n",
       "    }\n",
       "\n",
       "</style>"
      ],
      "text/plain": [
       "<IPython.core.display.HTML object>"
      ]
     },
     "metadata": {},
     "output_type": "display_data"
    }
   ],
   "source": [
    "comp = 'multipliziere schriftlich' + tabl(\n",
    "    trow(empty*8)+\n",
    "    mkrow(\" xxx•xx \").replace(\"x\",\"{}\")+\n",
    "    underline+\n",
    "    mkrow(\"   xxxx \").replace(\"x\",\"<input>\")+\n",
    "    mkrow(\"  xxxx  \").replace(\"x\",\"<input>\")+\n",
    "    mkrow(\"        \")+\n",
    "    underline+\n",
    "    mkrow(\" xxxxxx \").replace(\"x\",\"<input>\")+\n",
    "    mkrow(\"        \")\n",
    ")\n",
    "view(comp+big_mul_style)"
   ]
  },
  {
   "cell_type": "code",
   "execution_count": 111,
   "metadata": {},
   "outputs": [],
   "source": [
    "def gen():\n",
    "\n",
    "    a = random.randint(100,999)\n",
    "    b = random.randint(10,99)\n",
    "    \n",
    "    bz = b//10\n",
    "    be = b%10\n",
    "\n",
    "    c1 = be * a\n",
    "    c2 = bz * a\n",
    "\n",
    "    d = c1 + c2 *10\n",
    "\n",
    "    a=str(a)\n",
    "    b=str(b)\n",
    "    c1=str(c1)\n",
    "    c2=str(c2)\n",
    "    if len(c1)<4:c1 = ' '+c1\n",
    "    if len(c2)<4:c2 = ' '+c2\n",
    "\n",
    "    d = str(d)\n",
    "    if len(d)<5:d = ' '+d\n",
    "    if len(d)<6:d = ' '+d\n",
    "\n",
    "\n",
    "    p = list(a+b)\n",
    "    r = json.dumps(list(c1+c2+d))\n",
    "    \n",
    "    return get_question(comp,r,p,tip,style=big_mul_style)\n",
    "q=gen()"
   ]
  },
  {
   "cell_type": "code",
   "execution_count": 112,
   "metadata": {},
   "outputs": [],
   "source": [
    "browse(q)"
   ]
  },
  {
   "cell_type": "code",
   "execution_count": 113,
   "metadata": {},
   "outputs": [],
   "source": [
    "q = [gen() for _ in range(50)]"
   ]
  },
  {
   "cell_type": "code",
   "execution_count": 114,
   "metadata": {},
   "outputs": [
    {
     "data": {
      "text/plain": [
       "14"
      ]
     },
     "execution_count": 114,
     "metadata": {},
     "output_type": "execute_result"
    }
   ],
   "source": [
    "collection.add_many(q,10)"
   ]
  },
  {
   "cell_type": "markdown",
   "metadata": {},
   "source": [
    "# save"
   ]
  },
  {
   "cell_type": "code",
   "execution_count": 115,
   "metadata": {},
   "outputs": [],
   "source": [
    "save_local_db(db)"
   ]
  }
 ],
 "metadata": {
  "kernelspec": {
   "display_name": "Python 3",
   "language": "python",
   "name": "python3"
  },
  "language_info": {
   "codemirror_mode": {
    "name": "ipython",
    "version": 3
   },
   "file_extension": ".py",
   "mimetype": "text/x-python",
   "name": "python",
   "nbconvert_exporter": "python",
   "pygments_lexer": "ipython3",
   "version": "3.10.9"
  },
  "orig_nbformat": 4,
  "vscode": {
   "interpreter": {
    "hash": "b0fa6594d8f4cbf19f97940f81e996739fb7646882a419484c72d19e05852a7e"
   }
  }
 },
 "nbformat": 4,
 "nbformat_minor": 2
}
