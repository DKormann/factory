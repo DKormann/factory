{
 "cells": [
  {
   "cell_type": "code",
   "execution_count": 3,
   "metadata": {},
   "outputs": [
    {
     "name": "stderr",
     "output_type": "stream",
     "text": [
      "/var/folders/62/b3mcl0hx03v3h_10wfgzffvr0000gn/T/ipykernel_96212/883444918.py:1: DeprecationWarning: Importing display from IPython.core.display is deprecated since IPython 7.14, please import from IPython display\n",
      "  from IPython.core.display import display, HTML\n"
     ]
    }
   ],
   "source": [
    "from IPython.core.display import display, HTML\n",
    "from typing import List,Tuple"
   ]
  },
  {
   "cell_type": "markdown",
   "metadata": {},
   "source": [
    "## svg path to html"
   ]
  },
  {
   "attachments": {},
   "cell_type": "markdown",
   "metadata": {},
   "source": [
    "## use exports"
   ]
  },
  {
   "cell_type": "code",
   "execution_count": 6,
   "metadata": {},
   "outputs": [],
   "source": [
    "def extract_vectorimage(path:str):\n",
    "    f = open(path,'r')\n",
    "    lines = f.readlines()\n",
    "    f.close()\n",
    "    paths = filter(lambda line:line[:4]in ['<pat','<svg','</sv'],lines)\n",
    "    clean = ''.join(paths)\n",
    "    \n",
    "\n",
    "    return clean"
   ]
  },
  {
   "cell_type": "code",
   "execution_count": 7,
   "metadata": {},
   "outputs": [],
   "source": [
    "def export_component(name,content):\n",
    "    f = open('./visual_components/'+name+'.comp','w')\n",
    "    f.write(content)\n",
    "    f.close()"
   ]
  },
  {
   "cell_type": "code",
   "execution_count": 8,
   "metadata": {},
   "outputs": [
    {
     "name": "stderr",
     "output_type": "stream",
     "text": [
      "/Users/peergynt/fun/svelte/monsun/generator/svg_generator.py:2: DeprecationWarning: Importing display from IPython.core.display is deprecated since IPython 7.14, please import from IPython display\n",
      "  from IPython.core.display import display, HTML\n"
     ]
    }
   ],
   "source": [
    "%run svg_generator"
   ]
  },
  {
   "attachments": {},
   "cell_type": "markdown",
   "metadata": {},
   "source": [
    "### stellenwerttafel "
   ]
  },
  {
   "cell_type": "code",
   "execution_count": 9,
   "metadata": {},
   "outputs": [
    {
     "data": {
      "text/html": [
       "\n",
       "<body>\n",
       "    <div class = mycomps>\n",
       "    \n",
       "<p>Zerlege die zahlen und trage sie in die Stellenwerttafel ein</p>\n",
       "<p>{} = <input style=\"width:4.3em\"> + <input style=\"width:3.7em\"> + <input style=\"width:3em\"> + <input style=\"width:2.5em\">+ <input style=\"width:1.9em\"> + <input style=\"width:1.3em\"> + <input style=\"width:.7em\"></p>\n",
       "<div class = \"graphic\" style = \"margin:auto;width:80vw;height:11.510947214650917vw;position:relative\">\n",
       "    <svg height=\"100%\" stroke-miterlimit=\"10\" style=\"fill-rule:nonzero;clip-rule:evenodd;stroke-linecap:round;stroke-linejoin:round;\" version=\"1.1\" viewBox=\"0 0 841.995 121.152\" width=\"100%\" xml:space=\"preserve\" xmlns=\"http://www.w3.org/2000/svg\" xmlns:vectornator=\"http://vectornator.io\" xmlns:xlink=\"http://www.w3.org/1999/xlink\">\n",
       "<path d=\"M279.284 12.5122L562.711 12.5122L562.711 102.231L279.284 102.231L279.284 12.5122Z\" fill=\"none\" opacity=\"1\" stroke=\"#000000\" stroke-linecap=\"round\" stroke-linejoin=\"round\" stroke-width=\"3\"/>\n",
       "<path d=\"M283.618 56.8315L557.17 57.6307\" fill=\"none\" opacity=\"1\" stroke=\"#000000\" stroke-linecap=\"round\" stroke-linejoin=\"round\" stroke-width=\"3\"/>\n",
       "<path d=\"M319.419 25.9677L319.651 87.5203\" fill=\"none\" opacity=\"1\" stroke=\"#000000\" stroke-linecap=\"round\" stroke-linejoin=\"round\" stroke-width=\"3\"/>\n",
       "<path d=\"M360.118 26.7168L359.404 87.4565\" fill=\"none\" opacity=\"1\" stroke=\"#000000\" stroke-linecap=\"round\" stroke-linejoin=\"round\" stroke-width=\"3\"/>\n",
       "<path d=\"M399.609 25.9021L399.79 86.5634\" fill=\"none\" opacity=\"1\" stroke=\"#000000\" stroke-linecap=\"round\" stroke-linejoin=\"round\" stroke-width=\"3\"/>\n",
       "<path d=\"M440.026 25.4336L439.982 86.3173\" fill=\"none\" opacity=\"1\" stroke=\"#000000\" stroke-linecap=\"round\" stroke-linejoin=\"round\" stroke-width=\"3\"/>\n",
       "<path d=\"M480.036 26.4197L480.287 86.2535\" fill=\"none\" opacity=\"1\" stroke=\"#000000\" stroke-linecap=\"round\" stroke-linejoin=\"round\" stroke-width=\"3\"/>\n",
       "<path d=\"M520.423 26.9975L520.028 85.8854\" fill=\"none\" opacity=\"1\" stroke=\"#000000\" stroke-linecap=\"round\" stroke-linejoin=\"round\" stroke-width=\"3\"/>\n",
       "</svg>\n",
       "\n",
       "<input readonly style=\"top:20%;left:34.4%;width:3.1%;position:absolute\" value = \"M\"></input>\n",
       "<input readonly style=\"top:20%;left:39.0%;width:3.1%;position:absolute\" value = \"HT\"></input>\n",
       "<input readonly style=\"top:20%;left:43.8%;width:3.1%;position:absolute\" value = \"ZT\"></input>\n",
       "<input readonly style=\"top:20%;left:48.4%;width:3.1%;position:absolute\" value = \"T\"></input>\n",
       "<input readonly style=\"top:20%;left:53.2%;width:3.1%;position:absolute\" value = \"H\"></input>\n",
       "<input readonly style=\"top:20%;left:58.0%;width:3.1%;position:absolute\" value = \"Z\"></input>\n",
       "<input readonly style=\"top:20%;left:62.7%;width:3.1%;position:absolute\" value = \"E\"></input>\n",
       "\n",
       "\n",
       "<input style=\"top:52%;left:34.4%;width:3%;position:absolute\" ></input>\n",
       "<input style=\"top:52%;left:39.0%;width:3%;position:absolute\" ></input>\n",
       "<input style=\"top:52%;left:43.8%;width:3%;position:absolute\" ></input>\n",
       "<input style=\"top:52%;left:48.4%;width:3%;position:absolute\" ></input>\n",
       "<input style=\"top:52%;left:53.2%;width:3%;position:absolute\" ></input>\n",
       "<input style=\"top:52%;left:58.0%;width:3%;position:absolute\" ></input>\n",
       "<input style=\"top:52%;left:62.7%;width:3%;position:absolute\" ></input>\n",
       "      \n",
       "</div>\n",
       "    </div>\n",
       "\n",
       "</body>\n",
       "</html>\n",
       "\n",
       "<style>\n",
       "    .mycomps{\n",
       "        color:black;\n",
       "        background-color: #fff8;\n",
       "        --color:aliceblue;\n",
       "        text-align:center;\n",
       "        font-size:1.2em;\n",
       "    }\n",
       "\n",
       "    input{\n",
       "        all:unset;\n",
       "        background:white;\n",
       "        text-align:left;\n",
       "        font-size:1em;\n",
       "        font-family:monospace;\n",
       "    }\n",
       "    svg{\n",
       "        position: absolute;\n",
       "        top:0px;\n",
       "        left:0px;\n",
       "    }\n",
       "    .field{\n",
       "        top:40%;\n",
       "        left:60%;\n",
       "        position: inherit;\n",
       "        border:unset;\n",
       "        width:2em;\n",
       "    }\n",
       "    table{\n",
       "        border:1px solid black;\n",
       "    }\n",
       "</style>"
      ],
      "text/plain": [
       "<IPython.core.display.HTML object>"
      ]
     },
     "execution_count": 9,
     "metadata": {},
     "output_type": "execute_result"
    }
   ],
   "source": [
    "a = extract_vectorimage(\"./vector_files/table_2x7x1.svg\")\n",
    "\n",
    "inp = \"\"\"\n",
    "<input readonly style=\"top:20%;left:34.4%;width:3.1%;position:absolute\" value = \"M\"></input>\n",
    "<input readonly style=\"top:20%;left:39.0%;width:3.1%;position:absolute\" value = \"HT\"></input>\n",
    "<input readonly style=\"top:20%;left:43.8%;width:3.1%;position:absolute\" value = \"ZT\"></input>\n",
    "<input readonly style=\"top:20%;left:48.4%;width:3.1%;position:absolute\" value = \"T\"></input>\n",
    "<input readonly style=\"top:20%;left:53.2%;width:3.1%;position:absolute\" value = \"H\"></input>\n",
    "<input readonly style=\"top:20%;left:58.0%;width:3.1%;position:absolute\" value = \"Z\"></input>\n",
    "<input readonly style=\"top:20%;left:62.7%;width:3.1%;position:absolute\" value = \"E\"></input>\n",
    "\n",
    "\n",
    "<input style=\"top:52%;left:34.4%;width:3%;position:absolute\" ></input>\n",
    "<input style=\"top:52%;left:39.0%;width:3%;position:absolute\" ></input>\n",
    "<input style=\"top:52%;left:43.8%;width:3%;position:absolute\" ></input>\n",
    "<input style=\"top:52%;left:48.4%;width:3%;position:absolute\" ></input>\n",
    "<input style=\"top:52%;left:53.2%;width:3%;position:absolute\" ></input>\n",
    "<input style=\"top:52%;left:58.0%;width:3%;position:absolute\" ></input>\n",
    "<input style=\"top:52%;left:62.7%;width:3%;position:absolute\" ></input>\n",
    "\"\"\"\n",
    "a+= inp\n",
    "comp= svg_to_component(a)\n",
    "\n",
    "txt = '''\n",
    "<p>Zerlege die zahlen und trage sie in die Stellenwerttafel ein</p>\n",
    "<p>{} = <input style=\"width:4.3em\"> + <input style=\"width:3.7em\"> + <input style=\"width:3em\"> + <input style=\"width:2.5em\">+ <input style=\"width:1.9em\"> + <input style=\"width:1.3em\"> + <input style=\"width:.7em\"></p>\n",
    "'''\n",
    "\n",
    "comp = txt + comp\n",
    "\n",
    "html = component_to_html(comp)\n",
    "HTML(html)"
   ]
  },
  {
   "cell_type": "code",
   "execution_count": 10,
   "metadata": {},
   "outputs": [],
   "source": [
    "export_component(\"stellenwerttafel\",comp)"
   ]
  },
  {
   "cell_type": "code",
   "execution_count": null,
   "metadata": {},
   "outputs": [],
   "source": []
  }
 ],
 "metadata": {
  "kernelspec": {
   "display_name": "Python 3",
   "language": "python",
   "name": "python3"
  },
  "language_info": {
   "codemirror_mode": {
    "name": "ipython",
    "version": 3
   },
   "file_extension": ".py",
   "mimetype": "text/x-python",
   "name": "python",
   "nbconvert_exporter": "python",
   "pygments_lexer": "ipython3",
   "version": "3.10.9"
  },
  "orig_nbformat": 4,
  "vscode": {
   "interpreter": {
    "hash": "b0fa6594d8f4cbf19f97940f81e996739fb7646882a419484c72d19e05852a7e"
   }
  }
 },
 "nbformat": 4,
 "nbformat_minor": 2
}
